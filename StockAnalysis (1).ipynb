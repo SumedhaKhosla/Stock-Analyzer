{
  "cells": [
    {
      "metadata": {
        "id": "BhcTQOqm9COp"
      },
      "cell_type": "markdown",
      "source": [
        "# Introduction:\n",
        "\n",
        "![](https://media.istockphoto.com/id/1487894858/photo/candlestick-chart-and-data-of-financial-market.jpg?s=1024x1024&w=is&k=20&c=AfDUACB1NMYPpuvEgEgQDUNt2rMuCsPoLnfH0LSYs1s=)\n",
        "\n",
        " In this notebook we explore the dynamics of the Indian stock market, identifying the growing sectors and top performers. Also analyzing the market's stability (3 months)"
      ]
    },
    {
      "metadata": {
        "trusted": true,
        "id": "3E0v0_Ca9COs"
      },
      "cell_type": "code",
      "source": [
        "# building dependencies First\n",
        "! pip install yfinance"
      ],
      "execution_count": null,
      "outputs": []
    },
    {
      "metadata": {
        "trusted": true,
        "colab": {
          "base_uri": "https://localhost:8080/",
          "height": 17
        },
        "id": "eapXwbhT9COt",
        "outputId": "6b88189e-aefd-4865-87f4-9aeac7c507c2"
      },
      "cell_type": "code",
      "source": [
        "# Importing essential Libraries\n",
        "import yfinance as yf\n",
        "import matplotlib.pyplot as plt\n",
        "plt.style.use('ggplot')\n",
        "import numpy as np\n",
        "import pandas as pd\n",
        "import os\n",
        "import plotly.express as px\n",
        "import plotly.graph_objects as go\n",
        "import seaborn as sb\n",
        "import plotly\n",
        "from plotly.offline import plot, iplot, download_plotlyjs, init_notebook_mode\n",
        "init_notebook_mode(connected=True)"
      ],
      "execution_count": 3,
      "outputs": [
        {
          "output_type": "display_data",
          "data": {
            "text/html": [
              "        <script type=\"text/javascript\">\n",
              "        window.PlotlyConfig = {MathJaxConfig: 'local'};\n",
              "        if (window.MathJax && window.MathJax.Hub && window.MathJax.Hub.Config) {window.MathJax.Hub.Config({SVG: {font: \"STIX-Web\"}});}\n",
              "        if (typeof require !== 'undefined') {\n",
              "        require.undef(\"plotly\");\n",
              "        requirejs.config({\n",
              "            paths: {\n",
              "                'plotly': ['https://cdn.plot.ly/plotly-2.24.1.min']\n",
              "            }\n",
              "        });\n",
              "        require(['plotly'], function(Plotly) {\n",
              "            window._Plotly = Plotly;\n",
              "        });\n",
              "        }\n",
              "        </script>\n",
              "        "
            ]
          },
          "metadata": {}
        }
      ]
    },
    {
      "metadata": {
        "id": "HByjFtbh9COu"
      },
      "cell_type": "markdown",
      "source": [
        "# Nifty:\n",
        "\n",
        "The NIFTY 50 is a benchmark Indian stock market index that represents the weighted average of 50 of the largest Indian companies listed on the National Stock Exchange.\n",
        "\n",
        "Nifty will serve as a good starting point to start our Analysis."
      ]
    },
    {
      "metadata": {
        "trusted": true,
        "colab": {
          "base_uri": "https://localhost:8080/",
          "height": 394
        },
        "id": "zBACP4Mq9COv",
        "outputId": "a641c8dc-119b-4e45-bdc8-2d9b987ff6cc"
      },
      "cell_type": "code",
      "source": [
        "# To get data just follow these steps\n",
        "tkrObj = yf.Ticker('^NSEI')\n",
        "\n",
        "# Downloading historical data (3 months)\n",
        "# the returned obj is a pandas data frame\n",
        "data = tkrObj.history(start = '2024-02-01', end = '2024-05-1')\n",
        "data[0:10]"
      ],
      "execution_count": 4,
      "outputs": [
        {
          "output_type": "execute_result",
          "data": {
            "text/plain": [
              "                                   Open          High           Low  \\\n",
              "Date                                                                  \n",
              "2024-02-01 00:00:00+05:30  21780.650391  21832.949219  21658.750000   \n",
              "2024-02-02 00:00:00+05:30  21812.750000  22126.800781  21805.550781   \n",
              "2024-02-05 00:00:00+05:30  21921.050781  21964.300781  21726.949219   \n",
              "2024-02-06 00:00:00+05:30  21825.199219  21951.400391  21737.550781   \n",
              "2024-02-07 00:00:00+05:30  22045.050781  22053.300781  21860.150391   \n",
              "2024-02-08 00:00:00+05:30  22009.650391  22011.050781  21665.300781   \n",
              "2024-02-09 00:00:00+05:30  21727.000000  21804.449219  21629.900391   \n",
              "2024-02-12 00:00:00+05:30  21800.800781  21831.699219  21574.750000   \n",
              "2024-02-13 00:00:00+05:30  21664.300781  21766.800781  21543.349609   \n",
              "2024-02-14 00:00:00+05:30  21578.150391  21870.849609  21530.199219   \n",
              "\n",
              "                                  Close  Volume  Dividends  Stock Splits  \n",
              "Date                                                                      \n",
              "2024-02-01 00:00:00+05:30  21697.449219  332500        0.0           0.0  \n",
              "2024-02-02 00:00:00+05:30  21853.800781  442800        0.0           0.0  \n",
              "2024-02-05 00:00:00+05:30  21771.699219  440800        0.0           0.0  \n",
              "2024-02-06 00:00:00+05:30  21929.400391  371000        0.0           0.0  \n",
              "2024-02-07 00:00:00+05:30  21930.500000  346300        0.0           0.0  \n",
              "2024-02-08 00:00:00+05:30  21717.949219  491100        0.0           0.0  \n",
              "2024-02-09 00:00:00+05:30  21782.500000  349200        0.0           0.0  \n",
              "2024-02-12 00:00:00+05:30  21616.050781  287400        0.0           0.0  \n",
              "2024-02-13 00:00:00+05:30  21743.250000  365800        0.0           0.0  \n",
              "2024-02-14 00:00:00+05:30  21840.050781  359100        0.0           0.0  "
            ],
            "text/html": [
              "\n",
              "  <div id=\"df-22eae41c-587b-4c16-892a-9bccb09759ec\" class=\"colab-df-container\">\n",
              "    <div>\n",
              "<style scoped>\n",
              "    .dataframe tbody tr th:only-of-type {\n",
              "        vertical-align: middle;\n",
              "    }\n",
              "\n",
              "    .dataframe tbody tr th {\n",
              "        vertical-align: top;\n",
              "    }\n",
              "\n",
              "    .dataframe thead th {\n",
              "        text-align: right;\n",
              "    }\n",
              "</style>\n",
              "<table border=\"1\" class=\"dataframe\">\n",
              "  <thead>\n",
              "    <tr style=\"text-align: right;\">\n",
              "      <th></th>\n",
              "      <th>Open</th>\n",
              "      <th>High</th>\n",
              "      <th>Low</th>\n",
              "      <th>Close</th>\n",
              "      <th>Volume</th>\n",
              "      <th>Dividends</th>\n",
              "      <th>Stock Splits</th>\n",
              "    </tr>\n",
              "    <tr>\n",
              "      <th>Date</th>\n",
              "      <th></th>\n",
              "      <th></th>\n",
              "      <th></th>\n",
              "      <th></th>\n",
              "      <th></th>\n",
              "      <th></th>\n",
              "      <th></th>\n",
              "    </tr>\n",
              "  </thead>\n",
              "  <tbody>\n",
              "    <tr>\n",
              "      <th>2024-02-01 00:00:00+05:30</th>\n",
              "      <td>21780.650391</td>\n",
              "      <td>21832.949219</td>\n",
              "      <td>21658.750000</td>\n",
              "      <td>21697.449219</td>\n",
              "      <td>332500</td>\n",
              "      <td>0.0</td>\n",
              "      <td>0.0</td>\n",
              "    </tr>\n",
              "    <tr>\n",
              "      <th>2024-02-02 00:00:00+05:30</th>\n",
              "      <td>21812.750000</td>\n",
              "      <td>22126.800781</td>\n",
              "      <td>21805.550781</td>\n",
              "      <td>21853.800781</td>\n",
              "      <td>442800</td>\n",
              "      <td>0.0</td>\n",
              "      <td>0.0</td>\n",
              "    </tr>\n",
              "    <tr>\n",
              "      <th>2024-02-05 00:00:00+05:30</th>\n",
              "      <td>21921.050781</td>\n",
              "      <td>21964.300781</td>\n",
              "      <td>21726.949219</td>\n",
              "      <td>21771.699219</td>\n",
              "      <td>440800</td>\n",
              "      <td>0.0</td>\n",
              "      <td>0.0</td>\n",
              "    </tr>\n",
              "    <tr>\n",
              "      <th>2024-02-06 00:00:00+05:30</th>\n",
              "      <td>21825.199219</td>\n",
              "      <td>21951.400391</td>\n",
              "      <td>21737.550781</td>\n",
              "      <td>21929.400391</td>\n",
              "      <td>371000</td>\n",
              "      <td>0.0</td>\n",
              "      <td>0.0</td>\n",
              "    </tr>\n",
              "    <tr>\n",
              "      <th>2024-02-07 00:00:00+05:30</th>\n",
              "      <td>22045.050781</td>\n",
              "      <td>22053.300781</td>\n",
              "      <td>21860.150391</td>\n",
              "      <td>21930.500000</td>\n",
              "      <td>346300</td>\n",
              "      <td>0.0</td>\n",
              "      <td>0.0</td>\n",
              "    </tr>\n",
              "    <tr>\n",
              "      <th>2024-02-08 00:00:00+05:30</th>\n",
              "      <td>22009.650391</td>\n",
              "      <td>22011.050781</td>\n",
              "      <td>21665.300781</td>\n",
              "      <td>21717.949219</td>\n",
              "      <td>491100</td>\n",
              "      <td>0.0</td>\n",
              "      <td>0.0</td>\n",
              "    </tr>\n",
              "    <tr>\n",
              "      <th>2024-02-09 00:00:00+05:30</th>\n",
              "      <td>21727.000000</td>\n",
              "      <td>21804.449219</td>\n",
              "      <td>21629.900391</td>\n",
              "      <td>21782.500000</td>\n",
              "      <td>349200</td>\n",
              "      <td>0.0</td>\n",
              "      <td>0.0</td>\n",
              "    </tr>\n",
              "    <tr>\n",
              "      <th>2024-02-12 00:00:00+05:30</th>\n",
              "      <td>21800.800781</td>\n",
              "      <td>21831.699219</td>\n",
              "      <td>21574.750000</td>\n",
              "      <td>21616.050781</td>\n",
              "      <td>287400</td>\n",
              "      <td>0.0</td>\n",
              "      <td>0.0</td>\n",
              "    </tr>\n",
              "    <tr>\n",
              "      <th>2024-02-13 00:00:00+05:30</th>\n",
              "      <td>21664.300781</td>\n",
              "      <td>21766.800781</td>\n",
              "      <td>21543.349609</td>\n",
              "      <td>21743.250000</td>\n",
              "      <td>365800</td>\n",
              "      <td>0.0</td>\n",
              "      <td>0.0</td>\n",
              "    </tr>\n",
              "    <tr>\n",
              "      <th>2024-02-14 00:00:00+05:30</th>\n",
              "      <td>21578.150391</td>\n",
              "      <td>21870.849609</td>\n",
              "      <td>21530.199219</td>\n",
              "      <td>21840.050781</td>\n",
              "      <td>359100</td>\n",
              "      <td>0.0</td>\n",
              "      <td>0.0</td>\n",
              "    </tr>\n",
              "  </tbody>\n",
              "</table>\n",
              "</div>\n",
              "    <div class=\"colab-df-buttons\">\n",
              "\n",
              "  <div class=\"colab-df-container\">\n",
              "    <button class=\"colab-df-convert\" onclick=\"convertToInteractive('df-22eae41c-587b-4c16-892a-9bccb09759ec')\"\n",
              "            title=\"Convert this dataframe to an interactive table.\"\n",
              "            style=\"display:none;\">\n",
              "\n",
              "  <svg xmlns=\"http://www.w3.org/2000/svg\" height=\"24px\" viewBox=\"0 -960 960 960\">\n",
              "    <path d=\"M120-120v-720h720v720H120Zm60-500h600v-160H180v160Zm220 220h160v-160H400v160Zm0 220h160v-160H400v160ZM180-400h160v-160H180v160Zm440 0h160v-160H620v160ZM180-180h160v-160H180v160Zm440 0h160v-160H620v160Z\"/>\n",
              "  </svg>\n",
              "    </button>\n",
              "\n",
              "  <style>\n",
              "    .colab-df-container {\n",
              "      display:flex;\n",
              "      gap: 12px;\n",
              "    }\n",
              "\n",
              "    .colab-df-convert {\n",
              "      background-color: #E8F0FE;\n",
              "      border: none;\n",
              "      border-radius: 50%;\n",
              "      cursor: pointer;\n",
              "      display: none;\n",
              "      fill: #1967D2;\n",
              "      height: 32px;\n",
              "      padding: 0 0 0 0;\n",
              "      width: 32px;\n",
              "    }\n",
              "\n",
              "    .colab-df-convert:hover {\n",
              "      background-color: #E2EBFA;\n",
              "      box-shadow: 0px 1px 2px rgba(60, 64, 67, 0.3), 0px 1px 3px 1px rgba(60, 64, 67, 0.15);\n",
              "      fill: #174EA6;\n",
              "    }\n",
              "\n",
              "    .colab-df-buttons div {\n",
              "      margin-bottom: 4px;\n",
              "    }\n",
              "\n",
              "    [theme=dark] .colab-df-convert {\n",
              "      background-color: #3B4455;\n",
              "      fill: #D2E3FC;\n",
              "    }\n",
              "\n",
              "    [theme=dark] .colab-df-convert:hover {\n",
              "      background-color: #434B5C;\n",
              "      box-shadow: 0px 1px 3px 1px rgba(0, 0, 0, 0.15);\n",
              "      filter: drop-shadow(0px 1px 2px rgba(0, 0, 0, 0.3));\n",
              "      fill: #FFFFFF;\n",
              "    }\n",
              "  </style>\n",
              "\n",
              "    <script>\n",
              "      const buttonEl =\n",
              "        document.querySelector('#df-22eae41c-587b-4c16-892a-9bccb09759ec button.colab-df-convert');\n",
              "      buttonEl.style.display =\n",
              "        google.colab.kernel.accessAllowed ? 'block' : 'none';\n",
              "\n",
              "      async function convertToInteractive(key) {\n",
              "        const element = document.querySelector('#df-22eae41c-587b-4c16-892a-9bccb09759ec');\n",
              "        const dataTable =\n",
              "          await google.colab.kernel.invokeFunction('convertToInteractive',\n",
              "                                                    [key], {});\n",
              "        if (!dataTable) return;\n",
              "\n",
              "        const docLinkHtml = 'Like what you see? Visit the ' +\n",
              "          '<a target=\"_blank\" href=https://colab.research.google.com/notebooks/data_table.ipynb>data table notebook</a>'\n",
              "          + ' to learn more about interactive tables.';\n",
              "        element.innerHTML = '';\n",
              "        dataTable['output_type'] = 'display_data';\n",
              "        await google.colab.output.renderOutput(dataTable, element);\n",
              "        const docLink = document.createElement('div');\n",
              "        docLink.innerHTML = docLinkHtml;\n",
              "        element.appendChild(docLink);\n",
              "      }\n",
              "    </script>\n",
              "  </div>\n",
              "\n",
              "\n",
              "<div id=\"df-b9ef4484-cacb-4d85-8ffc-ac3a113a3573\">\n",
              "  <button class=\"colab-df-quickchart\" onclick=\"quickchart('df-b9ef4484-cacb-4d85-8ffc-ac3a113a3573')\"\n",
              "            title=\"Suggest charts\"\n",
              "            style=\"display:none;\">\n",
              "\n",
              "<svg xmlns=\"http://www.w3.org/2000/svg\" height=\"24px\"viewBox=\"0 0 24 24\"\n",
              "     width=\"24px\">\n",
              "    <g>\n",
              "        <path d=\"M19 3H5c-1.1 0-2 .9-2 2v14c0 1.1.9 2 2 2h14c1.1 0 2-.9 2-2V5c0-1.1-.9-2-2-2zM9 17H7v-7h2v7zm4 0h-2V7h2v10zm4 0h-2v-4h2v4z\"/>\n",
              "    </g>\n",
              "</svg>\n",
              "  </button>\n",
              "\n",
              "<style>\n",
              "  .colab-df-quickchart {\n",
              "      --bg-color: #E8F0FE;\n",
              "      --fill-color: #1967D2;\n",
              "      --hover-bg-color: #E2EBFA;\n",
              "      --hover-fill-color: #174EA6;\n",
              "      --disabled-fill-color: #AAA;\n",
              "      --disabled-bg-color: #DDD;\n",
              "  }\n",
              "\n",
              "  [theme=dark] .colab-df-quickchart {\n",
              "      --bg-color: #3B4455;\n",
              "      --fill-color: #D2E3FC;\n",
              "      --hover-bg-color: #434B5C;\n",
              "      --hover-fill-color: #FFFFFF;\n",
              "      --disabled-bg-color: #3B4455;\n",
              "      --disabled-fill-color: #666;\n",
              "  }\n",
              "\n",
              "  .colab-df-quickchart {\n",
              "    background-color: var(--bg-color);\n",
              "    border: none;\n",
              "    border-radius: 50%;\n",
              "    cursor: pointer;\n",
              "    display: none;\n",
              "    fill: var(--fill-color);\n",
              "    height: 32px;\n",
              "    padding: 0;\n",
              "    width: 32px;\n",
              "  }\n",
              "\n",
              "  .colab-df-quickchart:hover {\n",
              "    background-color: var(--hover-bg-color);\n",
              "    box-shadow: 0 1px 2px rgba(60, 64, 67, 0.3), 0 1px 3px 1px rgba(60, 64, 67, 0.15);\n",
              "    fill: var(--button-hover-fill-color);\n",
              "  }\n",
              "\n",
              "  .colab-df-quickchart-complete:disabled,\n",
              "  .colab-df-quickchart-complete:disabled:hover {\n",
              "    background-color: var(--disabled-bg-color);\n",
              "    fill: var(--disabled-fill-color);\n",
              "    box-shadow: none;\n",
              "  }\n",
              "\n",
              "  .colab-df-spinner {\n",
              "    border: 2px solid var(--fill-color);\n",
              "    border-color: transparent;\n",
              "    border-bottom-color: var(--fill-color);\n",
              "    animation:\n",
              "      spin 1s steps(1) infinite;\n",
              "  }\n",
              "\n",
              "  @keyframes spin {\n",
              "    0% {\n",
              "      border-color: transparent;\n",
              "      border-bottom-color: var(--fill-color);\n",
              "      border-left-color: var(--fill-color);\n",
              "    }\n",
              "    20% {\n",
              "      border-color: transparent;\n",
              "      border-left-color: var(--fill-color);\n",
              "      border-top-color: var(--fill-color);\n",
              "    }\n",
              "    30% {\n",
              "      border-color: transparent;\n",
              "      border-left-color: var(--fill-color);\n",
              "      border-top-color: var(--fill-color);\n",
              "      border-right-color: var(--fill-color);\n",
              "    }\n",
              "    40% {\n",
              "      border-color: transparent;\n",
              "      border-right-color: var(--fill-color);\n",
              "      border-top-color: var(--fill-color);\n",
              "    }\n",
              "    60% {\n",
              "      border-color: transparent;\n",
              "      border-right-color: var(--fill-color);\n",
              "    }\n",
              "    80% {\n",
              "      border-color: transparent;\n",
              "      border-right-color: var(--fill-color);\n",
              "      border-bottom-color: var(--fill-color);\n",
              "    }\n",
              "    90% {\n",
              "      border-color: transparent;\n",
              "      border-bottom-color: var(--fill-color);\n",
              "    }\n",
              "  }\n",
              "</style>\n",
              "\n",
              "  <script>\n",
              "    async function quickchart(key) {\n",
              "      const quickchartButtonEl =\n",
              "        document.querySelector('#' + key + ' button');\n",
              "      quickchartButtonEl.disabled = true;  // To prevent multiple clicks.\n",
              "      quickchartButtonEl.classList.add('colab-df-spinner');\n",
              "      try {\n",
              "        const charts = await google.colab.kernel.invokeFunction(\n",
              "            'suggestCharts', [key], {});\n",
              "      } catch (error) {\n",
              "        console.error('Error during call to suggestCharts:', error);\n",
              "      }\n",
              "      quickchartButtonEl.classList.remove('colab-df-spinner');\n",
              "      quickchartButtonEl.classList.add('colab-df-quickchart-complete');\n",
              "    }\n",
              "    (() => {\n",
              "      let quickchartButtonEl =\n",
              "        document.querySelector('#df-b9ef4484-cacb-4d85-8ffc-ac3a113a3573 button');\n",
              "      quickchartButtonEl.style.display =\n",
              "        google.colab.kernel.accessAllowed ? 'block' : 'none';\n",
              "    })();\n",
              "  </script>\n",
              "</div>\n",
              "\n",
              "    </div>\n",
              "  </div>\n"
            ],
            "application/vnd.google.colaboratory.intrinsic+json": {
              "type": "dataframe",
              "summary": "{\n  \"name\": \"data[0:10]\",\n  \"rows\": 10,\n  \"fields\": [\n    {\n      \"column\": \"Date\",\n      \"properties\": {\n        \"dtype\": \"date\",\n        \"min\": \"2024-02-01 00:00:00+05:30\",\n        \"max\": \"2024-02-14 00:00:00+05:30\",\n        \"num_unique_values\": 10,\n        \"samples\": [\n          \"2024-02-13 00:00:00+05:30\",\n          \"2024-02-02 00:00:00+05:30\",\n          \"2024-02-08 00:00:00+05:30\"\n        ],\n        \"semantic_type\": \"\",\n        \"description\": \"\"\n      }\n    },\n    {\n      \"column\": \"Open\",\n      \"properties\": {\n        \"dtype\": \"number\",\n        \"std\": 145.32728217313158,\n        \"min\": 21578.150390625,\n        \"max\": 22045.05078125,\n        \"num_unique_values\": 10,\n        \"samples\": [\n          21664.30078125,\n          21812.75,\n          22009.650390625\n        ],\n        \"semantic_type\": \"\",\n        \"description\": \"\"\n      }\n    },\n    {\n      \"column\": \"High\",\n      \"properties\": {\n        \"dtype\": \"number\",\n        \"std\": 118.4945196723865,\n        \"min\": 21766.80078125,\n        \"max\": 22126.80078125,\n        \"num_unique_values\": 10,\n        \"samples\": [\n          21766.80078125,\n          22126.80078125,\n          22011.05078125\n        ],\n        \"semantic_type\": \"\",\n        \"description\": \"\"\n      }\n    },\n    {\n      \"column\": \"Low\",\n      \"properties\": {\n        \"dtype\": \"number\",\n        \"std\": 109.87162472272581,\n        \"min\": 21530.19921875,\n        \"max\": 21860.150390625,\n        \"num_unique_values\": 10,\n        \"samples\": [\n          21543.349609375,\n          21805.55078125,\n          21665.30078125\n        ],\n        \"semantic_type\": \"\",\n        \"description\": \"\"\n      }\n    },\n    {\n      \"column\": \"Close\",\n      \"properties\": {\n        \"dtype\": \"number\",\n        \"std\": 101.27534656158274,\n        \"min\": 21616.05078125,\n        \"max\": 21930.5,\n        \"num_unique_values\": 10,\n        \"samples\": [\n          21743.25,\n          21853.80078125,\n          21717.94921875\n        ],\n        \"semantic_type\": \"\",\n        \"description\": \"\"\n      }\n    },\n    {\n      \"column\": \"Volume\",\n      \"properties\": {\n        \"dtype\": \"number\",\n        \"std\": 61099,\n        \"min\": 287400,\n        \"max\": 491100,\n        \"num_unique_values\": 10,\n        \"samples\": [\n          365800,\n          442800,\n          491100\n        ],\n        \"semantic_type\": \"\",\n        \"description\": \"\"\n      }\n    },\n    {\n      \"column\": \"Dividends\",\n      \"properties\": {\n        \"dtype\": \"number\",\n        \"std\": 0.0,\n        \"min\": 0.0,\n        \"max\": 0.0,\n        \"num_unique_values\": 1,\n        \"samples\": [\n          0.0\n        ],\n        \"semantic_type\": \"\",\n        \"description\": \"\"\n      }\n    },\n    {\n      \"column\": \"Stock Splits\",\n      \"properties\": {\n        \"dtype\": \"number\",\n        \"std\": 0.0,\n        \"min\": 0.0,\n        \"max\": 0.0,\n        \"num_unique_values\": 1,\n        \"samples\": [\n          0.0\n        ],\n        \"semantic_type\": \"\",\n        \"description\": \"\"\n      }\n    }\n  ]\n}"
            }
          },
          "metadata": {},
          "execution_count": 4
        }
      ]
    },
    {
      "metadata": {
        "id": "Wc8yUF8A9COv"
      },
      "cell_type": "markdown",
      "source": [
        "# Making Analysis Easy:\n",
        "\n",
        "To make our Analysis a bit easy we will be considering Net gains for ie Close - Open and % gain i.e (Close - Open)/Close * 100"
      ]
    },
    {
      "metadata": {
        "trusted": true,
        "colab": {
          "base_uri": "https://localhost:8080/",
          "height": 394
        },
        "id": "6vqi6oQg9COv",
        "outputId": "82f94829-12e7-45c3-a791-9d4e6ef17b9e"
      },
      "cell_type": "code",
      "source": [
        "data['Gains'] = data['Close'] - data['Open']\n",
        "data['PercentageGain'] = ((data['Close'] - data['Open'])/ data['Open']) * 100\n",
        "\n",
        "data[0:10]"
      ],
      "execution_count": 5,
      "outputs": [
        {
          "output_type": "execute_result",
          "data": {
            "text/plain": [
              "                                   Open          High           Low  \\\n",
              "Date                                                                  \n",
              "2024-02-01 00:00:00+05:30  21780.650391  21832.949219  21658.750000   \n",
              "2024-02-02 00:00:00+05:30  21812.750000  22126.800781  21805.550781   \n",
              "2024-02-05 00:00:00+05:30  21921.050781  21964.300781  21726.949219   \n",
              "2024-02-06 00:00:00+05:30  21825.199219  21951.400391  21737.550781   \n",
              "2024-02-07 00:00:00+05:30  22045.050781  22053.300781  21860.150391   \n",
              "2024-02-08 00:00:00+05:30  22009.650391  22011.050781  21665.300781   \n",
              "2024-02-09 00:00:00+05:30  21727.000000  21804.449219  21629.900391   \n",
              "2024-02-12 00:00:00+05:30  21800.800781  21831.699219  21574.750000   \n",
              "2024-02-13 00:00:00+05:30  21664.300781  21766.800781  21543.349609   \n",
              "2024-02-14 00:00:00+05:30  21578.150391  21870.849609  21530.199219   \n",
              "\n",
              "                                  Close  Volume  Dividends  Stock Splits  \\\n",
              "Date                                                                       \n",
              "2024-02-01 00:00:00+05:30  21697.449219  332500        0.0           0.0   \n",
              "2024-02-02 00:00:00+05:30  21853.800781  442800        0.0           0.0   \n",
              "2024-02-05 00:00:00+05:30  21771.699219  440800        0.0           0.0   \n",
              "2024-02-06 00:00:00+05:30  21929.400391  371000        0.0           0.0   \n",
              "2024-02-07 00:00:00+05:30  21930.500000  346300        0.0           0.0   \n",
              "2024-02-08 00:00:00+05:30  21717.949219  491100        0.0           0.0   \n",
              "2024-02-09 00:00:00+05:30  21782.500000  349200        0.0           0.0   \n",
              "2024-02-12 00:00:00+05:30  21616.050781  287400        0.0           0.0   \n",
              "2024-02-13 00:00:00+05:30  21743.250000  365800        0.0           0.0   \n",
              "2024-02-14 00:00:00+05:30  21840.050781  359100        0.0           0.0   \n",
              "\n",
              "                                Gains  PercentageGain  \n",
              "Date                                                   \n",
              "2024-02-01 00:00:00+05:30  -83.201172       -0.381996  \n",
              "2024-02-02 00:00:00+05:30   41.050781        0.188196  \n",
              "2024-02-05 00:00:00+05:30 -149.351562       -0.681316  \n",
              "2024-02-06 00:00:00+05:30  104.201172        0.477435  \n",
              "2024-02-07 00:00:00+05:30 -114.550781       -0.519621  \n",
              "2024-02-08 00:00:00+05:30 -291.701172       -1.325333  \n",
              "2024-02-09 00:00:00+05:30   55.500000        0.255443  \n",
              "2024-02-12 00:00:00+05:30 -184.750000       -0.847446  \n",
              "2024-02-13 00:00:00+05:30   78.949219        0.364421  \n",
              "2024-02-14 00:00:00+05:30  261.900391        1.213730  "
            ],
            "text/html": [
              "\n",
              "  <div id=\"df-a7dcea9e-086a-4bff-9d51-8af0bcc0fbf4\" class=\"colab-df-container\">\n",
              "    <div>\n",
              "<style scoped>\n",
              "    .dataframe tbody tr th:only-of-type {\n",
              "        vertical-align: middle;\n",
              "    }\n",
              "\n",
              "    .dataframe tbody tr th {\n",
              "        vertical-align: top;\n",
              "    }\n",
              "\n",
              "    .dataframe thead th {\n",
              "        text-align: right;\n",
              "    }\n",
              "</style>\n",
              "<table border=\"1\" class=\"dataframe\">\n",
              "  <thead>\n",
              "    <tr style=\"text-align: right;\">\n",
              "      <th></th>\n",
              "      <th>Open</th>\n",
              "      <th>High</th>\n",
              "      <th>Low</th>\n",
              "      <th>Close</th>\n",
              "      <th>Volume</th>\n",
              "      <th>Dividends</th>\n",
              "      <th>Stock Splits</th>\n",
              "      <th>Gains</th>\n",
              "      <th>PercentageGain</th>\n",
              "    </tr>\n",
              "    <tr>\n",
              "      <th>Date</th>\n",
              "      <th></th>\n",
              "      <th></th>\n",
              "      <th></th>\n",
              "      <th></th>\n",
              "      <th></th>\n",
              "      <th></th>\n",
              "      <th></th>\n",
              "      <th></th>\n",
              "      <th></th>\n",
              "    </tr>\n",
              "  </thead>\n",
              "  <tbody>\n",
              "    <tr>\n",
              "      <th>2024-02-01 00:00:00+05:30</th>\n",
              "      <td>21780.650391</td>\n",
              "      <td>21832.949219</td>\n",
              "      <td>21658.750000</td>\n",
              "      <td>21697.449219</td>\n",
              "      <td>332500</td>\n",
              "      <td>0.0</td>\n",
              "      <td>0.0</td>\n",
              "      <td>-83.201172</td>\n",
              "      <td>-0.381996</td>\n",
              "    </tr>\n",
              "    <tr>\n",
              "      <th>2024-02-02 00:00:00+05:30</th>\n",
              "      <td>21812.750000</td>\n",
              "      <td>22126.800781</td>\n",
              "      <td>21805.550781</td>\n",
              "      <td>21853.800781</td>\n",
              "      <td>442800</td>\n",
              "      <td>0.0</td>\n",
              "      <td>0.0</td>\n",
              "      <td>41.050781</td>\n",
              "      <td>0.188196</td>\n",
              "    </tr>\n",
              "    <tr>\n",
              "      <th>2024-02-05 00:00:00+05:30</th>\n",
              "      <td>21921.050781</td>\n",
              "      <td>21964.300781</td>\n",
              "      <td>21726.949219</td>\n",
              "      <td>21771.699219</td>\n",
              "      <td>440800</td>\n",
              "      <td>0.0</td>\n",
              "      <td>0.0</td>\n",
              "      <td>-149.351562</td>\n",
              "      <td>-0.681316</td>\n",
              "    </tr>\n",
              "    <tr>\n",
              "      <th>2024-02-06 00:00:00+05:30</th>\n",
              "      <td>21825.199219</td>\n",
              "      <td>21951.400391</td>\n",
              "      <td>21737.550781</td>\n",
              "      <td>21929.400391</td>\n",
              "      <td>371000</td>\n",
              "      <td>0.0</td>\n",
              "      <td>0.0</td>\n",
              "      <td>104.201172</td>\n",
              "      <td>0.477435</td>\n",
              "    </tr>\n",
              "    <tr>\n",
              "      <th>2024-02-07 00:00:00+05:30</th>\n",
              "      <td>22045.050781</td>\n",
              "      <td>22053.300781</td>\n",
              "      <td>21860.150391</td>\n",
              "      <td>21930.500000</td>\n",
              "      <td>346300</td>\n",
              "      <td>0.0</td>\n",
              "      <td>0.0</td>\n",
              "      <td>-114.550781</td>\n",
              "      <td>-0.519621</td>\n",
              "    </tr>\n",
              "    <tr>\n",
              "      <th>2024-02-08 00:00:00+05:30</th>\n",
              "      <td>22009.650391</td>\n",
              "      <td>22011.050781</td>\n",
              "      <td>21665.300781</td>\n",
              "      <td>21717.949219</td>\n",
              "      <td>491100</td>\n",
              "      <td>0.0</td>\n",
              "      <td>0.0</td>\n",
              "      <td>-291.701172</td>\n",
              "      <td>-1.325333</td>\n",
              "    </tr>\n",
              "    <tr>\n",
              "      <th>2024-02-09 00:00:00+05:30</th>\n",
              "      <td>21727.000000</td>\n",
              "      <td>21804.449219</td>\n",
              "      <td>21629.900391</td>\n",
              "      <td>21782.500000</td>\n",
              "      <td>349200</td>\n",
              "      <td>0.0</td>\n",
              "      <td>0.0</td>\n",
              "      <td>55.500000</td>\n",
              "      <td>0.255443</td>\n",
              "    </tr>\n",
              "    <tr>\n",
              "      <th>2024-02-12 00:00:00+05:30</th>\n",
              "      <td>21800.800781</td>\n",
              "      <td>21831.699219</td>\n",
              "      <td>21574.750000</td>\n",
              "      <td>21616.050781</td>\n",
              "      <td>287400</td>\n",
              "      <td>0.0</td>\n",
              "      <td>0.0</td>\n",
              "      <td>-184.750000</td>\n",
              "      <td>-0.847446</td>\n",
              "    </tr>\n",
              "    <tr>\n",
              "      <th>2024-02-13 00:00:00+05:30</th>\n",
              "      <td>21664.300781</td>\n",
              "      <td>21766.800781</td>\n",
              "      <td>21543.349609</td>\n",
              "      <td>21743.250000</td>\n",
              "      <td>365800</td>\n",
              "      <td>0.0</td>\n",
              "      <td>0.0</td>\n",
              "      <td>78.949219</td>\n",
              "      <td>0.364421</td>\n",
              "    </tr>\n",
              "    <tr>\n",
              "      <th>2024-02-14 00:00:00+05:30</th>\n",
              "      <td>21578.150391</td>\n",
              "      <td>21870.849609</td>\n",
              "      <td>21530.199219</td>\n",
              "      <td>21840.050781</td>\n",
              "      <td>359100</td>\n",
              "      <td>0.0</td>\n",
              "      <td>0.0</td>\n",
              "      <td>261.900391</td>\n",
              "      <td>1.213730</td>\n",
              "    </tr>\n",
              "  </tbody>\n",
              "</table>\n",
              "</div>\n",
              "    <div class=\"colab-df-buttons\">\n",
              "\n",
              "  <div class=\"colab-df-container\">\n",
              "    <button class=\"colab-df-convert\" onclick=\"convertToInteractive('df-a7dcea9e-086a-4bff-9d51-8af0bcc0fbf4')\"\n",
              "            title=\"Convert this dataframe to an interactive table.\"\n",
              "            style=\"display:none;\">\n",
              "\n",
              "  <svg xmlns=\"http://www.w3.org/2000/svg\" height=\"24px\" viewBox=\"0 -960 960 960\">\n",
              "    <path d=\"M120-120v-720h720v720H120Zm60-500h600v-160H180v160Zm220 220h160v-160H400v160Zm0 220h160v-160H400v160ZM180-400h160v-160H180v160Zm440 0h160v-160H620v160ZM180-180h160v-160H180v160Zm440 0h160v-160H620v160Z\"/>\n",
              "  </svg>\n",
              "    </button>\n",
              "\n",
              "  <style>\n",
              "    .colab-df-container {\n",
              "      display:flex;\n",
              "      gap: 12px;\n",
              "    }\n",
              "\n",
              "    .colab-df-convert {\n",
              "      background-color: #E8F0FE;\n",
              "      border: none;\n",
              "      border-radius: 50%;\n",
              "      cursor: pointer;\n",
              "      display: none;\n",
              "      fill: #1967D2;\n",
              "      height: 32px;\n",
              "      padding: 0 0 0 0;\n",
              "      width: 32px;\n",
              "    }\n",
              "\n",
              "    .colab-df-convert:hover {\n",
              "      background-color: #E2EBFA;\n",
              "      box-shadow: 0px 1px 2px rgba(60, 64, 67, 0.3), 0px 1px 3px 1px rgba(60, 64, 67, 0.15);\n",
              "      fill: #174EA6;\n",
              "    }\n",
              "\n",
              "    .colab-df-buttons div {\n",
              "      margin-bottom: 4px;\n",
              "    }\n",
              "\n",
              "    [theme=dark] .colab-df-convert {\n",
              "      background-color: #3B4455;\n",
              "      fill: #D2E3FC;\n",
              "    }\n",
              "\n",
              "    [theme=dark] .colab-df-convert:hover {\n",
              "      background-color: #434B5C;\n",
              "      box-shadow: 0px 1px 3px 1px rgba(0, 0, 0, 0.15);\n",
              "      filter: drop-shadow(0px 1px 2px rgba(0, 0, 0, 0.3));\n",
              "      fill: #FFFFFF;\n",
              "    }\n",
              "  </style>\n",
              "\n",
              "    <script>\n",
              "      const buttonEl =\n",
              "        document.querySelector('#df-a7dcea9e-086a-4bff-9d51-8af0bcc0fbf4 button.colab-df-convert');\n",
              "      buttonEl.style.display =\n",
              "        google.colab.kernel.accessAllowed ? 'block' : 'none';\n",
              "\n",
              "      async function convertToInteractive(key) {\n",
              "        const element = document.querySelector('#df-a7dcea9e-086a-4bff-9d51-8af0bcc0fbf4');\n",
              "        const dataTable =\n",
              "          await google.colab.kernel.invokeFunction('convertToInteractive',\n",
              "                                                    [key], {});\n",
              "        if (!dataTable) return;\n",
              "\n",
              "        const docLinkHtml = 'Like what you see? Visit the ' +\n",
              "          '<a target=\"_blank\" href=https://colab.research.google.com/notebooks/data_table.ipynb>data table notebook</a>'\n",
              "          + ' to learn more about interactive tables.';\n",
              "        element.innerHTML = '';\n",
              "        dataTable['output_type'] = 'display_data';\n",
              "        await google.colab.output.renderOutput(dataTable, element);\n",
              "        const docLink = document.createElement('div');\n",
              "        docLink.innerHTML = docLinkHtml;\n",
              "        element.appendChild(docLink);\n",
              "      }\n",
              "    </script>\n",
              "  </div>\n",
              "\n",
              "\n",
              "<div id=\"df-6c18c20d-986c-40e0-ac07-d7c6148d0516\">\n",
              "  <button class=\"colab-df-quickchart\" onclick=\"quickchart('df-6c18c20d-986c-40e0-ac07-d7c6148d0516')\"\n",
              "            title=\"Suggest charts\"\n",
              "            style=\"display:none;\">\n",
              "\n",
              "<svg xmlns=\"http://www.w3.org/2000/svg\" height=\"24px\"viewBox=\"0 0 24 24\"\n",
              "     width=\"24px\">\n",
              "    <g>\n",
              "        <path d=\"M19 3H5c-1.1 0-2 .9-2 2v14c0 1.1.9 2 2 2h14c1.1 0 2-.9 2-2V5c0-1.1-.9-2-2-2zM9 17H7v-7h2v7zm4 0h-2V7h2v10zm4 0h-2v-4h2v4z\"/>\n",
              "    </g>\n",
              "</svg>\n",
              "  </button>\n",
              "\n",
              "<style>\n",
              "  .colab-df-quickchart {\n",
              "      --bg-color: #E8F0FE;\n",
              "      --fill-color: #1967D2;\n",
              "      --hover-bg-color: #E2EBFA;\n",
              "      --hover-fill-color: #174EA6;\n",
              "      --disabled-fill-color: #AAA;\n",
              "      --disabled-bg-color: #DDD;\n",
              "  }\n",
              "\n",
              "  [theme=dark] .colab-df-quickchart {\n",
              "      --bg-color: #3B4455;\n",
              "      --fill-color: #D2E3FC;\n",
              "      --hover-bg-color: #434B5C;\n",
              "      --hover-fill-color: #FFFFFF;\n",
              "      --disabled-bg-color: #3B4455;\n",
              "      --disabled-fill-color: #666;\n",
              "  }\n",
              "\n",
              "  .colab-df-quickchart {\n",
              "    background-color: var(--bg-color);\n",
              "    border: none;\n",
              "    border-radius: 50%;\n",
              "    cursor: pointer;\n",
              "    display: none;\n",
              "    fill: var(--fill-color);\n",
              "    height: 32px;\n",
              "    padding: 0;\n",
              "    width: 32px;\n",
              "  }\n",
              "\n",
              "  .colab-df-quickchart:hover {\n",
              "    background-color: var(--hover-bg-color);\n",
              "    box-shadow: 0 1px 2px rgba(60, 64, 67, 0.3), 0 1px 3px 1px rgba(60, 64, 67, 0.15);\n",
              "    fill: var(--button-hover-fill-color);\n",
              "  }\n",
              "\n",
              "  .colab-df-quickchart-complete:disabled,\n",
              "  .colab-df-quickchart-complete:disabled:hover {\n",
              "    background-color: var(--disabled-bg-color);\n",
              "    fill: var(--disabled-fill-color);\n",
              "    box-shadow: none;\n",
              "  }\n",
              "\n",
              "  .colab-df-spinner {\n",
              "    border: 2px solid var(--fill-color);\n",
              "    border-color: transparent;\n",
              "    border-bottom-color: var(--fill-color);\n",
              "    animation:\n",
              "      spin 1s steps(1) infinite;\n",
              "  }\n",
              "\n",
              "  @keyframes spin {\n",
              "    0% {\n",
              "      border-color: transparent;\n",
              "      border-bottom-color: var(--fill-color);\n",
              "      border-left-color: var(--fill-color);\n",
              "    }\n",
              "    20% {\n",
              "      border-color: transparent;\n",
              "      border-left-color: var(--fill-color);\n",
              "      border-top-color: var(--fill-color);\n",
              "    }\n",
              "    30% {\n",
              "      border-color: transparent;\n",
              "      border-left-color: var(--fill-color);\n",
              "      border-top-color: var(--fill-color);\n",
              "      border-right-color: var(--fill-color);\n",
              "    }\n",
              "    40% {\n",
              "      border-color: transparent;\n",
              "      border-right-color: var(--fill-color);\n",
              "      border-top-color: var(--fill-color);\n",
              "    }\n",
              "    60% {\n",
              "      border-color: transparent;\n",
              "      border-right-color: var(--fill-color);\n",
              "    }\n",
              "    80% {\n",
              "      border-color: transparent;\n",
              "      border-right-color: var(--fill-color);\n",
              "      border-bottom-color: var(--fill-color);\n",
              "    }\n",
              "    90% {\n",
              "      border-color: transparent;\n",
              "      border-bottom-color: var(--fill-color);\n",
              "    }\n",
              "  }\n",
              "</style>\n",
              "\n",
              "  <script>\n",
              "    async function quickchart(key) {\n",
              "      const quickchartButtonEl =\n",
              "        document.querySelector('#' + key + ' button');\n",
              "      quickchartButtonEl.disabled = true;  // To prevent multiple clicks.\n",
              "      quickchartButtonEl.classList.add('colab-df-spinner');\n",
              "      try {\n",
              "        const charts = await google.colab.kernel.invokeFunction(\n",
              "            'suggestCharts', [key], {});\n",
              "      } catch (error) {\n",
              "        console.error('Error during call to suggestCharts:', error);\n",
              "      }\n",
              "      quickchartButtonEl.classList.remove('colab-df-spinner');\n",
              "      quickchartButtonEl.classList.add('colab-df-quickchart-complete');\n",
              "    }\n",
              "    (() => {\n",
              "      let quickchartButtonEl =\n",
              "        document.querySelector('#df-6c18c20d-986c-40e0-ac07-d7c6148d0516 button');\n",
              "      quickchartButtonEl.style.display =\n",
              "        google.colab.kernel.accessAllowed ? 'block' : 'none';\n",
              "    })();\n",
              "  </script>\n",
              "</div>\n",
              "\n",
              "    </div>\n",
              "  </div>\n"
            ],
            "application/vnd.google.colaboratory.intrinsic+json": {
              "type": "dataframe",
              "summary": "{\n  \"name\": \"data[0:10]\",\n  \"rows\": 10,\n  \"fields\": [\n    {\n      \"column\": \"Date\",\n      \"properties\": {\n        \"dtype\": \"date\",\n        \"min\": \"2024-02-01 00:00:00+05:30\",\n        \"max\": \"2024-02-14 00:00:00+05:30\",\n        \"num_unique_values\": 10,\n        \"samples\": [\n          \"2024-02-13 00:00:00+05:30\",\n          \"2024-02-02 00:00:00+05:30\",\n          \"2024-02-08 00:00:00+05:30\"\n        ],\n        \"semantic_type\": \"\",\n        \"description\": \"\"\n      }\n    },\n    {\n      \"column\": \"Open\",\n      \"properties\": {\n        \"dtype\": \"number\",\n        \"std\": 145.32728217313158,\n        \"min\": 21578.150390625,\n        \"max\": 22045.05078125,\n        \"num_unique_values\": 10,\n        \"samples\": [\n          21664.30078125,\n          21812.75,\n          22009.650390625\n        ],\n        \"semantic_type\": \"\",\n        \"description\": \"\"\n      }\n    },\n    {\n      \"column\": \"High\",\n      \"properties\": {\n        \"dtype\": \"number\",\n        \"std\": 118.4945196723865,\n        \"min\": 21766.80078125,\n        \"max\": 22126.80078125,\n        \"num_unique_values\": 10,\n        \"samples\": [\n          21766.80078125,\n          22126.80078125,\n          22011.05078125\n        ],\n        \"semantic_type\": \"\",\n        \"description\": \"\"\n      }\n    },\n    {\n      \"column\": \"Low\",\n      \"properties\": {\n        \"dtype\": \"number\",\n        \"std\": 109.87162472272581,\n        \"min\": 21530.19921875,\n        \"max\": 21860.150390625,\n        \"num_unique_values\": 10,\n        \"samples\": [\n          21543.349609375,\n          21805.55078125,\n          21665.30078125\n        ],\n        \"semantic_type\": \"\",\n        \"description\": \"\"\n      }\n    },\n    {\n      \"column\": \"Close\",\n      \"properties\": {\n        \"dtype\": \"number\",\n        \"std\": 101.27534656158274,\n        \"min\": 21616.05078125,\n        \"max\": 21930.5,\n        \"num_unique_values\": 10,\n        \"samples\": [\n          21743.25,\n          21853.80078125,\n          21717.94921875\n        ],\n        \"semantic_type\": \"\",\n        \"description\": \"\"\n      }\n    },\n    {\n      \"column\": \"Volume\",\n      \"properties\": {\n        \"dtype\": \"number\",\n        \"std\": 61099,\n        \"min\": 287400,\n        \"max\": 491100,\n        \"num_unique_values\": 10,\n        \"samples\": [\n          365800,\n          442800,\n          491100\n        ],\n        \"semantic_type\": \"\",\n        \"description\": \"\"\n      }\n    },\n    {\n      \"column\": \"Dividends\",\n      \"properties\": {\n        \"dtype\": \"number\",\n        \"std\": 0.0,\n        \"min\": 0.0,\n        \"max\": 0.0,\n        \"num_unique_values\": 1,\n        \"samples\": [\n          0.0\n        ],\n        \"semantic_type\": \"\",\n        \"description\": \"\"\n      }\n    },\n    {\n      \"column\": \"Stock Splits\",\n      \"properties\": {\n        \"dtype\": \"number\",\n        \"std\": 0.0,\n        \"min\": 0.0,\n        \"max\": 0.0,\n        \"num_unique_values\": 1,\n        \"samples\": [\n          0.0\n        ],\n        \"semantic_type\": \"\",\n        \"description\": \"\"\n      }\n    },\n    {\n      \"column\": \"Gains\",\n      \"properties\": {\n        \"dtype\": \"number\",\n        \"std\": 164.67836666369232,\n        \"min\": -291.701171875,\n        \"max\": 261.900390625,\n        \"num_unique_values\": 10,\n        \"samples\": [\n          78.94921875\n        ],\n        \"semantic_type\": \"\",\n        \"description\": \"\"\n      }\n    },\n    {\n      \"column\": \"PercentageGain\",\n      \"properties\": {\n        \"dtype\": \"number\",\n        \"std\": 0.755091565604526,\n        \"min\": -1.3253330548096756,\n        \"max\": 1.2137295638591301,\n        \"num_unique_values\": 10,\n        \"samples\": [\n          0.36442080243978564\n        ],\n        \"semantic_type\": \"\",\n        \"description\": \"\"\n      }\n    }\n  ]\n}"
            }
          },
          "metadata": {},
          "execution_count": 5
        }
      ]
    },
    {
      "metadata": {
        "trusted": true,
        "colab": {
          "base_uri": "https://localhost:8080/",
          "height": 820
        },
        "id": "_sY-itIg9COw",
        "outputId": "7d14e453-826f-41ff-a6ae-ac4564910179"
      },
      "cell_type": "code",
      "source": [
        "# let visualize this data\n",
        "plt.figure(figsize = (18, 9))\n",
        "sb.lineplot(data = data, x = 'Date', y = 'Gains')\n",
        "plt.grid(True)\n",
        "plt.title('Nifty daily Gains [1 Feb 2024 - 1 May 2024]')\n",
        "plt.show()"
      ],
      "execution_count": 7,
      "outputs": [
        {
          "output_type": "display_data",
          "data": {
            "text/plain": [
              "<Figure size 1800x900 with 1 Axes>"
            ],
            "image/png": "[encoded data removed]"
          },
          "metadata": {}
        }
      ]
    },
    {
      "metadata": {
        "trusted": true,
        "colab": {
          "base_uri": "https://localhost:8080/",
          "height": 542
        },
        "id": "eBeSTBhV9COw",
        "outputId": "2184da02-cb37-4830-d22a-b8dfc80afbe3"
      },
      "cell_type": "code",
      "source": [
        "# For Your and mine Convinence I am adding a Interactive Plotly Plot as well\n",
        "fig = go.Figure([go.Scatter(x=data.index, y=data['Gains'])])\n",
        "fig.show()"
      ],
      "execution_count": 13,
      "outputs": [
        {
          "output_type": "display_data",
          "data": {
            "application/vnd.plotly.v1+json": {
              "data": [
                {
                  "x": [
                    "2024-02-01T00:00:00+05:30",
                    "2024-02-02T00:00:00+05:30",
                    "2024-02-05T00:00:00+05:30",
                    "2024-02-06T00:00:00+05:30",
                    "2024-02-07T00:00:00+05:30",
                    "2024-02-08T00:00:00+05:30",
                    "2024-02-09T00:00:00+05:30",
                    "2024-02-12T00:00:00+05:30",
                    "2024-02-13T00:00:00+05:30",
                    "2024-02-14T00:00:00+05:30",
                    "2024-02-15T00:00:00+05:30",
                    "2024-02-16T00:00:00+05:30",
                    "2024-02-19T00:00:00+05:30",
                    "2024-02-20T00:00:00+05:30",
                    "2024-02-21T00:00:00+05:30",
                    "2024-02-22T00:00:00+05:30",
                    "2024-02-23T00:00:00+05:30",
                    "2024-02-26T00:00:00+05:30",
                    "2024-02-27T00:00:00+05:30",
                    "2024-02-28T00:00:00+05:30",
                    "2024-02-29T00:00:00+05:30",
                    "2024-03-01T00:00:00+05:30",
                    "2024-03-04T00:00:00+05:30",
                    "2024-03-05T00:00:00+05:30",
                    "2024-03-06T00:00:00+05:30",
                    "2024-03-07T00:00:00+05:30",
                    "2024-03-11T00:00:00+05:30",
                    "2024-03-12T00:00:00+05:30",
                    "2024-03-13T00:00:00+05:30",
                    "2024-03-14T00:00:00+05:30",
                    "2024-03-15T00:00:00+05:30",
                    "2024-03-18T00:00:00+05:30",
                    "2024-03-19T00:00:00+05:30",
                    "2024-03-20T00:00:00+05:30",
                    "2024-03-21T00:00:00+05:30",
                    "2024-03-22T00:00:00+05:30",
                    "2024-03-26T00:00:00+05:30",
                    "2024-03-27T00:00:00+05:30",
                    "2024-03-28T00:00:00+05:30",
                    "2024-04-01T00:00:00+05:30",
                    "2024-04-02T00:00:00+05:30",
                    "2024-04-03T00:00:00+05:30",
                    "2024-04-04T00:00:00+05:30",
                    "2024-04-05T00:00:00+05:30",
                    "2024-04-08T00:00:00+05:30",
                    "2024-04-09T00:00:00+05:30",
                    "2024-04-10T00:00:00+05:30",
                    "2024-04-12T00:00:00+05:30",
                    "2024-04-15T00:00:00+05:30",
                    "2024-04-16T00:00:00+05:30",
                    "2024-04-18T00:00:00+05:30",
                    "2024-04-19T00:00:00+05:30",
                    "2024-04-22T00:00:00+05:30",
                    "2024-04-23T00:00:00+05:30",
                    "2024-04-24T00:00:00+05:30",
                    "2024-04-25T00:00:00+05:30",
                    "2024-04-26T00:00:00+05:30",
                    "2024-04-29T00:00:00+05:30",
                    "2024-04-30T00:00:00+05:30"
                  ],
                  "y": [
                    -83.201171875,
                    41.05078125,
                    -149.3515625,
                    104.201171875,
                    -114.55078125,
                    -291.701171875,
                    55.5,
                    -184.75,
                    78.94921875,
                    261.900390625,
                    4.19921875,
                    20.3984375,
                    18.80078125,
                    97.75,
                    -193.798828125,
                    135.8984375,
                    -77.30078125,
                    -47.1484375,
                    108.150390625,
                    -262.94921875,
                    47.6015625,
                    290.44921875,
                    2.099609375,
                    -14.94921875,
                    146.55078125,
                    -11.75,
                    -184.849609375,
                    1.25,
                    -434.5,
                    164.099609375,
                    -41.5,
                    65.599609375,
                    -129,
                    -4.80078125,
                    22.048828125,
                    164.55078125,
                    56.798828125,
                    69.701171875,
                    163.30078125,
                    7,
                    -5.5,
                    48.951171875,
                    -77.44921875,
                    27.298828125,
                    87.951171875,
                    -122.349609375,
                    33.55078125,
                    -158,
                    -66.55078125,
                    22.599609375,
                    -216.5,
                    285.5,
                    -0.5,
                    -79.05078125,
                    -19.150390625,
                    253.44921875,
                    -200.451171875,
                    167.849609375,
                    -74.80078125
                  ],
                  "type": "scatter"
                }
              ],
              "layout": {
                "template": {
                  "data": {
                    "histogram2dcontour": [
                      {
                        "type": "histogram2dcontour",
                        "colorbar": {
                          "outlinewidth": 0,
                          "ticks": ""
                        },
                        "colorscale": [
                          [
                            0,
                            "#0d0887"
                          ],
                          [
                            0.1111111111111111,
                            "#46039f"
                          ],
                          [
                            0.2222222222222222,
                            "#7201a8"
                          ],
                          [
                            0.3333333333333333,
                            "#9c179e"
                          ],
                          [
                            0.4444444444444444,
                            "#bd3786"
                          ],
                          [
                            0.5555555555555556,
                            "#d8576b"
                          ],
                          [
                            0.6666666666666666,
                            "#ed7953"
                          ],
                          [
                            0.7777777777777778,
                            "#fb9f3a"
                          ],
                          [
                            0.8888888888888888,
                            "#fdca26"
                          ],
                          [
                            1,
                            "#f0f921"
                          ]
                        ]
                      }
                    ],
                    "choropleth": [
                      {
                        "type": "choropleth",
                        "colorbar": {
                          "outlinewidth": 0,
                          "ticks": ""
                        }
                      }
                    ],
                    "histogram2d": [
                      {
                        "type": "histogram2d",
                        "colorbar": {
                          "outlinewidth": 0,
                          "ticks": ""
                        },
                        "colorscale": [
                          [
                            0,
                            "#0d0887"
                          ],
                          [
                            0.1111111111111111,
                            "#46039f"
                          ],
                          [
                            0.2222222222222222,
                            "#7201a8"
                          ],
                          [
                            0.3333333333333333,
                            "#9c179e"
                          ],
                          [
                            0.4444444444444444,
                            "#bd3786"
                          ],
                          [
                            0.5555555555555556,
                            "#d8576b"
                          ],
                          [
                            0.6666666666666666,
                            "#ed7953"
                          ],
                          [
                            0.7777777777777778,
                            "#fb9f3a"
                          ],
                          [
                            0.8888888888888888,
                            "#fdca26"
                          ],
                          [
                            1,
                            "#f0f921"
                          ]
                        ]
                      }
                    ],
                    "heatmap": [
                      {
                        "type": "heatmap",
                        "colorbar": {
                          "outlinewidth": 0,
                          "ticks": ""
                        },
                        "colorscale": [
                          [
                            0,
                            "#0d0887"
                          ],
                          [
                            0.1111111111111111,
                            "#46039f"
                          ],
                          [
                            0.2222222222222222,
                            "#7201a8"
                          ],
                          [
                            0.3333333333333333,
                            "#9c179e"
                          ],
                          [
                            0.4444444444444444,
                            "#bd3786"
                          ],
                          [
                            0.5555555555555556,
                            "#d8576b"
                          ],
                          [
                            0.6666666666666666,
                            "#ed7953"
                          ],
                          [
                            0.7777777777777778,
                            "#fb9f3a"
                          ],
                          [
                            0.8888888888888888,
                            "#fdca26"
                          ],
                          [
                            1,
                            "#f0f921"
                          ]
                        ]
                      }
                    ],
                    "heatmapgl": [
                      {
                        "type": "heatmapgl",
                        "colorbar": {
                          "outlinewidth": 0,
                          "ticks": ""
                        },
                        "colorscale": [
                          [
                            0,
                            "#0d0887"
                          ],
                          [
                            0.1111111111111111,
                            "#46039f"
                          ],
                          [
                            0.2222222222222222,
                            "#7201a8"
                          ],
                          [
                            0.3333333333333333,
                            "#9c179e"
                          ],
                          [
                            0.4444444444444444,
                            "#bd3786"
                          ],
                          [
                            0.5555555555555556,
                            "#d8576b"
                          ],
                          [
                            0.6666666666666666,
                            "#ed7953"
                          ],
                          [
                            0.7777777777777778,
                            "#fb9f3a"
                          ],
                          [
                            0.8888888888888888,
                            "#fdca26"
                          ],
                          [
                            1,
                            "#f0f921"
                          ]
                        ]
                      }
                    ],
                    "contourcarpet": [
                      {
                        "type": "contourcarpet",
                        "colorbar": {
                          "outlinewidth": 0,
                          "ticks": ""
                        }
                      }
                    ],
                    "contour": [
                      {
                        "type": "contour",
                        "colorbar": {
                          "outlinewidth": 0,
                          "ticks": ""
                        },
                        "colorscale": [
                          [
                            0,
                            "#0d0887"
                          ],
                          [
                            0.1111111111111111,
                            "#46039f"
                          ],
                          [
                            0.2222222222222222,
                            "#7201a8"
                          ],
                          [
                            0.3333333333333333,
                            "#9c179e"
                          ],
                          [
                            0.4444444444444444,
                            "#bd3786"
                          ],
                          [
                            0.5555555555555556,
                            "#d8576b"
                          ],
                          [
                            0.6666666666666666,
                            "#ed7953"
                          ],
                          [
                            0.7777777777777778,
                            "#fb9f3a"
                          ],
                          [
                            0.8888888888888888,
                            "#fdca26"
                          ],
                          [
                            1,
                            "#f0f921"
                          ]
                        ]
                      }
                    ],
                    "surface": [
                      {
                        "type": "surface",
                        "colorbar": {
                          "outlinewidth": 0,
                          "ticks": ""
                        },
                        "colorscale": [
                          [
                            0,
                            "#0d0887"
                          ],
                          [
                            0.1111111111111111,
                            "#46039f"
                          ],
                          [
                            0.2222222222222222,
                            "#7201a8"
                          ],
                          [
                            0.3333333333333333,
                            "#9c179e"
                          ],
                          [
                            0.4444444444444444,
                            "#bd3786"
                          ],
                          [
                            0.5555555555555556,
                            "#d8576b"
                          ],
                          [
                            0.6666666666666666,
                            "#ed7953"
                          ],
                          [
                            0.7777777777777778,
                            "#fb9f3a"
                          ],
                          [
                            0.8888888888888888,
                            "#fdca26"
                          ],
                          [
                            1,
                            "#f0f921"
                          ]
                        ]
                      }
                    ],
                    "mesh3d": [
                      {
                        "type": "mesh3d",
                        "colorbar": {
                          "outlinewidth": 0,
                          "ticks": ""
                        }
                      }
                    ],
                    "scatter": [
                      {
                        "fillpattern": {
                          "fillmode": "overlay",
                          "size": 10,
                          "solidity": 0.2
                        },
                        "type": "scatter"
                      }
                    ],
                    "parcoords": [
                      {
                        "type": "parcoords",
                        "line": {
                          "colorbar": {
                            "outlinewidth": 0,
                            "ticks": ""
                          }
                        }
                      }
                    ],
                    "scatterpolargl": [
                      {
                        "type": "scatterpolargl",
                        "marker": {
                          "colorbar": {
                            "outlinewidth": 0,
                            "ticks": ""
                          }
                        }
                      }
                    ],
                    "bar": [
                      {
                        "error_x": {
                          "color": "#2a3f5f"
                        },
                        "error_y": {
                          "color": "#2a3f5f"
                        },
                        "marker": {
                          "line": {
                            "color": "#E5ECF6",
                            "width": 0.5
                          },
                          "pattern": {
                            "fillmode": "overlay",
                            "size": 10,
                            "solidity": 0.2
                          }
                        },
                        "type": "bar"
                      }
                    ],
                    "scattergeo": [
                      {
                        "type": "scattergeo",
                        "marker": {
                          "colorbar": {
                            "outlinewidth": 0,
                            "ticks": ""
                          }
                        }
                      }
                    ],
                    "scatterpolar": [
                      {
                        "type": "scatterpolar",
                        "marker": {
                          "colorbar": {
                            "outlinewidth": 0,
                            "ticks": ""
                          }
                        }
                      }
                    ],
                    "histogram": [
                      {
                        "marker": {
                          "pattern": {
                            "fillmode": "overlay",
                            "size": 10,
                            "solidity": 0.2
                          }
                        },
                        "type": "histogram"
                      }
                    ],
                    "scattergl": [
                      {
                        "type": "scattergl",
                        "marker": {
                          "colorbar": {
                            "outlinewidth": 0,
                            "ticks": ""
                          }
                        }
                      }
                    ],
                    "scatter3d": [
                      {
                        "type": "scatter3d",
                        "line": {
                          "colorbar": {
                            "outlinewidth": 0,
                            "ticks": ""
                          }
                        },
                        "marker": {
                          "colorbar": {
                            "outlinewidth": 0,
                            "ticks": ""
                          }
                        }
                      }
                    ],
                    "scattermapbox": [
                      {
                        "type": "scattermapbox",
                        "marker": {
                          "colorbar": {
                            "outlinewidth": 0,
                            "ticks": ""
                          }
                        }
                      }
                    ],
                    "scatterternary": [
                      {
                        "type": "scatterternary",
                        "marker": {
                          "colorbar": {
                            "outlinewidth": 0,
                            "ticks": ""
                          }
                        }
                      }
                    ],
                    "scattercarpet": [
                      {
                        "type": "scattercarpet",
                        "marker": {
                          "colorbar": {
                            "outlinewidth": 0,
                            "ticks": ""
                          }
                        }
                      }
                    ],
                    "carpet": [
                      {
                        "aaxis": {
                          "endlinecolor": "#2a3f5f",
                          "gridcolor": "white",
                          "linecolor": "white",
                          "minorgridcolor": "white",
                          "startlinecolor": "#2a3f5f"
                        },
                        "baxis": {
                          "endlinecolor": "#2a3f5f",
                          "gridcolor": "white",
                          "linecolor": "white",
                          "minorgridcolor": "white",
                          "startlinecolor": "#2a3f5f"
                        },
                        "type": "carpet"
                      }
                    ],
                    "table": [
                      {
                        "cells": {
                          "fill": {
                            "color": "#EBF0F8"
                          },
                          "line": {
                            "color": "white"
                          }
                        },
                        "header": {
                          "fill": {
                            "color": "#C8D4E3"
                          },
                          "line": {
                            "color": "white"
                          }
                        },
                        "type": "table"
                      }
                    ],
                    "barpolar": [
                      {
                        "marker": {
                          "line": {
                            "color": "#E5ECF6",
                            "width": 0.5
                          },
                          "pattern": {
                            "fillmode": "overlay",
                            "size": 10,
                            "solidity": 0.2
                          }
                        },
                        "type": "barpolar"
                      }
                    ],
                    "pie": [
                      {
                        "automargin": true,
                        "type": "pie"
                      }
                    ]
                  },
                  "layout": {
                    "autotypenumbers": "strict",
                    "colorway": [
                      "#636efa",
                      "#EF553B",
                      "#00cc96",
                      "#ab63fa",
                      "#FFA15A",
                      "#19d3f3",
                      "#FF6692",
                      "#B6E880",
                      "#FF97FF",
                      "#FECB52"
                    ],
                    "font": {
                      "color": "#2a3f5f"
                    },
                    "hovermode": "closest",
                    "hoverlabel": {
                      "align": "left"
                    },
                    "paper_bgcolor": "white",
                    "plot_bgcolor": "#E5ECF6",
                    "polar": {
                      "bgcolor": "#E5ECF6",
                      "angularaxis": {
                        "gridcolor": "white",
                        "linecolor": "white",
                        "ticks": ""
                      },
                      "radialaxis": {
                        "gridcolor": "white",
                        "linecolor": "white",
                        "ticks": ""
                      }
                    },
                    "ternary": {
                      "bgcolor": "#E5ECF6",
                      "aaxis": {
                        "gridcolor": "white",
                        "linecolor": "white",
                        "ticks": ""
                      },
                      "baxis": {
                        "gridcolor": "white",
                        "linecolor": "white",
                        "ticks": ""
                      },
                      "caxis": {
                        "gridcolor": "white",
                        "linecolor": "white",
                        "ticks": ""
                      }
                    },
                    "coloraxis": {
                      "colorbar": {
                        "outlinewidth": 0,
                        "ticks": ""
                      }
                    },
                    "colorscale": {
                      "sequential": [
                        [
                          0,
                          "#0d0887"
                        ],
                        [
                          0.1111111111111111,
                          "#46039f"
                        ],
                        [
                          0.2222222222222222,
                          "#7201a8"
                        ],
                        [
                          0.3333333333333333,
                          "#9c179e"
                        ],
                        [
                          0.4444444444444444,
                          "#bd3786"
                        ],
                        [
                          0.5555555555555556,
                          "#d8576b"
                        ],
                        [
                          0.6666666666666666,
                          "#ed7953"
                        ],
                        [
                          0.7777777777777778,
                          "#fb9f3a"
                        ],
                        [
                          0.8888888888888888,
                          "#fdca26"
                        ],
                        [
                          1,
                          "#f0f921"
                        ]
                      ],
                      "sequentialminus": [
                        [
                          0,
                          "#0d0887"
                        ],
                        [
                          0.1111111111111111,
                          "#46039f"
                        ],
                        [
                          0.2222222222222222,
                          "#7201a8"
                        ],
                        [
                          0.3333333333333333,
                          "#9c179e"
                        ],
                        [
                          0.4444444444444444,
                          "#bd3786"
                        ],
                        [
                          0.5555555555555556,
                          "#d8576b"
                        ],
                        [
                          0.6666666666666666,
                          "#ed7953"
                        ],
                        [
                          0.7777777777777778,
                          "#fb9f3a"
                        ],
                        [
                          0.8888888888888888,
                          "#fdca26"
                        ],
                        [
                          1,
                          "#f0f921"
                        ]
                      ],
                      "diverging": [
                        [
                          0,
                          "#8e0152"
                        ],
                        [
                          0.1,
                          "#c51b7d"
                        ],
                        [
                          0.2,
                          "#de77ae"
                        ],
                        [
                          0.3,
                          "#f1b6da"
                        ],
                        [
                          0.4,
                          "#fde0ef"
                        ],
                        [
                          0.5,
                          "#f7f7f7"
                        ],
                        [
                          0.6,
                          "#e6f5d0"
                        ],
                        [
                          0.7,
                          "#b8e186"
                        ],
                        [
                          0.8,
                          "#7fbc41"
                        ],
                        [
                          0.9,
                          "#4d9221"
                        ],
                        [
                          1,
                          "#276419"
                        ]
                      ]
                    },
                    "xaxis": {
                      "gridcolor": "white",
                      "linecolor": "white",
                      "ticks": "",
                      "title": {
                        "standoff": 15
                      },
                      "zerolinecolor": "white",
                      "automargin": true,
                      "zerolinewidth": 2
                    },
                    "yaxis": {
                      "gridcolor": "white",
                      "linecolor": "white",
                      "ticks": "",
                      "title": {
                        "standoff": 15
                      },
                      "zerolinecolor": "white",
                      "automargin": true,
                      "zerolinewidth": 2
                    },
                    "scene": {
                      "xaxis": {
                        "backgroundcolor": "#E5ECF6",
                        "gridcolor": "white",
                        "linecolor": "white",
                        "showbackground": true,
                        "ticks": "",
                        "zerolinecolor": "white",
                        "gridwidth": 2
                      },
                      "yaxis": {
                        "backgroundcolor": "#E5ECF6",
                        "gridcolor": "white",
                        "linecolor": "white",
                        "showbackground": true,
                        "ticks": "",
                        "zerolinecolor": "white",
                        "gridwidth": 2
                      },
                      "zaxis": {
                        "backgroundcolor": "#E5ECF6",
                        "gridcolor": "white",
                        "linecolor": "white",
                        "showbackground": true,
                        "ticks": "",
                        "zerolinecolor": "white",
                        "gridwidth": 2
                      }
                    },
                    "shapedefaults": {
                      "line": {
                        "color": "#2a3f5f"
                      }
                    },
                    "annotationdefaults": {
                      "arrowcolor": "#2a3f5f",
                      "arrowhead": 0,
                      "arrowwidth": 1
                    },
                    "geo": {
                      "bgcolor": "white",
                      "landcolor": "#E5ECF6",
                      "subunitcolor": "white",
                      "showland": true,
                      "showlakes": true,
                      "lakecolor": "white"
                    },
                    "title": {
                      "x": 0.05
                    },
                    "mapbox": {
                      "style": "light"
                    }
                  }
                }
              },
              "config": {
                "plotlyServerURL": "https://plot.ly"
              }
            },
            "text/html": [
              "<div>                            <div id=\"1dc861a7-0e4f-4042-9f3c-af24eea47e8d\" class=\"plotly-graph-div\" style=\"height:525px; width:100%;\"></div>            <script type=\"text/javascript\">                require([\"plotly\"], function(Plotly) {                    window.PLOTLYENV=window.PLOTLYENV || {};                                    if (document.getElementById(\"1dc861a7-0e4f-4042-9f3c-af24eea47e8d\")) {                    Plotly.newPlot(                        \"1dc861a7-0e4f-4042-9f3c-af24eea47e8d\",                        [{\"x\":[\"2024-02-01T00:00:00+05:30\",\"2024-02-02T00:00:00+05:30\",\"2024-02-05T00:00:00+05:30\",\"2024-02-06T00:00:00+05:30\",\"2024-02-07T00:00:00+05:30\",\"2024-02-08T00:00:00+05:30\",\"2024-02-09T00:00:00+05:30\",\"2024-02-12T00:00:00+05:30\",\"2024-02-13T00:00:00+05:30\",\"2024-02-14T00:00:00+05:30\",\"2024-02-15T00:00:00+05:30\",\"2024-02-16T00:00:00+05:30\",\"2024-02-19T00:00:00+05:30\",\"2024-02-20T00:00:00+05:30\",\"2024-02-21T00:00:00+05:30\",\"2024-02-22T00:00:00+05:30\",\"2024-02-23T00:00:00+05:30\",\"2024-02-26T00:00:00+05:30\",\"2024-02-27T00:00:00+05:30\",\"2024-02-28T00:00:00+05:30\",\"2024-02-29T00:00:00+05:30\",\"2024-03-01T00:00:00+05:30\",\"2024-03-04T00:00:00+05:30\",\"2024-03-05T00:00:00+05:30\",\"2024-03-06T00:00:00+05:30\",\"2024-03-07T00:00:00+05:30\",\"2024-03-11T00:00:00+05:30\",\"2024-03-12T00:00:00+05:30\",\"2024-03-13T00:00:00+05:30\",\"2024-03-14T00:00:00+05:30\",\"2024-03-15T00:00:00+05:30\",\"2024-03-18T00:00:00+05:30\",\"2024-03-19T00:00:00+05:30\",\"2024-03-20T00:00:00+05:30\",\"2024-03-21T00:00:00+05:30\",\"2024-03-22T00:00:00+05:30\",\"2024-03-26T00:00:00+05:30\",\"2024-03-27T00:00:00+05:30\",\"2024-03-28T00:00:00+05:30\",\"2024-04-01T00:00:00+05:30\",\"2024-04-02T00:00:00+05:30\",\"2024-04-03T00:00:00+05:30\",\"2024-04-04T00:00:00+05:30\",\"2024-04-05T00:00:00+05:30\",\"2024-04-08T00:00:00+05:30\",\"2024-04-09T00:00:00+05:30\",\"2024-04-10T00:00:00+05:30\",\"2024-04-12T00:00:00+05:30\",\"2024-04-15T00:00:00+05:30\",\"2024-04-16T00:00:00+05:30\",\"2024-04-18T00:00:00+05:30\",\"2024-04-19T00:00:00+05:30\",\"2024-04-22T00:00:00+05:30\",\"2024-04-23T00:00:00+05:30\",\"2024-04-24T00:00:00+05:30\",\"2024-04-25T00:00:00+05:30\",\"2024-04-26T00:00:00+05:30\",\"2024-04-29T00:00:00+05:30\",\"2024-04-30T00:00:00+05:30\"],\"y\":[-83.201171875,41.05078125,-149.3515625,104.201171875,-114.55078125,-291.701171875,55.5,-184.75,78.94921875,261.900390625,4.19921875,20.3984375,18.80078125,97.75,-193.798828125,135.8984375,-77.30078125,-47.1484375,108.150390625,-262.94921875,47.6015625,290.44921875,2.099609375,-14.94921875,146.55078125,-11.75,-184.849609375,1.25,-434.5,164.099609375,-41.5,65.599609375,-129.0,-4.80078125,22.048828125,164.55078125,56.798828125,69.701171875,163.30078125,7.0,-5.5,48.951171875,-77.44921875,27.298828125,87.951171875,-122.349609375,33.55078125,-158.0,-66.55078125,22.599609375,-216.5,285.5,-0.5,-79.05078125,-19.150390625,253.44921875,-200.451171875,167.849609375,-74.80078125],\"type\":\"scatter\"}],                        {\"template\":{\"data\":{\"histogram2dcontour\":[{\"type\":\"histogram2dcontour\",\"colorbar\":{\"outlinewidth\":0,\"ticks\":\"\"},\"colorscale\":[[0.0,\"#0d0887\"],[0.1111111111111111,\"#46039f\"],[0.2222222222222222,\"#7201a8\"],[0.3333333333333333,\"#9c179e\"],[0.4444444444444444,\"#bd3786\"],[0.5555555555555556,\"#d8576b\"],[0.6666666666666666,\"#ed7953\"],[0.7777777777777778,\"#fb9f3a\"],[0.8888888888888888,\"#fdca26\"],[1.0,\"#f0f921\"]]}],\"choropleth\":[{\"type\":\"choropleth\",\"colorbar\":{\"outlinewidth\":0,\"ticks\":\"\"}}],\"histogram2d\":[{\"type\":\"histogram2d\",\"colorbar\":{\"outlinewidth\":0,\"ticks\":\"\"},\"colorscale\":[[0.0,\"#0d0887\"],[0.1111111111111111,\"#46039f\"],[0.2222222222222222,\"#7201a8\"],[0.3333333333333333,\"#9c179e\"],[0.4444444444444444,\"#bd3786\"],[0.5555555555555556,\"#d8576b\"],[0.6666666666666666,\"#ed7953\"],[0.7777777777777778,\"#fb9f3a\"],[0.8888888888888888,\"#fdca26\"],[1.0,\"#f0f921\"]]}],\"heatmap\":[{\"type\":\"heatmap\",\"colorbar\":{\"outlinewidth\":0,\"ticks\":\"\"},\"colorscale\":[[0.0,\"#0d0887\"],[0.1111111111111111,\"#46039f\"],[0.2222222222222222,\"#7201a8\"],[0.3333333333333333,\"#9c179e\"],[0.4444444444444444,\"#bd3786\"],[0.5555555555555556,\"#d8576b\"],[0.6666666666666666,\"#ed7953\"],[0.7777777777777778,\"#fb9f3a\"],[0.8888888888888888,\"#fdca26\"],[1.0,\"#f0f921\"]]}],\"heatmapgl\":[{\"type\":\"heatmapgl\",\"colorbar\":{\"outlinewidth\":0,\"ticks\":\"\"},\"colorscale\":[[0.0,\"#0d0887\"],[0.1111111111111111,\"#46039f\"],[0.2222222222222222,\"#7201a8\"],[0.3333333333333333,\"#9c179e\"],[0.4444444444444444,\"#bd3786\"],[0.5555555555555556,\"#d8576b\"],[0.6666666666666666,\"#ed7953\"],[0.7777777777777778,\"#fb9f3a\"],[0.8888888888888888,\"#fdca26\"],[1.0,\"#f0f921\"]]}],\"contourcarpet\":[{\"type\":\"contourcarpet\",\"colorbar\":{\"outlinewidth\":0,\"ticks\":\"\"}}],\"contour\":[{\"type\":\"contour\",\"colorbar\":{\"outlinewidth\":0,\"ticks\":\"\"},\"colorscale\":[[0.0,\"#0d0887\"],[0.1111111111111111,\"#46039f\"],[0.2222222222222222,\"#7201a8\"],[0.3333333333333333,\"#9c179e\"],[0.4444444444444444,\"#bd3786\"],[0.5555555555555556,\"#d8576b\"],[0.6666666666666666,\"#ed7953\"],[0.7777777777777778,\"#fb9f3a\"],[0.8888888888888888,\"#fdca26\"],[1.0,\"#f0f921\"]]}],\"surface\":[{\"type\":\"surface\",\"colorbar\":{\"outlinewidth\":0,\"ticks\":\"\"},\"colorscale\":[[0.0,\"#0d0887\"],[0.1111111111111111,\"#46039f\"],[0.2222222222222222,\"#7201a8\"],[0.3333333333333333,\"#9c179e\"],[0.4444444444444444,\"#bd3786\"],[0.5555555555555556,\"#d8576b\"],[0.6666666666666666,\"#ed7953\"],[0.7777777777777778,\"#fb9f3a\"],[0.8888888888888888,\"#fdca26\"],[1.0,\"#f0f921\"]]}],\"mesh3d\":[{\"type\":\"mesh3d\",\"colorbar\":{\"outlinewidth\":0,\"ticks\":\"\"}}],\"scatter\":[{\"fillpattern\":{\"fillmode\":\"overlay\",\"size\":10,\"solidity\":0.2},\"type\":\"scatter\"}],\"parcoords\":[{\"type\":\"parcoords\",\"line\":{\"colorbar\":{\"outlinewidth\":0,\"ticks\":\"\"}}}],\"scatterpolargl\":[{\"type\":\"scatterpolargl\",\"marker\":{\"colorbar\":{\"outlinewidth\":0,\"ticks\":\"\"}}}],\"bar\":[{\"error_x\":{\"color\":\"#2a3f5f\"},\"error_y\":{\"color\":\"#2a3f5f\"},\"marker\":{\"line\":{\"color\":\"#E5ECF6\",\"width\":0.5},\"pattern\":{\"fillmode\":\"overlay\",\"size\":10,\"solidity\":0.2}},\"type\":\"bar\"}],\"scattergeo\":[{\"type\":\"scattergeo\",\"marker\":{\"colorbar\":{\"outlinewidth\":0,\"ticks\":\"\"}}}],\"scatterpolar\":[{\"type\":\"scatterpolar\",\"marker\":{\"colorbar\":{\"outlinewidth\":0,\"ticks\":\"\"}}}],\"histogram\":[{\"marker\":{\"pattern\":{\"fillmode\":\"overlay\",\"size\":10,\"solidity\":0.2}},\"type\":\"histogram\"}],\"scattergl\":[{\"type\":\"scattergl\",\"marker\":{\"colorbar\":{\"outlinewidth\":0,\"ticks\":\"\"}}}],\"scatter3d\":[{\"type\":\"scatter3d\",\"line\":{\"colorbar\":{\"outlinewidth\":0,\"ticks\":\"\"}},\"marker\":{\"colorbar\":{\"outlinewidth\":0,\"ticks\":\"\"}}}],\"scattermapbox\":[{\"type\":\"scattermapbox\",\"marker\":{\"colorbar\":{\"outlinewidth\":0,\"ticks\":\"\"}}}],\"scatterternary\":[{\"type\":\"scatterternary\",\"marker\":{\"colorbar\":{\"outlinewidth\":0,\"ticks\":\"\"}}}],\"scattercarpet\":[{\"type\":\"scattercarpet\",\"marker\":{\"colorbar\":{\"outlinewidth\":0,\"ticks\":\"\"}}}],\"carpet\":[{\"aaxis\":{\"endlinecolor\":\"#2a3f5f\",\"gridcolor\":\"white\",\"linecolor\":\"white\",\"minorgridcolor\":\"white\",\"startlinecolor\":\"#2a3f5f\"},\"baxis\":{\"endlinecolor\":\"#2a3f5f\",\"gridcolor\":\"white\",\"linecolor\":\"white\",\"minorgridcolor\":\"white\",\"startlinecolor\":\"#2a3f5f\"},\"type\":\"carpet\"}],\"table\":[{\"cells\":{\"fill\":{\"color\":\"#EBF0F8\"},\"line\":{\"color\":\"white\"}},\"header\":{\"fill\":{\"color\":\"#C8D4E3\"},\"line\":{\"color\":\"white\"}},\"type\":\"table\"}],\"barpolar\":[{\"marker\":{\"line\":{\"color\":\"#E5ECF6\",\"width\":0.5},\"pattern\":{\"fillmode\":\"overlay\",\"size\":10,\"solidity\":0.2}},\"type\":\"barpolar\"}],\"pie\":[{\"automargin\":true,\"type\":\"pie\"}]},\"layout\":{\"autotypenumbers\":\"strict\",\"colorway\":[\"#636efa\",\"#EF553B\",\"#00cc96\",\"#ab63fa\",\"#FFA15A\",\"#19d3f3\",\"#FF6692\",\"#B6E880\",\"#FF97FF\",\"#FECB52\"],\"font\":{\"color\":\"#2a3f5f\"},\"hovermode\":\"closest\",\"hoverlabel\":{\"align\":\"left\"},\"paper_bgcolor\":\"white\",\"plot_bgcolor\":\"#E5ECF6\",\"polar\":{\"bgcolor\":\"#E5ECF6\",\"angularaxis\":{\"gridcolor\":\"white\",\"linecolor\":\"white\",\"ticks\":\"\"},\"radialaxis\":{\"gridcolor\":\"white\",\"linecolor\":\"white\",\"ticks\":\"\"}},\"ternary\":{\"bgcolor\":\"#E5ECF6\",\"aaxis\":{\"gridcolor\":\"white\",\"linecolor\":\"white\",\"ticks\":\"\"},\"baxis\":{\"gridcolor\":\"white\",\"linecolor\":\"white\",\"ticks\":\"\"},\"caxis\":{\"gridcolor\":\"white\",\"linecolor\":\"white\",\"ticks\":\"\"}},\"coloraxis\":{\"colorbar\":{\"outlinewidth\":0,\"ticks\":\"\"}},\"colorscale\":{\"sequential\":[[0.0,\"#0d0887\"],[0.1111111111111111,\"#46039f\"],[0.2222222222222222,\"#7201a8\"],[0.3333333333333333,\"#9c179e\"],[0.4444444444444444,\"#bd3786\"],[0.5555555555555556,\"#d8576b\"],[0.6666666666666666,\"#ed7953\"],[0.7777777777777778,\"#fb9f3a\"],[0.8888888888888888,\"#fdca26\"],[1.0,\"#f0f921\"]],\"sequentialminus\":[[0.0,\"#0d0887\"],[0.1111111111111111,\"#46039f\"],[0.2222222222222222,\"#7201a8\"],[0.3333333333333333,\"#9c179e\"],[0.4444444444444444,\"#bd3786\"],[0.5555555555555556,\"#d8576b\"],[0.6666666666666666,\"#ed7953\"],[0.7777777777777778,\"#fb9f3a\"],[0.8888888888888888,\"#fdca26\"],[1.0,\"#f0f921\"]],\"diverging\":[[0,\"#8e0152\"],[0.1,\"#c51b7d\"],[0.2,\"#de77ae\"],[0.3,\"#f1b6da\"],[0.4,\"#fde0ef\"],[0.5,\"#f7f7f7\"],[0.6,\"#e6f5d0\"],[0.7,\"#b8e186\"],[0.8,\"#7fbc41\"],[0.9,\"#4d9221\"],[1,\"#276419\"]]},\"xaxis\":{\"gridcolor\":\"white\",\"linecolor\":\"white\",\"ticks\":\"\",\"title\":{\"standoff\":15},\"zerolinecolor\":\"white\",\"automargin\":true,\"zerolinewidth\":2},\"yaxis\":{\"gridcolor\":\"white\",\"linecolor\":\"white\",\"ticks\":\"\",\"title\":{\"standoff\":15},\"zerolinecolor\":\"white\",\"automargin\":true,\"zerolinewidth\":2},\"scene\":{\"xaxis\":{\"backgroundcolor\":\"#E5ECF6\",\"gridcolor\":\"white\",\"linecolor\":\"white\",\"showbackground\":true,\"ticks\":\"\",\"zerolinecolor\":\"white\",\"gridwidth\":2},\"yaxis\":{\"backgroundcolor\":\"#E5ECF6\",\"gridcolor\":\"white\",\"linecolor\":\"white\",\"showbackground\":true,\"ticks\":\"\",\"zerolinecolor\":\"white\",\"gridwidth\":2},\"zaxis\":{\"backgroundcolor\":\"#E5ECF6\",\"gridcolor\":\"white\",\"linecolor\":\"white\",\"showbackground\":true,\"ticks\":\"\",\"zerolinecolor\":\"white\",\"gridwidth\":2}},\"shapedefaults\":{\"line\":{\"color\":\"#2a3f5f\"}},\"annotationdefaults\":{\"arrowcolor\":\"#2a3f5f\",\"arrowhead\":0,\"arrowwidth\":1},\"geo\":{\"bgcolor\":\"white\",\"landcolor\":\"#E5ECF6\",\"subunitcolor\":\"white\",\"showland\":true,\"showlakes\":true,\"lakecolor\":\"white\"},\"title\":{\"x\":0.05},\"mapbox\":{\"style\":\"light\"}}}},                        {\"responsive\": true}                    ).then(function(){\n",
              "                            \n",
              "var gd = document.getElementById('1dc861a7-0e4f-4042-9f3c-af24eea47e8d');\n",
              "var x = new MutationObserver(function (mutations, observer) {{\n",
              "        var display = window.getComputedStyle(gd).display;\n",
              "        if (!display || display === 'none') {{\n",
              "            console.log([gd, 'removed!']);\n",
              "            Plotly.purge(gd);\n",
              "            observer.disconnect();\n",
              "        }}\n",
              "}});\n",
              "\n",
              "// Listen for the removal of the full notebook cells\n",
              "var notebookContainer = gd.closest('#notebook-container');\n",
              "if (notebookContainer) {{\n",
              "    x.observe(notebookContainer, {childList: true});\n",
              "}}\n",
              "\n",
              "// Listen for the clearing of the current output cell\n",
              "var outputEl = gd.closest('.output');\n",
              "if (outputEl) {{\n",
              "    x.observe(outputEl, {childList: true});\n",
              "}}\n",
              "\n",
              "                        })                };                });            </script>        </div>"
            ]
          },
          "metadata": {}
        }
      ]
    },
    {
      "metadata": {
        "trusted": true,
        "colab": {
          "base_uri": "https://localhost:8080/",
          "height": 1000
        },
        "id": "6PJyG60X9COx",
        "outputId": "99494f22-f8b8-4e8f-e1b7-fb94aae66dff"
      },
      "cell_type": "code",
      "source": [
        "data['sevenDayRollingMean'] = data['Gains'].rolling(7).mean()\n",
        "data"
      ],
      "execution_count": 8,
      "outputs": [
        {
          "output_type": "execute_result",
          "data": {
            "text/plain": [
              "                                   Open          High           Low  \\\n",
              "Date                                                                  \n",
              "2024-02-01 00:00:00+05:30  21780.650391  21832.949219  21658.750000   \n",
              "2024-02-02 00:00:00+05:30  21812.750000  22126.800781  21805.550781   \n",
              "2024-02-05 00:00:00+05:30  21921.050781  21964.300781  21726.949219   \n",
              "2024-02-06 00:00:00+05:30  21825.199219  21951.400391  21737.550781   \n",
              "2024-02-07 00:00:00+05:30  22045.050781  22053.300781  21860.150391   \n",
              "2024-02-08 00:00:00+05:30  22009.650391  22011.050781  21665.300781   \n",
              "2024-02-09 00:00:00+05:30  21727.000000  21804.449219  21629.900391   \n",
              "2024-02-12 00:00:00+05:30  21800.800781  21831.699219  21574.750000   \n",
              "2024-02-13 00:00:00+05:30  21664.300781  21766.800781  21543.349609   \n",
              "2024-02-14 00:00:00+05:30  21578.150391  21870.849609  21530.199219   \n",
              "2024-02-15 00:00:00+05:30  21906.550781  21953.849609  21794.800781   \n",
              "2024-02-16 00:00:00+05:30  22020.300781  22068.650391  21968.949219   \n",
              "2024-02-19 00:00:00+05:30  22103.449219  22186.650391  22021.050781   \n",
              "2024-02-20 00:00:00+05:30  22099.199219  22215.599609  22045.849609   \n",
              "2024-02-21 00:00:00+05:30  22248.849609  22249.400391  21997.949219   \n",
              "2024-02-22 00:00:00+05:30  22081.550781  22252.500000  21875.250000   \n",
              "2024-02-23 00:00:00+05:30  22290.000000  22297.500000  22186.099609   \n",
              "2024-02-26 00:00:00+05:30  22169.199219  22202.150391  22075.150391   \n",
              "2024-02-27 00:00:00+05:30  22090.199219  22218.250000  22085.650391   \n",
              "2024-02-28 00:00:00+05:30  22214.099609  22229.150391  21915.849609   \n",
              "2024-02-29 00:00:00+05:30  21935.199219  22060.550781  21860.650391   \n",
              "2024-03-01 00:00:00+05:30  22048.300781  22353.300781  22047.750000   \n",
              "2024-03-04 00:00:00+05:30  22403.500000  22440.900391  22358.300781   \n",
              "2024-03-05 00:00:00+05:30  22371.250000  22416.900391  22269.150391   \n",
              "2024-03-06 00:00:00+05:30  22327.500000  22497.199219  22224.349609   \n",
              "2024-03-07 00:00:00+05:30  22505.300781  22525.650391  22430.000000   \n",
              "2024-03-11 00:00:00+05:30  22517.500000  22526.599609  22307.250000   \n",
              "2024-03-12 00:00:00+05:30  22334.449219  22452.550781  22256.000000   \n",
              "2024-03-13 00:00:00+05:30  22432.199219  22446.750000  21905.650391   \n",
              "2024-03-14 00:00:00+05:30  21982.550781  22204.599609  21917.500000   \n",
              "2024-03-15 00:00:00+05:30  22064.849609  22120.900391  21931.699219   \n",
              "2024-03-18 00:00:00+05:30  21990.099609  22123.699219  21916.550781   \n",
              "2024-03-19 00:00:00+05:30  21946.449219  21978.300781  21793.099609   \n",
              "2024-03-20 00:00:00+05:30  21843.900391  21930.900391  21710.199219   \n",
              "2024-03-21 00:00:00+05:30  21989.900391  22080.949219  21941.300781   \n",
              "2024-03-22 00:00:00+05:30  21932.199219  22180.699219  21883.300781   \n",
              "2024-03-26 00:00:00+05:30  21947.900391  22073.199219  21947.550781   \n",
              "2024-03-27 00:00:00+05:30  22053.949219  22193.599609  22052.849609   \n",
              "2024-03-28 00:00:00+05:30  22163.599609  22516.000000  22163.599609   \n",
              "2024-04-01 00:00:00+05:30  22455.000000  22529.949219  22427.750000   \n",
              "2024-04-02 00:00:00+05:30  22458.800781  22497.599609  22388.150391   \n",
              "2024-04-03 00:00:00+05:30  22385.699219  22521.099609  22346.500000   \n",
              "2024-04-04 00:00:00+05:30  22592.099609  22619.000000  22303.800781   \n",
              "2024-04-05 00:00:00+05:30  22486.400391  22537.599609  22427.599609   \n",
              "2024-04-08 00:00:00+05:30  22578.349609  22697.300781  22550.349609   \n",
              "2024-04-09 00:00:00+05:30  22765.099609  22768.400391  22612.250000   \n",
              "2024-04-10 00:00:00+05:30  22720.250000  22775.699219  22673.699219   \n",
              "2024-04-12 00:00:00+05:30  22677.400391  22726.449219  22503.750000   \n",
              "2024-04-15 00:00:00+05:30  22339.050781  22427.449219  22259.550781   \n",
              "2024-04-16 00:00:00+05:30  22125.300781  22213.750000  22079.449219   \n",
              "2024-04-18 00:00:00+05:30  22212.349609  22326.500000  21961.699219   \n",
              "2024-04-19 00:00:00+05:30  21861.500000  22179.550781  21777.650391   \n",
              "2024-04-22 00:00:00+05:30  22336.900391  22375.650391  22198.150391   \n",
              "2024-04-23 00:00:00+05:30  22447.050781  22447.550781  22349.449219   \n",
              "2024-04-24 00:00:00+05:30  22421.550781  22476.449219  22384.000000   \n",
              "2024-04-25 00:00:00+05:30  22316.900391  22625.949219  22305.250000   \n",
              "2024-04-26 00:00:00+05:30  22620.400391  22620.400391  22385.550781   \n",
              "2024-04-29 00:00:00+05:30  22475.550781  22655.800781  22441.900391   \n",
              "2024-04-30 00:00:00+05:30  22679.650391  22783.349609  22568.400391   \n",
              "\n",
              "                                  Close  Volume  Dividends  Stock Splits  \\\n",
              "Date                                                                       \n",
              "2024-02-01 00:00:00+05:30  21697.449219  332500        0.0           0.0   \n",
              "2024-02-02 00:00:00+05:30  21853.800781  442800        0.0           0.0   \n",
              "2024-02-05 00:00:00+05:30  21771.699219  440800        0.0           0.0   \n",
              "2024-02-06 00:00:00+05:30  21929.400391  371000        0.0           0.0   \n",
              "2024-02-07 00:00:00+05:30  21930.500000  346300        0.0           0.0   \n",
              "2024-02-08 00:00:00+05:30  21717.949219  491100        0.0           0.0   \n",
              "2024-02-09 00:00:00+05:30  21782.500000  349200        0.0           0.0   \n",
              "2024-02-12 00:00:00+05:30  21616.050781  287400        0.0           0.0   \n",
              "2024-02-13 00:00:00+05:30  21743.250000  365800        0.0           0.0   \n",
              "2024-02-14 00:00:00+05:30  21840.050781  359100        0.0           0.0   \n",
              "2024-02-15 00:00:00+05:30  21910.750000  345400        0.0           0.0   \n",
              "2024-02-16 00:00:00+05:30  22040.699219  343900        0.0           0.0   \n",
              "2024-02-19 00:00:00+05:30  22122.250000       0        0.0           0.0   \n",
              "2024-02-20 00:00:00+05:30  22196.949219  295700        0.0           0.0   \n",
              "2024-02-21 00:00:00+05:30  22055.050781  364500        0.0           0.0   \n",
              "2024-02-22 00:00:00+05:30  22217.449219  343500        0.0           0.0   \n",
              "2024-02-23 00:00:00+05:30  22212.699219  226000        0.0           0.0   \n",
              "2024-02-26 00:00:00+05:30  22122.050781  207800        0.0           0.0   \n",
              "2024-02-27 00:00:00+05:30  22198.349609  252200        0.0           0.0   \n",
              "2024-02-28 00:00:00+05:30  21951.150391  203000        0.0           0.0   \n",
              "2024-02-29 00:00:00+05:30  21982.800781  360200        0.0           0.0   \n",
              "2024-03-01 00:00:00+05:30  22338.750000  351500        0.0           0.0   \n",
              "2024-03-04 00:00:00+05:30  22405.599609  298800        0.0           0.0   \n",
              "2024-03-05 00:00:00+05:30  22356.300781  296200        0.0           0.0   \n",
              "2024-03-06 00:00:00+05:30  22474.050781  312300        0.0           0.0   \n",
              "2024-03-07 00:00:00+05:30  22493.550781  379900        0.0           0.0   \n",
              "2024-03-11 00:00:00+05:30  22332.650391  277900        0.0           0.0   \n",
              "2024-03-12 00:00:00+05:30  22335.699219  299200        0.0           0.0   \n",
              "2024-03-13 00:00:00+05:30  21997.699219  493300        0.0           0.0   \n",
              "2024-03-14 00:00:00+05:30  22146.650391  426700        0.0           0.0   \n",
              "2024-03-15 00:00:00+05:30  22023.349609  661500        0.0           0.0   \n",
              "2024-03-18 00:00:00+05:30  22055.699219  356300        0.0           0.0   \n",
              "2024-03-19 00:00:00+05:30  21817.449219  344200        0.0           0.0   \n",
              "2024-03-20 00:00:00+05:30  21839.099609  312400        0.0           0.0   \n",
              "2024-03-21 00:00:00+05:30  22011.949219  353200        0.0           0.0   \n",
              "2024-03-22 00:00:00+05:30  22096.750000  388700        0.0           0.0   \n",
              "2024-03-26 00:00:00+05:30  22004.699219  328400        0.0           0.0   \n",
              "2024-03-27 00:00:00+05:30  22123.650391  409100        0.0           0.0   \n",
              "2024-03-28 00:00:00+05:30  22326.900391  410500        0.0           0.0   \n",
              "2024-04-01 00:00:00+05:30  22462.000000       0        0.0           0.0   \n",
              "2024-04-02 00:00:00+05:30  22453.300781  289500        0.0           0.0   \n",
              "2024-04-03 00:00:00+05:30  22434.650391  309600        0.0           0.0   \n",
              "2024-04-04 00:00:00+05:30  22514.650391  401000        0.0           0.0   \n",
              "2024-04-05 00:00:00+05:30  22513.699219  242200        0.0           0.0   \n",
              "2024-04-08 00:00:00+05:30  22666.300781  227600        0.0           0.0   \n",
              "2024-04-09 00:00:00+05:30  22642.750000  232400        0.0           0.0   \n",
              "2024-04-10 00:00:00+05:30  22753.800781  276800        0.0           0.0   \n",
              "2024-04-12 00:00:00+05:30  22519.400391  357200        0.0           0.0   \n",
              "2024-04-15 00:00:00+05:30  22272.500000  355500        0.0           0.0   \n",
              "2024-04-16 00:00:00+05:30  22147.900391  317300        0.0           0.0   \n",
              "2024-04-18 00:00:00+05:30  21995.849609  456900        0.0           0.0   \n",
              "2024-04-19 00:00:00+05:30  22147.000000  362500        0.0           0.0   \n",
              "2024-04-22 00:00:00+05:30  22336.400391  279300        0.0           0.0   \n",
              "2024-04-23 00:00:00+05:30  22368.000000  231500        0.0           0.0   \n",
              "2024-04-24 00:00:00+05:30  22402.400391  235900        0.0           0.0   \n",
              "2024-04-25 00:00:00+05:30  22570.349609  475000        0.0           0.0   \n",
              "2024-04-26 00:00:00+05:30  22419.949219  329900        0.0           0.0   \n",
              "2024-04-29 00:00:00+05:30  22643.400391  292000        0.0           0.0   \n",
              "2024-04-30 00:00:00+05:30  22604.849609  361900        0.0           0.0   \n",
              "\n",
              "                                Gains  PercentageGain  sevenDayRollingMean  \n",
              "Date                                                                        \n",
              "2024-02-01 00:00:00+05:30  -83.201172       -0.381996                  NaN  \n",
              "2024-02-02 00:00:00+05:30   41.050781        0.188196                  NaN  \n",
              "2024-02-05 00:00:00+05:30 -149.351562       -0.681316                  NaN  \n",
              "2024-02-06 00:00:00+05:30  104.201172        0.477435                  NaN  \n",
              "2024-02-07 00:00:00+05:30 -114.550781       -0.519621                  NaN  \n",
              "2024-02-08 00:00:00+05:30 -291.701172       -1.325333                  NaN  \n",
              "2024-02-09 00:00:00+05:30   55.500000        0.255443           -62.578962  \n",
              "2024-02-12 00:00:00+05:30 -184.750000       -0.847446           -77.085938  \n",
              "2024-02-13 00:00:00+05:30   78.949219        0.364421           -71.671875  \n",
              "2024-02-14 00:00:00+05:30  261.900391        1.213730           -12.921596  \n",
              "2024-02-15 00:00:00+05:30    4.199219        0.019169           -27.207589  \n",
              "2024-02-16 00:00:00+05:30   20.398438        0.092635            -7.929129  \n",
              "2024-02-19 00:00:00+05:30   18.800781        0.085058            36.428292  \n",
              "2024-02-20 00:00:00+05:30   97.750000        0.442324            42.464007  \n",
              "2024-02-21 00:00:00+05:30 -193.798828       -0.871051            41.171317  \n",
              "2024-02-22 00:00:00+05:30  135.898438        0.615439            49.306920  \n",
              "2024-02-23 00:00:00+05:30  -77.300781       -0.346796             0.849609  \n",
              "2024-02-26 00:00:00+05:30  -47.148438       -0.212675            -6.485770  \n",
              "2024-02-27 00:00:00+05:30  108.150391        0.489585             6.050223  \n",
              "2024-02-28 00:00:00+05:30 -262.949219       -1.183704           -34.199777  \n",
              "2024-02-29 00:00:00+05:30   47.601562        0.217010           -41.363839  \n",
              "2024-03-01 00:00:00+05:30  290.449219        1.317332            27.814453  \n",
              "2024-03-04 00:00:00+05:30    2.099609        0.009372             8.700335  \n",
              "2024-03-05 00:00:00+05:30  -14.949219       -0.066823            17.607701  \n",
              "2024-03-06 00:00:00+05:30  146.550781        0.656369            45.279018  \n",
              "2024-03-07 00:00:00+05:30  -11.750000       -0.052210            28.150391  \n",
              "2024-03-11 00:00:00+05:30 -184.849609       -0.820915            39.307478  \n",
              "2024-03-12 00:00:00+05:30    1.250000        0.005597            32.685826  \n",
              "2024-03-13 00:00:00+05:30 -434.500000       -1.936948           -70.878348  \n",
              "2024-03-14 00:00:00+05:30  164.099609        0.746499           -47.735491  \n",
              "2024-03-15 00:00:00+05:30  -41.500000       -0.188082           -51.528460  \n",
              "2024-03-18 00:00:00+05:30   65.599609        0.298314           -63.092913  \n",
              "2024-03-19 00:00:00+05:30 -129.000000       -0.587794           -79.842913  \n",
              "2024-03-20 00:00:00+05:30   -4.800781       -0.021978           -54.121652  \n",
              "2024-03-21 00:00:00+05:30   22.048828        0.100268           -51.150391  \n",
              "2024-03-22 00:00:00+05:30  164.550781        0.750270            34.428292  \n",
              "2024-03-26 00:00:00+05:30   56.798828        0.258789            19.099609  \n",
              "2024-03-27 00:00:00+05:30   69.701172        0.316048            34.985491  \n",
              "2024-03-28 00:00:00+05:30  163.300781        0.736797            48.942801  \n",
              "2024-04-01 00:00:00+05:30    7.000000        0.031173            68.371373  \n",
              "2024-04-02 00:00:00+05:30   -5.500000       -0.024489            68.271484  \n",
              "2024-04-03 00:00:00+05:30   48.951172        0.218672            72.114676  \n",
              "2024-04-04 00:00:00+05:30  -77.449219       -0.342815            37.543248  \n",
              "2024-04-05 00:00:00+05:30   27.298828        0.121402            33.328962  \n",
              "2024-04-08 00:00:00+05:30   87.951172        0.389538            35.936105  \n",
              "2024-04-09 00:00:00+05:30 -122.349609       -0.537444            -4.871094  \n",
              "2024-04-10 00:00:00+05:30   33.550781        0.147669            -1.078125  \n",
              "2024-04-12 00:00:00+05:30 -158.000000       -0.696729           -22.863839  \n",
              "2024-04-15 00:00:00+05:30  -66.550781       -0.297912           -39.364118  \n",
              "2024-04-16 00:00:00+05:30   22.599609        0.102144           -25.071429  \n",
              "2024-04-18 00:00:00+05:30 -216.500000       -0.974683           -59.899833  \n",
              "2024-04-19 00:00:00+05:30  285.500000        1.305949           -31.678571  \n",
              "2024-04-22 00:00:00+05:30   -0.500000       -0.002238           -14.271484  \n",
              "2024-04-23 00:00:00+05:30  -79.050781       -0.352166           -30.357422  \n",
              "2024-04-24 00:00:00+05:30  -19.150391       -0.085411           -10.521763  \n",
              "2024-04-25 00:00:00+05:30  253.449219        1.135683            35.192522  \n",
              "2024-04-26 00:00:00+05:30 -200.451172       -0.886152             3.328125  \n",
              "2024-04-29 00:00:00+05:30  167.849609        0.746810            58.235212  \n",
              "2024-04-30 00:00:00+05:30  -74.800781       -0.329815             6.763672  "
            ],
            "text/html": [
              "\n",
              "  <div id=\"df-f6e0ab5a-5443-483a-91c8-3cd306da03d2\" class=\"colab-df-container\">\n",
              "    <div>\n",
              "<style scoped>\n",
              "    .dataframe tbody tr th:only-of-type {\n",
              "        vertical-align: middle;\n",
              "    }\n",
              "\n",
              "    .dataframe tbody tr th {\n",
              "        vertical-align: top;\n",
              "    }\n",
              "\n",
              "    .dataframe thead th {\n",
              "        text-align: right;\n",
              "    }\n",
              "</style>\n",
              "<table border=\"1\" class=\"dataframe\">\n",
              "  <thead>\n",
              "    <tr style=\"text-align: right;\">\n",
              "      <th></th>\n",
              "      <th>Open</th>\n",
              "      <th>High</th>\n",
              "      <th>Low</th>\n",
              "      <th>Close</th>\n",
              "      <th>Volume</th>\n",
              "      <th>Dividends</th>\n",
              "      <th>Stock Splits</th>\n",
              "      <th>Gains</th>\n",
              "      <th>PercentageGain</th>\n",
              "      <th>sevenDayRollingMean</th>\n",
              "    </tr>\n",
              "    <tr>\n",
              "      <th>Date</th>\n",
              "      <th></th>\n",
              "      <th></th>\n",
              "      <th></th>\n",
              "      <th></th>\n",
              "      <th></th>\n",
              "      <th></th>\n",
              "      <th></th>\n",
              "      <th></th>\n",
              "      <th></th>\n",
              "      <th></th>\n",
              "    </tr>\n",
              "  </thead>\n",
              "  <tbody>\n",
              "    <tr>\n",
              "      <th>2024-02-01 00:00:00+05:30</th>\n",
              "      <td>21780.650391</td>\n",
              "      <td>21832.949219</td>\n",
              "      <td>21658.750000</td>\n",
              "      <td>21697.449219</td>\n",
              "      <td>332500</td>\n",
              "      <td>0.0</td>\n",
              "      <td>0.0</td>\n",
              "      <td>-83.201172</td>\n",
              "      <td>-0.381996</td>\n",
              "      <td>NaN</td>\n",
              "    </tr>\n",
              "    <tr>\n",
              "      <th>2024-02-02 00:00:00+05:30</th>\n",
              "      <td>21812.750000</td>\n",
              "      <td>22126.800781</td>\n",
              "      <td>21805.550781</td>\n",
              "      <td>21853.800781</td>\n",
              "      <td>442800</td>\n",
              "      <td>0.0</td>\n",
              "      <td>0.0</td>\n",
              "      <td>41.050781</td>\n",
              "      <td>0.188196</td>\n",
              "      <td>NaN</td>\n",
              "    </tr>\n",
              "    <tr>\n",
              "      <th>2024-02-05 00:00:00+05:30</th>\n",
              "      <td>21921.050781</td>\n",
              "      <td>21964.300781</td>\n",
              "      <td>21726.949219</td>\n",
              "      <td>21771.699219</td>\n",
              "      <td>440800</td>\n",
              "      <td>0.0</td>\n",
              "      <td>0.0</td>\n",
              "      <td>-149.351562</td>\n",
              "      <td>-0.681316</td>\n",
              "      <td>NaN</td>\n",
              "    </tr>\n",
              "    <tr>\n",
              "      <th>2024-02-06 00:00:00+05:30</th>\n",
              "      <td>21825.199219</td>\n",
              "      <td>21951.400391</td>\n",
              "      <td>21737.550781</td>\n",
              "      <td>21929.400391</td>\n",
              "      <td>371000</td>\n",
              "      <td>0.0</td>\n",
              "      <td>0.0</td>\n",
              "      <td>104.201172</td>\n",
              "      <td>0.477435</td>\n",
              "      <td>NaN</td>\n",
              "    </tr>\n",
              "    <tr>\n",
              "      <th>2024-02-07 00:00:00+05:30</th>\n",
              "      <td>22045.050781</td>\n",
              "      <td>22053.300781</td>\n",
              "      <td>21860.150391</td>\n",
              "      <td>21930.500000</td>\n",
              "      <td>346300</td>\n",
              "      <td>0.0</td>\n",
              "      <td>0.0</td>\n",
              "      <td>-114.550781</td>\n",
              "      <td>-0.519621</td>\n",
              "      <td>NaN</td>\n",
              "    </tr>\n",
              "    <tr>\n",
              "      <th>2024-02-08 00:00:00+05:30</th>\n",
              "      <td>22009.650391</td>\n",
              "      <td>22011.050781</td>\n",
              "      <td>21665.300781</td>\n",
              "      <td>21717.949219</td>\n",
              "      <td>491100</td>\n",
              "      <td>0.0</td>\n",
              "      <td>0.0</td>\n",
              "      <td>-291.701172</td>\n",
              "      <td>-1.325333</td>\n",
              "      <td>NaN</td>\n",
              "    </tr>\n",
              "    <tr>\n",
              "      <th>2024-02-09 00:00:00+05:30</th>\n",
              "      <td>21727.000000</td>\n",
              "      <td>21804.449219</td>\n",
              "      <td>21629.900391</td>\n",
              "      <td>21782.500000</td>\n",
              "      <td>349200</td>\n",
              "      <td>0.0</td>\n",
              "      <td>0.0</td>\n",
              "      <td>55.500000</td>\n",
              "      <td>0.255443</td>\n",
              "      <td>-62.578962</td>\n",
              "    </tr>\n",
              "    <tr>\n",
              "      <th>2024-02-12 00:00:00+05:30</th>\n",
              "      <td>21800.800781</td>\n",
              "      <td>21831.699219</td>\n",
              "      <td>21574.750000</td>\n",
              "      <td>21616.050781</td>\n",
              "      <td>287400</td>\n",
              "      <td>0.0</td>\n",
              "      <td>0.0</td>\n",
              "      <td>-184.750000</td>\n",
              "      <td>-0.847446</td>\n",
              "      <td>-77.085938</td>\n",
              "    </tr>\n",
              "    <tr>\n",
              "      <th>2024-02-13 00:00:00+05:30</th>\n",
              "      <td>21664.300781</td>\n",
              "      <td>21766.800781</td>\n",
              "      <td>21543.349609</td>\n",
              "      <td>21743.250000</td>\n",
              "      <td>365800</td>\n",
              "      <td>0.0</td>\n",
              "      <td>0.0</td>\n",
              "      <td>78.949219</td>\n",
              "      <td>0.364421</td>\n",
              "      <td>-71.671875</td>\n",
              "    </tr>\n",
              "    <tr>\n",
              "      <th>2024-02-14 00:00:00+05:30</th>\n",
              "      <td>21578.150391</td>\n",
              "      <td>21870.849609</td>\n",
              "      <td>21530.199219</td>\n",
              "      <td>21840.050781</td>\n",
              "      <td>359100</td>\n",
              "      <td>0.0</td>\n",
              "      <td>0.0</td>\n",
              "      <td>261.900391</td>\n",
              "      <td>1.213730</td>\n",
              "      <td>-12.921596</td>\n",
              "    </tr>\n",
              "    <tr>\n",
              "      <th>2024-02-15 00:00:00+05:30</th>\n",
              "      <td>21906.550781</td>\n",
              "      <td>21953.849609</td>\n",
              "      <td>21794.800781</td>\n",
              "      <td>21910.750000</td>\n",
              "      <td>345400</td>\n",
              "      <td>0.0</td>\n",
              "      <td>0.0</td>\n",
              "      <td>4.199219</td>\n",
              "      <td>0.019169</td>\n",
              "      <td>-27.207589</td>\n",
              "    </tr>\n",
              "    <tr>\n",
              "      <th>2024-02-16 00:00:00+05:30</th>\n",
              "      <td>22020.300781</td>\n",
              "      <td>22068.650391</td>\n",
              "      <td>21968.949219</td>\n",
              "      <td>22040.699219</td>\n",
              "      <td>343900</td>\n",
              "      <td>0.0</td>\n",
              "      <td>0.0</td>\n",
              "      <td>20.398438</td>\n",
              "      <td>0.092635</td>\n",
              "      <td>-7.929129</td>\n",
              "    </tr>\n",
              "    <tr>\n",
              "      <th>2024-02-19 00:00:00+05:30</th>\n",
              "      <td>22103.449219</td>\n",
              "      <td>22186.650391</td>\n",
              "      <td>22021.050781</td>\n",
              "      <td>22122.250000</td>\n",
              "      <td>0</td>\n",
              "      <td>0.0</td>\n",
              "      <td>0.0</td>\n",
              "      <td>18.800781</td>\n",
              "      <td>0.085058</td>\n",
              "      <td>36.428292</td>\n",
              "    </tr>\n",
              "    <tr>\n",
              "      <th>2024-02-20 00:00:00+05:30</th>\n",
              "      <td>22099.199219</td>\n",
              "      <td>22215.599609</td>\n",
              "      <td>22045.849609</td>\n",
              "      <td>22196.949219</td>\n",
              "      <td>295700</td>\n",
              "      <td>0.0</td>\n",
              "      <td>0.0</td>\n",
              "      <td>97.750000</td>\n",
              "      <td>0.442324</td>\n",
              "      <td>42.464007</td>\n",
              "    </tr>\n",
              "    <tr>\n",
              "      <th>2024-02-21 00:00:00+05:30</th>\n",
              "      <td>22248.849609</td>\n",
              "      <td>22249.400391</td>\n",
              "      <td>21997.949219</td>\n",
              "      <td>22055.050781</td>\n",
              "      <td>364500</td>\n",
              "      <td>0.0</td>\n",
              "      <td>0.0</td>\n",
              "      <td>-193.798828</td>\n",
              "      <td>-0.871051</td>\n",
              "      <td>41.171317</td>\n",
              "    </tr>\n",
              "    <tr>\n",
              "      <th>2024-02-22 00:00:00+05:30</th>\n",
              "      <td>22081.550781</td>\n",
              "      <td>22252.500000</td>\n",
              "      <td>21875.250000</td>\n",
              "      <td>22217.449219</td>\n",
              "      <td>343500</td>\n",
              "      <td>0.0</td>\n",
              "      <td>0.0</td>\n",
              "      <td>135.898438</td>\n",
              "      <td>0.615439</td>\n",
              "      <td>49.306920</td>\n",
              "    </tr>\n",
              "    <tr>\n",
              "      <th>2024-02-23 00:00:00+05:30</th>\n",
              "      <td>22290.000000</td>\n",
              "      <td>22297.500000</td>\n",
              "      <td>22186.099609</td>\n",
              "      <td>22212.699219</td>\n",
              "      <td>226000</td>\n",
              "      <td>0.0</td>\n",
              "      <td>0.0</td>\n",
              "      <td>-77.300781</td>\n",
              "      <td>-0.346796</td>\n",
              "      <td>0.849609</td>\n",
              "    </tr>\n",
              "    <tr>\n",
              "      <th>2024-02-26 00:00:00+05:30</th>\n",
              "      <td>22169.199219</td>\n",
              "      <td>22202.150391</td>\n",
              "      <td>22075.150391</td>\n",
              "      <td>22122.050781</td>\n",
              "      <td>207800</td>\n",
              "      <td>0.0</td>\n",
              "      <td>0.0</td>\n",
              "      <td>-47.148438</td>\n",
              "      <td>-0.212675</td>\n",
              "      <td>-6.485770</td>\n",
              "    </tr>\n",
              "    <tr>\n",
              "      <th>2024-02-27 00:00:00+05:30</th>\n",
              "      <td>22090.199219</td>\n",
              "      <td>22218.250000</td>\n",
              "      <td>22085.650391</td>\n",
              "      <td>22198.349609</td>\n",
              "      <td>252200</td>\n",
              "      <td>0.0</td>\n",
              "      <td>0.0</td>\n",
              "      <td>108.150391</td>\n",
              "      <td>0.489585</td>\n",
              "      <td>6.050223</td>\n",
              "    </tr>\n",
              "    <tr>\n",
              "      <th>2024-02-28 00:00:00+05:30</th>\n",
              "      <td>22214.099609</td>\n",
              "      <td>22229.150391</td>\n",
              "      <td>21915.849609</td>\n",
              "      <td>21951.150391</td>\n",
              "      <td>203000</td>\n",
              "      <td>0.0</td>\n",
              "      <td>0.0</td>\n",
              "      <td>-262.949219</td>\n",
              "      <td>-1.183704</td>\n",
              "      <td>-34.199777</td>\n",
              "    </tr>\n",
              "    <tr>\n",
              "      <th>2024-02-29 00:00:00+05:30</th>\n",
              "      <td>21935.199219</td>\n",
              "      <td>22060.550781</td>\n",
              "      <td>21860.650391</td>\n",
              "      <td>21982.800781</td>\n",
              "      <td>360200</td>\n",
              "      <td>0.0</td>\n",
              "      <td>0.0</td>\n",
              "      <td>47.601562</td>\n",
              "      <td>0.217010</td>\n",
              "      <td>-41.363839</td>\n",
              "    </tr>\n",
              "    <tr>\n",
              "      <th>2024-03-01 00:00:00+05:30</th>\n",
              "      <td>22048.300781</td>\n",
              "      <td>22353.300781</td>\n",
              "      <td>22047.750000</td>\n",
              "      <td>22338.750000</td>\n",
              "      <td>351500</td>\n",
              "      <td>0.0</td>\n",
              "      <td>0.0</td>\n",
              "      <td>290.449219</td>\n",
              "      <td>1.317332</td>\n",
              "      <td>27.814453</td>\n",
              "    </tr>\n",
              "    <tr>\n",
              "      <th>2024-03-04 00:00:00+05:30</th>\n",
              "      <td>22403.500000</td>\n",
              "      <td>22440.900391</td>\n",
              "      <td>22358.300781</td>\n",
              "      <td>22405.599609</td>\n",
              "      <td>298800</td>\n",
              "      <td>0.0</td>\n",
              "      <td>0.0</td>\n",
              "      <td>2.099609</td>\n",
              "      <td>0.009372</td>\n",
              "      <td>8.700335</td>\n",
              "    </tr>\n",
              "    <tr>\n",
              "      <th>2024-03-05 00:00:00+05:30</th>\n",
              "      <td>22371.250000</td>\n",
              "      <td>22416.900391</td>\n",
              "      <td>22269.150391</td>\n",
              "      <td>22356.300781</td>\n",
              "      <td>296200</td>\n",
              "      <td>0.0</td>\n",
              "      <td>0.0</td>\n",
              "      <td>-14.949219</td>\n",
              "      <td>-0.066823</td>\n",
              "      <td>17.607701</td>\n",
              "    </tr>\n",
              "    <tr>\n",
              "      <th>2024-03-06 00:00:00+05:30</th>\n",
              "      <td>22327.500000</td>\n",
              "      <td>22497.199219</td>\n",
              "      <td>22224.349609</td>\n",
              "      <td>22474.050781</td>\n",
              "      <td>312300</td>\n",
              "      <td>0.0</td>\n",
              "      <td>0.0</td>\n",
              "      <td>146.550781</td>\n",
              "      <td>0.656369</td>\n",
              "      <td>45.279018</td>\n",
              "    </tr>\n",
              "    <tr>\n",
              "      <th>2024-03-07 00:00:00+05:30</th>\n",
              "      <td>22505.300781</td>\n",
              "      <td>22525.650391</td>\n",
              "      <td>22430.000000</td>\n",
              "      <td>22493.550781</td>\n",
              "      <td>379900</td>\n",
              "      <td>0.0</td>\n",
              "      <td>0.0</td>\n",
              "      <td>-11.750000</td>\n",
              "      <td>-0.052210</td>\n",
              "      <td>28.150391</td>\n",
              "    </tr>\n",
              "    <tr>\n",
              "      <th>2024-03-11 00:00:00+05:30</th>\n",
              "      <td>22517.500000</td>\n",
              "      <td>22526.599609</td>\n",
              "      <td>22307.250000</td>\n",
              "      <td>22332.650391</td>\n",
              "      <td>277900</td>\n",
              "      <td>0.0</td>\n",
              "      <td>0.0</td>\n",
              "      <td>-184.849609</td>\n",
              "      <td>-0.820915</td>\n",
              "      <td>39.307478</td>\n",
              "    </tr>\n",
              "    <tr>\n",
              "      <th>2024-03-12 00:00:00+05:30</th>\n",
              "      <td>22334.449219</td>\n",
              "      <td>22452.550781</td>\n",
              "      <td>22256.000000</td>\n",
              "      <td>22335.699219</td>\n",
              "      <td>299200</td>\n",
              "      <td>0.0</td>\n",
              "      <td>0.0</td>\n",
              "      <td>1.250000</td>\n",
              "      <td>0.005597</td>\n",
              "      <td>32.685826</td>\n",
              "    </tr>\n",
              "    <tr>\n",
              "      <th>2024-03-13 00:00:00+05:30</th>\n",
              "      <td>22432.199219</td>\n",
              "      <td>22446.750000</td>\n",
              "      <td>21905.650391</td>\n",
              "      <td>21997.699219</td>\n",
              "      <td>493300</td>\n",
              "      <td>0.0</td>\n",
              "      <td>0.0</td>\n",
              "      <td>-434.500000</td>\n",
              "      <td>-1.936948</td>\n",
              "      <td>-70.878348</td>\n",
              "    </tr>\n",
              "    <tr>\n",
              "      <th>2024-03-14 00:00:00+05:30</th>\n",
              "      <td>21982.550781</td>\n",
              "      <td>22204.599609</td>\n",
              "      <td>21917.500000</td>\n",
              "      <td>22146.650391</td>\n",
              "      <td>426700</td>\n",
              "      <td>0.0</td>\n",
              "      <td>0.0</td>\n",
              "      <td>164.099609</td>\n",
              "      <td>0.746499</td>\n",
              "      <td>-47.735491</td>\n",
              "    </tr>\n",
              "    <tr>\n",
              "      <th>2024-03-15 00:00:00+05:30</th>\n",
              "      <td>22064.849609</td>\n",
              "      <td>22120.900391</td>\n",
              "      <td>21931.699219</td>\n",
              "      <td>22023.349609</td>\n",
              "      <td>661500</td>\n",
              "      <td>0.0</td>\n",
              "      <td>0.0</td>\n",
              "      <td>-41.500000</td>\n",
              "      <td>-0.188082</td>\n",
              "      <td>-51.528460</td>\n",
              "    </tr>\n",
              "    <tr>\n",
              "      <th>2024-03-18 00:00:00+05:30</th>\n",
              "      <td>21990.099609</td>\n",
              "      <td>22123.699219</td>\n",
              "      <td>21916.550781</td>\n",
              "      <td>22055.699219</td>\n",
              "      <td>356300</td>\n",
              "      <td>0.0</td>\n",
              "      <td>0.0</td>\n",
              "      <td>65.599609</td>\n",
              "      <td>0.298314</td>\n",
              "      <td>-63.092913</td>\n",
              "    </tr>\n",
              "    <tr>\n",
              "      <th>2024-03-19 00:00:00+05:30</th>\n",
              "      <td>21946.449219</td>\n",
              "      <td>21978.300781</td>\n",
              "      <td>21793.099609</td>\n",
              "      <td>21817.449219</td>\n",
              "      <td>344200</td>\n",
              "      <td>0.0</td>\n",
              "      <td>0.0</td>\n",
              "      <td>-129.000000</td>\n",
              "      <td>-0.587794</td>\n",
              "      <td>-79.842913</td>\n",
              "    </tr>\n",
              "    <tr>\n",
              "      <th>2024-03-20 00:00:00+05:30</th>\n",
              "      <td>21843.900391</td>\n",
              "      <td>21930.900391</td>\n",
              "      <td>21710.199219</td>\n",
              "      <td>21839.099609</td>\n",
              "      <td>312400</td>\n",
              "      <td>0.0</td>\n",
              "      <td>0.0</td>\n",
              "      <td>-4.800781</td>\n",
              "      <td>-0.021978</td>\n",
              "      <td>-54.121652</td>\n",
              "    </tr>\n",
              "    <tr>\n",
              "      <th>2024-03-21 00:00:00+05:30</th>\n",
              "      <td>21989.900391</td>\n",
              "      <td>22080.949219</td>\n",
              "      <td>21941.300781</td>\n",
              "      <td>22011.949219</td>\n",
              "      <td>353200</td>\n",
              "      <td>0.0</td>\n",
              "      <td>0.0</td>\n",
              "      <td>22.048828</td>\n",
              "      <td>0.100268</td>\n",
              "      <td>-51.150391</td>\n",
              "    </tr>\n",
              "    <tr>\n",
              "      <th>2024-03-22 00:00:00+05:30</th>\n",
              "      <td>21932.199219</td>\n",
              "      <td>22180.699219</td>\n",
              "      <td>21883.300781</td>\n",
              "      <td>22096.750000</td>\n",
              "      <td>388700</td>\n",
              "      <td>0.0</td>\n",
              "      <td>0.0</td>\n",
              "      <td>164.550781</td>\n",
              "      <td>0.750270</td>\n",
              "      <td>34.428292</td>\n",
              "    </tr>\n",
              "    <tr>\n",
              "      <th>2024-03-26 00:00:00+05:30</th>\n",
              "      <td>21947.900391</td>\n",
              "      <td>22073.199219</td>\n",
              "      <td>21947.550781</td>\n",
              "      <td>22004.699219</td>\n",
              "      <td>328400</td>\n",
              "      <td>0.0</td>\n",
              "      <td>0.0</td>\n",
              "      <td>56.798828</td>\n",
              "      <td>0.258789</td>\n",
              "      <td>19.099609</td>\n",
              "    </tr>\n",
              "    <tr>\n",
              "      <th>2024-03-27 00:00:00+05:30</th>\n",
              "      <td>22053.949219</td>\n",
              "      <td>22193.599609</td>\n",
              "      <td>22052.849609</td>\n",
              "      <td>22123.650391</td>\n",
              "      <td>409100</td>\n",
              "      <td>0.0</td>\n",
              "      <td>0.0</td>\n",
              "      <td>69.701172</td>\n",
              "      <td>0.316048</td>\n",
              "      <td>34.985491</td>\n",
              "    </tr>\n",
              "    <tr>\n",
              "      <th>2024-03-28 00:00:00+05:30</th>\n",
              "      <td>22163.599609</td>\n",
              "      <td>22516.000000</td>\n",
              "      <td>22163.599609</td>\n",
              "      <td>22326.900391</td>\n",
              "      <td>410500</td>\n",
              "      <td>0.0</td>\n",
              "      <td>0.0</td>\n",
              "      <td>163.300781</td>\n",
              "      <td>0.736797</td>\n",
              "      <td>48.942801</td>\n",
              "    </tr>\n",
              "    <tr>\n",
              "      <th>2024-04-01 00:00:00+05:30</th>\n",
              "      <td>22455.000000</td>\n",
              "      <td>22529.949219</td>\n",
              "      <td>22427.750000</td>\n",
              "      <td>22462.000000</td>\n",
              "      <td>0</td>\n",
              "      <td>0.0</td>\n",
              "      <td>0.0</td>\n",
              "      <td>7.000000</td>\n",
              "      <td>0.031173</td>\n",
              "      <td>68.371373</td>\n",
              "    </tr>\n",
              "    <tr>\n",
              "      <th>2024-04-02 00:00:00+05:30</th>\n",
              "      <td>22458.800781</td>\n",
              "      <td>22497.599609</td>\n",
              "      <td>22388.150391</td>\n",
              "      <td>22453.300781</td>\n",
              "      <td>289500</td>\n",
              "      <td>0.0</td>\n",
              "      <td>0.0</td>\n",
              "      <td>-5.500000</td>\n",
              "      <td>-0.024489</td>\n",
              "      <td>68.271484</td>\n",
              "    </tr>\n",
              "    <tr>\n",
              "      <th>2024-04-03 00:00:00+05:30</th>\n",
              "      <td>22385.699219</td>\n",
              "      <td>22521.099609</td>\n",
              "      <td>22346.500000</td>\n",
              "      <td>22434.650391</td>\n",
              "      <td>309600</td>\n",
              "      <td>0.0</td>\n",
              "      <td>0.0</td>\n",
              "      <td>48.951172</td>\n",
              "      <td>0.218672</td>\n",
              "      <td>72.114676</td>\n",
              "    </tr>\n",
              "    <tr>\n",
              "      <th>2024-04-04 00:00:00+05:30</th>\n",
              "      <td>22592.099609</td>\n",
              "      <td>22619.000000</td>\n",
              "      <td>22303.800781</td>\n",
              "      <td>22514.650391</td>\n",
              "      <td>401000</td>\n",
              "      <td>0.0</td>\n",
              "      <td>0.0</td>\n",
              "      <td>-77.449219</td>\n",
              "      <td>-0.342815</td>\n",
              "      <td>37.543248</td>\n",
              "    </tr>\n",
              "    <tr>\n",
              "      <th>2024-04-05 00:00:00+05:30</th>\n",
              "      <td>22486.400391</td>\n",
              "      <td>22537.599609</td>\n",
              "      <td>22427.599609</td>\n",
              "      <td>22513.699219</td>\n",
              "      <td>242200</td>\n",
              "      <td>0.0</td>\n",
              "      <td>0.0</td>\n",
              "      <td>27.298828</td>\n",
              "      <td>0.121402</td>\n",
              "      <td>33.328962</td>\n",
              "    </tr>\n",
              "    <tr>\n",
              "      <th>2024-04-08 00:00:00+05:30</th>\n",
              "      <td>22578.349609</td>\n",
              "      <td>22697.300781</td>\n",
              "      <td>22550.349609</td>\n",
              "      <td>22666.300781</td>\n",
              "      <td>227600</td>\n",
              "      <td>0.0</td>\n",
              "      <td>0.0</td>\n",
              "      <td>87.951172</td>\n",
              "      <td>0.389538</td>\n",
              "      <td>35.936105</td>\n",
              "    </tr>\n",
              "    <tr>\n",
              "      <th>2024-04-09 00:00:00+05:30</th>\n",
              "      <td>22765.099609</td>\n",
              "      <td>22768.400391</td>\n",
              "      <td>22612.250000</td>\n",
              "      <td>22642.750000</td>\n",
              "      <td>232400</td>\n",
              "      <td>0.0</td>\n",
              "      <td>0.0</td>\n",
              "      <td>-122.349609</td>\n",
              "      <td>-0.537444</td>\n",
              "      <td>-4.871094</td>\n",
              "    </tr>\n",
              "    <tr>\n",
              "      <th>2024-04-10 00:00:00+05:30</th>\n",
              "      <td>22720.250000</td>\n",
              "      <td>22775.699219</td>\n",
              "      <td>22673.699219</td>\n",
              "      <td>22753.800781</td>\n",
              "      <td>276800</td>\n",
              "      <td>0.0</td>\n",
              "      <td>0.0</td>\n",
              "      <td>33.550781</td>\n",
              "      <td>0.147669</td>\n",
              "      <td>-1.078125</td>\n",
              "    </tr>\n",
              "    <tr>\n",
              "      <th>2024-04-12 00:00:00+05:30</th>\n",
              "      <td>22677.400391</td>\n",
              "      <td>22726.449219</td>\n",
              "      <td>22503.750000</td>\n",
              "      <td>22519.400391</td>\n",
              "      <td>357200</td>\n",
              "      <td>0.0</td>\n",
              "      <td>0.0</td>\n",
              "      <td>-158.000000</td>\n",
              "      <td>-0.696729</td>\n",
              "      <td>-22.863839</td>\n",
              "    </tr>\n",
              "    <tr>\n",
              "      <th>2024-04-15 00:00:00+05:30</th>\n",
              "      <td>22339.050781</td>\n",
              "      <td>22427.449219</td>\n",
              "      <td>22259.550781</td>\n",
              "      <td>22272.500000</td>\n",
              "      <td>355500</td>\n",
              "      <td>0.0</td>\n",
              "      <td>0.0</td>\n",
              "      <td>-66.550781</td>\n",
              "      <td>-0.297912</td>\n",
              "      <td>-39.364118</td>\n",
              "    </tr>\n",
              "    <tr>\n",
              "      <th>2024-04-16 00:00:00+05:30</th>\n",
              "      <td>22125.300781</td>\n",
              "      <td>22213.750000</td>\n",
              "      <td>22079.449219</td>\n",
              "      <td>22147.900391</td>\n",
              "      <td>317300</td>\n",
              "      <td>0.0</td>\n",
              "      <td>0.0</td>\n",
              "      <td>22.599609</td>\n",
              "      <td>0.102144</td>\n",
              "      <td>-25.071429</td>\n",
              "    </tr>\n",
              "    <tr>\n",
              "      <th>2024-04-18 00:00:00+05:30</th>\n",
              "      <td>22212.349609</td>\n",
              "      <td>22326.500000</td>\n",
              "      <td>21961.699219</td>\n",
              "      <td>21995.849609</td>\n",
              "      <td>456900</td>\n",
              "      <td>0.0</td>\n",
              "      <td>0.0</td>\n",
              "      <td>-216.500000</td>\n",
              "      <td>-0.974683</td>\n",
              "      <td>-59.899833</td>\n",
              "    </tr>\n",
              "    <tr>\n",
              "      <th>2024-04-19 00:00:00+05:30</th>\n",
              "      <td>21861.500000</td>\n",
              "      <td>22179.550781</td>\n",
              "      <td>21777.650391</td>\n",
              "      <td>22147.000000</td>\n",
              "      <td>362500</td>\n",
              "      <td>0.0</td>\n",
              "      <td>0.0</td>\n",
              "      <td>285.500000</td>\n",
              "      <td>1.305949</td>\n",
              "      <td>-31.678571</td>\n",
              "    </tr>\n",
              "    <tr>\n",
              "      <th>2024-04-22 00:00:00+05:30</th>\n",
              "      <td>22336.900391</td>\n",
              "      <td>22375.650391</td>\n",
              "      <td>22198.150391</td>\n",
              "      <td>22336.400391</td>\n",
              "      <td>279300</td>\n",
              "      <td>0.0</td>\n",
              "      <td>0.0</td>\n",
              "      <td>-0.500000</td>\n",
              "      <td>-0.002238</td>\n",
              "      <td>-14.271484</td>\n",
              "    </tr>\n",
              "    <tr>\n",
              "      <th>2024-04-23 00:00:00+05:30</th>\n",
              "      <td>22447.050781</td>\n",
              "      <td>22447.550781</td>\n",
              "      <td>22349.449219</td>\n",
              "      <td>22368.000000</td>\n",
              "      <td>231500</td>\n",
              "      <td>0.0</td>\n",
              "      <td>0.0</td>\n",
              "      <td>-79.050781</td>\n",
              "      <td>-0.352166</td>\n",
              "      <td>-30.357422</td>\n",
              "    </tr>\n",
              "    <tr>\n",
              "      <th>2024-04-24 00:00:00+05:30</th>\n",
              "      <td>22421.550781</td>\n",
              "      <td>22476.449219</td>\n",
              "      <td>22384.000000</td>\n",
              "      <td>22402.400391</td>\n",
              "      <td>235900</td>\n",
              "      <td>0.0</td>\n",
              "      <td>0.0</td>\n",
              "      <td>-19.150391</td>\n",
              "      <td>-0.085411</td>\n",
              "      <td>-10.521763</td>\n",
              "    </tr>\n",
              "    <tr>\n",
              "      <th>2024-04-25 00:00:00+05:30</th>\n",
              "      <td>22316.900391</td>\n",
              "      <td>22625.949219</td>\n",
              "      <td>22305.250000</td>\n",
              "      <td>22570.349609</td>\n",
              "      <td>475000</td>\n",
              "      <td>0.0</td>\n",
              "      <td>0.0</td>\n",
              "      <td>253.449219</td>\n",
              "      <td>1.135683</td>\n",
              "      <td>35.192522</td>\n",
              "    </tr>\n",
              "    <tr>\n",
              "      <th>2024-04-26 00:00:00+05:30</th>\n",
              "      <td>22620.400391</td>\n",
              "      <td>22620.400391</td>\n",
              "      <td>22385.550781</td>\n",
              "      <td>22419.949219</td>\n",
              "      <td>329900</td>\n",
              "      <td>0.0</td>\n",
              "      <td>0.0</td>\n",
              "      <td>-200.451172</td>\n",
              "      <td>-0.886152</td>\n",
              "      <td>3.328125</td>\n",
              "    </tr>\n",
              "    <tr>\n",
              "      <th>2024-04-29 00:00:00+05:30</th>\n",
              "      <td>22475.550781</td>\n",
              "      <td>22655.800781</td>\n",
              "      <td>22441.900391</td>\n",
              "      <td>22643.400391</td>\n",
              "      <td>292000</td>\n",
              "      <td>0.0</td>\n",
              "      <td>0.0</td>\n",
              "      <td>167.849609</td>\n",
              "      <td>0.746810</td>\n",
              "      <td>58.235212</td>\n",
              "    </tr>\n",
              "    <tr>\n",
              "      <th>2024-04-30 00:00:00+05:30</th>\n",
              "      <td>22679.650391</td>\n",
              "      <td>22783.349609</td>\n",
              "      <td>22568.400391</td>\n",
              "      <td>22604.849609</td>\n",
              "      <td>361900</td>\n",
              "      <td>0.0</td>\n",
              "      <td>0.0</td>\n",
              "      <td>-74.800781</td>\n",
              "      <td>-0.329815</td>\n",
              "      <td>6.763672</td>\n",
              "    </tr>\n",
              "  </tbody>\n",
              "</table>\n",
              "</div>\n",
              "    <div class=\"colab-df-buttons\">\n",
              "\n",
              "  <div class=\"colab-df-container\">\n",
              "    <button class=\"colab-df-convert\" onclick=\"convertToInteractive('df-f6e0ab5a-5443-483a-91c8-3cd306da03d2')\"\n",
              "            title=\"Convert this dataframe to an interactive table.\"\n",
              "            style=\"display:none;\">\n",
              "\n",
              "  <svg xmlns=\"http://www.w3.org/2000/svg\" height=\"24px\" viewBox=\"0 -960 960 960\">\n",
              "    <path d=\"M120-120v-720h720v720H120Zm60-500h600v-160H180v160Zm220 220h160v-160H400v160Zm0 220h160v-160H400v160ZM180-400h160v-160H180v160Zm440 0h160v-160H620v160ZM180-180h160v-160H180v160Zm440 0h160v-160H620v160Z\"/>\n",
              "  </svg>\n",
              "    </button>\n",
              "\n",
              "  <style>\n",
              "    .colab-df-container {\n",
              "      display:flex;\n",
              "      gap: 12px;\n",
              "    }\n",
              "\n",
              "    .colab-df-convert {\n",
              "      background-color: #E8F0FE;\n",
              "      border: none;\n",
              "      border-radius: 50%;\n",
              "      cursor: pointer;\n",
              "      display: none;\n",
              "      fill: #1967D2;\n",
              "      height: 32px;\n",
              "      padding: 0 0 0 0;\n",
              "      width: 32px;\n",
              "    }\n",
              "\n",
              "    .colab-df-convert:hover {\n",
              "      background-color: #E2EBFA;\n",
              "      box-shadow: 0px 1px 2px rgba(60, 64, 67, 0.3), 0px 1px 3px 1px rgba(60, 64, 67, 0.15);\n",
              "      fill: #174EA6;\n",
              "    }\n",
              "\n",
              "    .colab-df-buttons div {\n",
              "      margin-bottom: 4px;\n",
              "    }\n",
              "\n",
              "    [theme=dark] .colab-df-convert {\n",
              "      background-color: #3B4455;\n",
              "      fill: #D2E3FC;\n",
              "    }\n",
              "\n",
              "    [theme=dark] .colab-df-convert:hover {\n",
              "      background-color: #434B5C;\n",
              "      box-shadow: 0px 1px 3px 1px rgba(0, 0, 0, 0.15);\n",
              "      filter: drop-shadow(0px 1px 2px rgba(0, 0, 0, 0.3));\n",
              "      fill: #FFFFFF;\n",
              "    }\n",
              "  </style>\n",
              "\n",
              "    <script>\n",
              "      const buttonEl =\n",
              "        document.querySelector('#df-f6e0ab5a-5443-483a-91c8-3cd306da03d2 button.colab-df-convert');\n",
              "      buttonEl.style.display =\n",
              "        google.colab.kernel.accessAllowed ? 'block' : 'none';\n",
              "\n",
              "      async function convertToInteractive(key) {\n",
              "        const element = document.querySelector('#df-f6e0ab5a-5443-483a-91c8-3cd306da03d2');\n",
              "        const dataTable =\n",
              "          await google.colab.kernel.invokeFunction('convertToInteractive',\n",
              "                                                    [key], {});\n",
              "        if (!dataTable) return;\n",
              "\n",
              "        const docLinkHtml = 'Like what you see? Visit the ' +\n",
              "          '<a target=\"_blank\" href=https://colab.research.google.com/notebooks/data_table.ipynb>data table notebook</a>'\n",
              "          + ' to learn more about interactive tables.';\n",
              "        element.innerHTML = '';\n",
              "        dataTable['output_type'] = 'display_data';\n",
              "        await google.colab.output.renderOutput(dataTable, element);\n",
              "        const docLink = document.createElement('div');\n",
              "        docLink.innerHTML = docLinkHtml;\n",
              "        element.appendChild(docLink);\n",
              "      }\n",
              "    </script>\n",
              "  </div>\n",
              "\n",
              "\n",
              "<div id=\"df-cd0a3ea4-f866-4af6-8f5d-07f635fde997\">\n",
              "  <button class=\"colab-df-quickchart\" onclick=\"quickchart('df-cd0a3ea4-f866-4af6-8f5d-07f635fde997')\"\n",
              "            title=\"Suggest charts\"\n",
              "            style=\"display:none;\">\n",
              "\n",
              "<svg xmlns=\"http://www.w3.org/2000/svg\" height=\"24px\"viewBox=\"0 0 24 24\"\n",
              "     width=\"24px\">\n",
              "    <g>\n",
              "        <path d=\"M19 3H5c-1.1 0-2 .9-2 2v14c0 1.1.9 2 2 2h14c1.1 0 2-.9 2-2V5c0-1.1-.9-2-2-2zM9 17H7v-7h2v7zm4 0h-2V7h2v10zm4 0h-2v-4h2v4z\"/>\n",
              "    </g>\n",
              "</svg>\n",
              "  </button>\n",
              "\n",
              "<style>\n",
              "  .colab-df-quickchart {\n",
              "      --bg-color: #E8F0FE;\n",
              "      --fill-color: #1967D2;\n",
              "      --hover-bg-color: #E2EBFA;\n",
              "      --hover-fill-color: #174EA6;\n",
              "      --disabled-fill-color: #AAA;\n",
              "      --disabled-bg-color: #DDD;\n",
              "  }\n",
              "\n",
              "  [theme=dark] .colab-df-quickchart {\n",
              "      --bg-color: #3B4455;\n",
              "      --fill-color: #D2E3FC;\n",
              "      --hover-bg-color: #434B5C;\n",
              "      --hover-fill-color: #FFFFFF;\n",
              "      --disabled-bg-color: #3B4455;\n",
              "      --disabled-fill-color: #666;\n",
              "  }\n",
              "\n",
              "  .colab-df-quickchart {\n",
              "    background-color: var(--bg-color);\n",
              "    border: none;\n",
              "    border-radius: 50%;\n",
              "    cursor: pointer;\n",
              "    display: none;\n",
              "    fill: var(--fill-color);\n",
              "    height: 32px;\n",
              "    padding: 0;\n",
              "    width: 32px;\n",
              "  }\n",
              "\n",
              "  .colab-df-quickchart:hover {\n",
              "    background-color: var(--hover-bg-color);\n",
              "    box-shadow: 0 1px 2px rgba(60, 64, 67, 0.3), 0 1px 3px 1px rgba(60, 64, 67, 0.15);\n",
              "    fill: var(--button-hover-fill-color);\n",
              "  }\n",
              "\n",
              "  .colab-df-quickchart-complete:disabled,\n",
              "  .colab-df-quickchart-complete:disabled:hover {\n",
              "    background-color: var(--disabled-bg-color);\n",
              "    fill: var(--disabled-fill-color);\n",
              "    box-shadow: none;\n",
              "  }\n",
              "\n",
              "  .colab-df-spinner {\n",
              "    border: 2px solid var(--fill-color);\n",
              "    border-color: transparent;\n",
              "    border-bottom-color: var(--fill-color);\n",
              "    animation:\n",
              "      spin 1s steps(1) infinite;\n",
              "  }\n",
              "\n",
              "  @keyframes spin {\n",
              "    0% {\n",
              "      border-color: transparent;\n",
              "      border-bottom-color: var(--fill-color);\n",
              "      border-left-color: var(--fill-color);\n",
              "    }\n",
              "    20% {\n",
              "      border-color: transparent;\n",
              "      border-left-color: var(--fill-color);\n",
              "      border-top-color: var(--fill-color);\n",
              "    }\n",
              "    30% {\n",
              "      border-color: transparent;\n",
              "      border-left-color: var(--fill-color);\n",
              "      border-top-color: var(--fill-color);\n",
              "      border-right-color: var(--fill-color);\n",
              "    }\n",
              "    40% {\n",
              "      border-color: transparent;\n",
              "      border-right-color: var(--fill-color);\n",
              "      border-top-color: var(--fill-color);\n",
              "    }\n",
              "    60% {\n",
              "      border-color: transparent;\n",
              "      border-right-color: var(--fill-color);\n",
              "    }\n",
              "    80% {\n",
              "      border-color: transparent;\n",
              "      border-right-color: var(--fill-color);\n",
              "      border-bottom-color: var(--fill-color);\n",
              "    }\n",
              "    90% {\n",
              "      border-color: transparent;\n",
              "      border-bottom-color: var(--fill-color);\n",
              "    }\n",
              "  }\n",
              "</style>\n",
              "\n",
              "  <script>\n",
              "    async function quickchart(key) {\n",
              "      const quickchartButtonEl =\n",
              "        document.querySelector('#' + key + ' button');\n",
              "      quickchartButtonEl.disabled = true;  // To prevent multiple clicks.\n",
              "      quickchartButtonEl.classList.add('colab-df-spinner');\n",
              "      try {\n",
              "        const charts = await google.colab.kernel.invokeFunction(\n",
              "            'suggestCharts', [key], {});\n",
              "      } catch (error) {\n",
              "        console.error('Error during call to suggestCharts:', error);\n",
              "      }\n",
              "      quickchartButtonEl.classList.remove('colab-df-spinner');\n",
              "      quickchartButtonEl.classList.add('colab-df-quickchart-complete');\n",
              "    }\n",
              "    (() => {\n",
              "      let quickchartButtonEl =\n",
              "        document.querySelector('#df-cd0a3ea4-f866-4af6-8f5d-07f635fde997 button');\n",
              "      quickchartButtonEl.style.display =\n",
              "        google.colab.kernel.accessAllowed ? 'block' : 'none';\n",
              "    })();\n",
              "  </script>\n",
              "</div>\n",
              "\n",
              "  <div id=\"id_1bacca5f-b195-4ba0-a0ca-ad2badada464\">\n",
              "    <style>\n",
              "      .colab-df-generate {\n",
              "        background-color: #E8F0FE;\n",
              "        border: none;\n",
              "        border-radius: 50%;\n",
              "        cursor: pointer;\n",
              "        display: none;\n",
              "        fill: #1967D2;\n",
              "        height: 32px;\n",
              "        padding: 0 0 0 0;\n",
              "        width: 32px;\n",
              "      }\n",
              "\n",
              "      .colab-df-generate:hover {\n",
              "        background-color: #E2EBFA;\n",
              "        box-shadow: 0px 1px 2px rgba(60, 64, 67, 0.3), 0px 1px 3px 1px rgba(60, 64, 67, 0.15);\n",
              "        fill: #174EA6;\n",
              "      }\n",
              "\n",
              "      [theme=dark] .colab-df-generate {\n",
              "        background-color: #3B4455;\n",
              "        fill: #D2E3FC;\n",
              "      }\n",
              "\n",
              "      [theme=dark] .colab-df-generate:hover {\n",
              "        background-color: #434B5C;\n",
              "        box-shadow: 0px 1px 3px 1px rgba(0, 0, 0, 0.15);\n",
              "        filter: drop-shadow(0px 1px 2px rgba(0, 0, 0, 0.3));\n",
              "        fill: #FFFFFF;\n",
              "      }\n",
              "    </style>\n",
              "    <button class=\"colab-df-generate\" onclick=\"generateWithVariable('data')\"\n",
              "            title=\"Generate code using this dataframe.\"\n",
              "            style=\"display:none;\">\n",
              "\n",
              "  <svg xmlns=\"http://www.w3.org/2000/svg\" height=\"24px\"viewBox=\"0 0 24 24\"\n",
              "       width=\"24px\">\n",
              "    <path d=\"M7,19H8.4L18.45,9,17,7.55,7,17.6ZM5,21V16.75L18.45,3.32a2,2,0,0,1,2.83,0l1.4,1.43a1.91,1.91,0,0,1,.58,1.4,1.91,1.91,0,0,1-.58,1.4L9.25,21ZM18.45,9,17,7.55Zm-12,3A5.31,5.31,0,0,0,4.9,8.1,5.31,5.31,0,0,0,1,6.5,5.31,5.31,0,0,0,4.9,4.9,5.31,5.31,0,0,0,6.5,1,5.31,5.31,0,0,0,8.1,4.9,5.31,5.31,0,0,0,12,6.5,5.46,5.46,0,0,0,6.5,12Z\"/>\n",
              "  </svg>\n",
              "    </button>\n",
              "    <script>\n",
              "      (() => {\n",
              "      const buttonEl =\n",
              "        document.querySelector('#id_1bacca5f-b195-4ba0-a0ca-ad2badada464 button.colab-df-generate');\n",
              "      buttonEl.style.display =\n",
              "        google.colab.kernel.accessAllowed ? 'block' : 'none';\n",
              "\n",
              "      buttonEl.onclick = () => {\n",
              "        google.colab.notebook.generateWithVariable('data');\n",
              "      }\n",
              "      })();\n",
              "    </script>\n",
              "  </div>\n",
              "\n",
              "    </div>\n",
              "  </div>\n"
            ],
            "application/vnd.google.colaboratory.intrinsic+json": {
              "type": "dataframe",
              "variable_name": "data",
              "summary": "{\n  \"name\": \"data\",\n  \"rows\": 59,\n  \"fields\": [\n    {\n      \"column\": \"Date\",\n      \"properties\": {\n        \"dtype\": \"date\",\n        \"min\": \"2024-02-01 00:00:00+05:30\",\n        \"max\": \"2024-04-30 00:00:00+05:30\",\n        \"num_unique_values\": 59,\n        \"samples\": [\n          \"2024-02-01 00:00:00+05:30\",\n          \"2024-02-08 00:00:00+05:30\",\n          \"2024-03-21 00:00:00+05:30\"\n        ],\n        \"semantic_type\": \"\",\n        \"description\": \"\"\n      }\n    },\n    {\n      \"column\": \"Open\",\n      \"properties\": {\n        \"dtype\": \"number\",\n        \"std\": 290.84650458776457,\n        \"min\": 21578.150390625,\n        \"max\": 22765.099609375,\n        \"num_unique_values\": 59,\n        \"samples\": [\n          21780.650390625,\n          22009.650390625,\n          21989.900390625\n        ],\n        \"semantic_type\": \"\",\n        \"description\": \"\"\n      }\n    },\n    {\n      \"column\": \"High\",\n      \"properties\": {\n        \"dtype\": \"number\",\n        \"std\": 271.83497633131884,\n        \"min\": 21766.80078125,\n        \"max\": 22783.349609375,\n        \"num_unique_values\": 59,\n        \"samples\": [\n          21832.94921875,\n          22011.05078125,\n          22080.94921875\n        ],\n        \"semantic_type\": \"\",\n        \"description\": \"\"\n      }\n    },\n    {\n      \"column\": \"Low\",\n      \"properties\": {\n        \"dtype\": \"number\",\n        \"std\": 295.61931806734486,\n        \"min\": 21530.19921875,\n        \"max\": 22673.69921875,\n        \"num_unique_values\": 59,\n        \"samples\": [\n          21658.75,\n          21665.30078125,\n          21941.30078125\n        ],\n        \"semantic_type\": \"\",\n        \"description\": \"\"\n      }\n    },\n    {\n      \"column\": \"Close\",\n      \"properties\": {\n        \"dtype\": \"number\",\n        \"std\": 284.1302236161957,\n        \"min\": 21616.05078125,\n        \"max\": 22753.80078125,\n        \"num_unique_values\": 59,\n        \"samples\": [\n          21697.44921875,\n          21717.94921875,\n          22011.94921875\n        ],\n        \"semantic_type\": \"\",\n        \"description\": \"\"\n      }\n    },\n    {\n      \"column\": \"Volume\",\n      \"properties\": {\n        \"dtype\": \"number\",\n        \"std\": 101768,\n        \"min\": 0,\n        \"max\": 661500,\n        \"num_unique_values\": 58,\n        \"samples\": [\n          332500,\n          491100,\n          353200\n        ],\n        \"semantic_type\": \"\",\n        \"description\": \"\"\n      }\n    },\n    {\n      \"column\": \"Dividends\",\n      \"properties\": {\n        \"dtype\": \"number\",\n        \"std\": 0.0,\n        \"min\": 0.0,\n        \"max\": 0.0,\n        \"num_unique_values\": 1,\n        \"samples\": [\n          0.0\n        ],\n        \"semantic_type\": \"\",\n        \"description\": \"\"\n      }\n    },\n    {\n      \"column\": \"Stock Splits\",\n      \"properties\": {\n        \"dtype\": \"number\",\n        \"std\": 0.0,\n        \"min\": 0.0,\n        \"max\": 0.0,\n        \"num_unique_values\": 1,\n        \"samples\": [\n          0.0\n        ],\n        \"semantic_type\": \"\",\n        \"description\": \"\"\n      }\n    },\n    {\n      \"column\": \"Gains\",\n      \"properties\": {\n        \"dtype\": \"number\",\n        \"std\": 143.01596240706516,\n        \"min\": -434.5,\n        \"max\": 290.44921875,\n        \"num_unique_values\": 59,\n        \"samples\": [\n          -83.201171875\n        ],\n        \"semantic_type\": \"\",\n        \"description\": \"\"\n      }\n    },\n    {\n      \"column\": \"PercentageGain\",\n      \"properties\": {\n        \"dtype\": \"number\",\n        \"std\": 0.645272419523929,\n        \"min\": -1.9369478478811935,\n        \"max\": 1.3173315333079982,\n        \"num_unique_values\": 59,\n        \"samples\": [\n          -0.3819958099635634\n        ],\n        \"semantic_type\": \"\",\n        \"description\": \"\"\n      }\n    },\n    {\n      \"column\": \"sevenDayRollingMean\",\n      \"properties\": {\n        \"dtype\": \"number\",\n        \"std\": 42.81612309336982,\n        \"min\": -79.84291294642857,\n        \"max\": 72.11467633928571,\n        \"num_unique_values\": 53,\n        \"samples\": [\n          28.150390625\n        ],\n        \"semantic_type\": \"\",\n        \"description\": \"\"\n      }\n    }\n  ]\n}"
            }
          },
          "metadata": {},
          "execution_count": 8
        }
      ]
    },
    {
      "metadata": {
        "trusted": true,
        "colab": {
          "base_uri": "https://localhost:8080/",
          "height": 1000
        },
        "id": "j6IrLsXf9COx",
        "outputId": "e8bc9ded-18c7-4cf9-83ee-ab073f9c7a42"
      },
      "cell_type": "code",
      "source": [
        "plt.figure(figsize = (18, 9))\n",
        "sb.lineplot(data = data, x = 'Date', y = 'sevenDayRollingMean')\n",
        "plt.grid(True)\n",
        "plt.title('Nifty 7 day rolling mean [1 Feb 2024 - 1 May 2024]')\n",
        "plt.show()\n",
        "\n",
        "\n",
        "fig = go.Figure([go.Scatter(x=data.index, y=data['sevenDayRollingMean'])])\n",
        "fig.show()"
      ],
      "execution_count": 10,
      "outputs": [
        {
          "output_type": "display_data",
          "data": {
            "text/plain": [
              "<Figure size 1800x900 with 1 Axes>"
            ],
            "image/png": "[encoded data removed]"
          },
          "metadata": {}
        },
        {
          "output_type": "display_data",
          "data": {
            "application/vnd.plotly.v1+json": {
              "data": [
                {
                  "x": [
                    "2024-02-01T00:00:00+05:30",
                    "2024-02-02T00:00:00+05:30",
                    "2024-02-05T00:00:00+05:30",
                    "2024-02-06T00:00:00+05:30",
                    "2024-02-07T00:00:00+05:30",
                    "2024-02-08T00:00:00+05:30",
                    "2024-02-09T00:00:00+05:30",
                    "2024-02-12T00:00:00+05:30",
                    "2024-02-13T00:00:00+05:30",
                    "2024-02-14T00:00:00+05:30",
                    "2024-02-15T00:00:00+05:30",
                    "2024-02-16T00:00:00+05:30",
                    "2024-02-19T00:00:00+05:30",
                    "2024-02-20T00:00:00+05:30",
                    "2024-02-21T00:00:00+05:30",
                    "2024-02-22T00:00:00+05:30",
                    "2024-02-23T00:00:00+05:30",
                    "2024-02-26T00:00:00+05:30",
                    "2024-02-27T00:00:00+05:30",
                    "2024-02-28T00:00:00+05:30",
                    "2024-02-29T00:00:00+05:30",
                    "2024-03-01T00:00:00+05:30",
                    "2024-03-04T00:00:00+05:30",
                    "2024-03-05T00:00:00+05:30",
                    "2024-03-06T00:00:00+05:30",
                    "2024-03-07T00:00:00+05:30",
                    "2024-03-11T00:00:00+05:30",
                    "2024-03-12T00:00:00+05:30",
                    "2024-03-13T00:00:00+05:30",
                    "2024-03-14T00:00:00+05:30",
                    "2024-03-15T00:00:00+05:30",
                    "2024-03-18T00:00:00+05:30",
                    "2024-03-19T00:00:00+05:30",
                    "2024-03-20T00:00:00+05:30",
                    "2024-03-21T00:00:00+05:30",
                    "2024-03-22T00:00:00+05:30",
                    "2024-03-26T00:00:00+05:30",
                    "2024-03-27T00:00:00+05:30",
                    "2024-03-28T00:00:00+05:30",
                    "2024-04-01T00:00:00+05:30",
                    "2024-04-02T00:00:00+05:30",
                    "2024-04-03T00:00:00+05:30",
                    "2024-04-04T00:00:00+05:30",
                    "2024-04-05T00:00:00+05:30",
                    "2024-04-08T00:00:00+05:30",
                    "2024-04-09T00:00:00+05:30",
                    "2024-04-10T00:00:00+05:30",
                    "2024-04-12T00:00:00+05:30",
                    "2024-04-15T00:00:00+05:30",
                    "2024-04-16T00:00:00+05:30",
                    "2024-04-18T00:00:00+05:30",
                    "2024-04-19T00:00:00+05:30",
                    "2024-04-22T00:00:00+05:30",
                    "2024-04-23T00:00:00+05:30",
                    "2024-04-24T00:00:00+05:30",
                    "2024-04-25T00:00:00+05:30",
                    "2024-04-26T00:00:00+05:30",
                    "2024-04-29T00:00:00+05:30",
                    "2024-04-30T00:00:00+05:30"
                  ],
                  "y": [
                    null,
                    null,
                    null,
                    null,
                    null,
                    null,
                    -62.57896205357143,
                    -77.0859375,
                    -71.671875,
                    -12.921595982142858,
                    -27.207589285714285,
                    -7.929129464285714,
                    36.428292410714285,
                    42.46400669642857,
                    41.171316964285715,
                    49.306919642857146,
                    0.849609375,
                    -6.485770089285714,
                    6.050223214285714,
                    -34.199776785714285,
                    -41.363839285714285,
                    27.814453125,
                    8.700334821428571,
                    17.607700892857142,
                    45.279017857142854,
                    28.150390625,
                    39.30747767857143,
                    32.685825892857146,
                    -70.87834821428571,
                    -47.73549107142857,
                    -51.52845982142857,
                    -63.09291294642857,
                    -79.84291294642857,
                    -54.121651785714285,
                    -51.150390625,
                    34.428292410714285,
                    19.099609375,
                    34.98549107142857,
                    48.942801339285715,
                    68.37137276785714,
                    68.271484375,
                    72.11467633928571,
                    37.543247767857146,
                    33.32896205357143,
                    35.936104910714285,
                    -4.87109375,
                    -1.078125,
                    -22.863839285714285,
                    -39.36411830357143,
                    -25.071428571428573,
                    -59.899832589285715,
                    -31.678571428571427,
                    -14.271484375,
                    -30.357421875,
                    -10.521763392857142,
                    35.19252232142857,
                    3.328125,
                    58.23521205357143,
                    6.763671875
                  ],
                  "type": "scatter"
                }
              ],
              "layout": {
                "template": {
                  "data": {
                    "histogram2dcontour": [
                      {
                        "type": "histogram2dcontour",
                        "colorbar": {
                          "outlinewidth": 0,
                          "ticks": ""
                        },
                        "colorscale": [
                          [
                            0,
                            "#0d0887"
                          ],
                          [
                            0.1111111111111111,
                            "#46039f"
                          ],
                          [
                            0.2222222222222222,
                            "#7201a8"
                          ],
                          [
                            0.3333333333333333,
                            "#9c179e"
                          ],
                          [
                            0.4444444444444444,
                            "#bd3786"
                          ],
                          [
                            0.5555555555555556,
                            "#d8576b"
                          ],
                          [
                            0.6666666666666666,
                            "#ed7953"
                          ],
                          [
                            0.7777777777777778,
                            "#fb9f3a"
                          ],
                          [
                            0.8888888888888888,
                            "#fdca26"
                          ],
                          [
                            1,
                            "#f0f921"
                          ]
                        ]
                      }
                    ],
                    "choropleth": [
                      {
                        "type": "choropleth",
                        "colorbar": {
                          "outlinewidth": 0,
                          "ticks": ""
                        }
                      }
                    ],
                    "histogram2d": [
                      {
                        "type": "histogram2d",
                        "colorbar": {
                          "outlinewidth": 0,
                          "ticks": ""
                        },
                        "colorscale": [
                          [
                            0,
                            "#0d0887"
                          ],
                          [
                            0.1111111111111111,
                            "#46039f"
                          ],
                          [
                            0.2222222222222222,
                            "#7201a8"
                          ],
                          [
                            0.3333333333333333,
                            "#9c179e"
                          ],
                          [
                            0.4444444444444444,
                            "#bd3786"
                          ],
                          [
                            0.5555555555555556,
                            "#d8576b"
                          ],
                          [
                            0.6666666666666666,
                            "#ed7953"
                          ],
                          [
                            0.7777777777777778,
                            "#fb9f3a"
                          ],
                          [
                            0.8888888888888888,
                            "#fdca26"
                          ],
                          [
                            1,
                            "#f0f921"
                          ]
                        ]
                      }
                    ],
                    "heatmap": [
                      {
                        "type": "heatmap",
                        "colorbar": {
                          "outlinewidth": 0,
                          "ticks": ""
                        },
                        "colorscale": [
                          [
                            0,
                            "#0d0887"
                          ],
                          [
                            0.1111111111111111,
                            "#46039f"
                          ],
                          [
                            0.2222222222222222,
                            "#7201a8"
                          ],
                          [
                            0.3333333333333333,
                            "#9c179e"
                          ],
                          [
                            0.4444444444444444,
                            "#bd3786"
                          ],
                          [
                            0.5555555555555556,
                            "#d8576b"
                          ],
                          [
                            0.6666666666666666,
                            "#ed7953"
                          ],
                          [
                            0.7777777777777778,
                            "#fb9f3a"
                          ],
                          [
                            0.8888888888888888,
                            "#fdca26"
                          ],
                          [
                            1,
                            "#f0f921"
                          ]
                        ]
                      }
                    ],
                    "heatmapgl": [
                      {
                        "type": "heatmapgl",
                        "colorbar": {
                          "outlinewidth": 0,
                          "ticks": ""
                        },
                        "colorscale": [
                          [
                            0,
                            "#0d0887"
                          ],
                          [
                            0.1111111111111111,
                            "#46039f"
                          ],
                          [
                            0.2222222222222222,
                            "#7201a8"
                          ],
                          [
                            0.3333333333333333,
                            "#9c179e"
                          ],
                          [
                            0.4444444444444444,
                            "#bd3786"
                          ],
                          [
                            0.5555555555555556,
                            "#d8576b"
                          ],
                          [
                            0.6666666666666666,
                            "#ed7953"
                          ],
                          [
                            0.7777777777777778,
                            "#fb9f3a"
                          ],
                          [
                            0.8888888888888888,
                            "#fdca26"
                          ],
                          [
                            1,
                            "#f0f921"
                          ]
                        ]
                      }
                    ],
                    "contourcarpet": [
                      {
                        "type": "contourcarpet",
                        "colorbar": {
                          "outlinewidth": 0,
                          "ticks": ""
                        }
                      }
                    ],
                    "contour": [
                      {
                        "type": "contour",
                        "colorbar": {
                          "outlinewidth": 0,
                          "ticks": ""
                        },
                        "colorscale": [
                          [
                            0,
                            "#0d0887"
                          ],
                          [
                            0.1111111111111111,
                            "#46039f"
                          ],
                          [
                            0.2222222222222222,
                            "#7201a8"
                          ],
                          [
                            0.3333333333333333,
                            "#9c179e"
                          ],
                          [
                            0.4444444444444444,
                            "#bd3786"
                          ],
                          [
                            0.5555555555555556,
                            "#d8576b"
                          ],
                          [
                            0.6666666666666666,
                            "#ed7953"
                          ],
                          [
                            0.7777777777777778,
                            "#fb9f3a"
                          ],
                          [
                            0.8888888888888888,
                            "#fdca26"
                          ],
                          [
                            1,
                            "#f0f921"
                          ]
                        ]
                      }
                    ],
                    "surface": [
                      {
                        "type": "surface",
                        "colorbar": {
                          "outlinewidth": 0,
                          "ticks": ""
                        },
                        "colorscale": [
                          [
                            0,
                            "#0d0887"
                          ],
                          [
                            0.1111111111111111,
                            "#46039f"
                          ],
                          [
                            0.2222222222222222,
                            "#7201a8"
                          ],
                          [
                            0.3333333333333333,
                            "#9c179e"
                          ],
                          [
                            0.4444444444444444,
                            "#bd3786"
                          ],
                          [
                            0.5555555555555556,
                            "#d8576b"
                          ],
                          [
                            0.6666666666666666,
                            "#ed7953"
                          ],
                          [
                            0.7777777777777778,
                            "#fb9f3a"
                          ],
                          [
                            0.8888888888888888,
                            "#fdca26"
                          ],
                          [
                            1,
                            "#f0f921"
                          ]
                        ]
                      }
                    ],
                    "mesh3d": [
                      {
                        "type": "mesh3d",
                        "colorbar": {
                          "outlinewidth": 0,
                          "ticks": ""
                        }
                      }
                    ],
                    "scatter": [
                      {
                        "fillpattern": {
                          "fillmode": "overlay",
                          "size": 10,
                          "solidity": 0.2
                        },
                        "type": "scatter"
                      }
                    ],
                    "parcoords": [
                      {
                        "type": "parcoords",
                        "line": {
                          "colorbar": {
                            "outlinewidth": 0,
                            "ticks": ""
                          }
                        }
                      }
                    ],
                    "scatterpolargl": [
                      {
                        "type": "scatterpolargl",
                        "marker": {
                          "colorbar": {
                            "outlinewidth": 0,
                            "ticks": ""
                          }
                        }
                      }
                    ],
                    "bar": [
                      {
                        "error_x": {
                          "color": "#2a3f5f"
                        },
                        "error_y": {
                          "color": "#2a3f5f"
                        },
                        "marker": {
                          "line": {
                            "color": "#E5ECF6",
                            "width": 0.5
                          },
                          "pattern": {
                            "fillmode": "overlay",
                            "size": 10,
                            "solidity": 0.2
                          }
                        },
                        "type": "bar"
                      }
                    ],
                    "scattergeo": [
                      {
                        "type": "scattergeo",
                        "marker": {
                          "colorbar": {
                            "outlinewidth": 0,
                            "ticks": ""
                          }
                        }
                      }
                    ],
                    "scatterpolar": [
                      {
                        "type": "scatterpolar",
                        "marker": {
                          "colorbar": {
                            "outlinewidth": 0,
                            "ticks": ""
                          }
                        }
                      }
                    ],
                    "histogram": [
                      {
                        "marker": {
                          "pattern": {
                            "fillmode": "overlay",
                            "size": 10,
                            "solidity": 0.2
                          }
                        },
                        "type": "histogram"
                      }
                    ],
                    "scattergl": [
                      {
                        "type": "scattergl",
                        "marker": {
                          "colorbar": {
                            "outlinewidth": 0,
                            "ticks": ""
                          }
                        }
                      }
                    ],
                    "scatter3d": [
                      {
                        "type": "scatter3d",
                        "line": {
                          "colorbar": {
                            "outlinewidth": 0,
                            "ticks": ""
                          }
                        },
                        "marker": {
                          "colorbar": {
                            "outlinewidth": 0,
                            "ticks": ""
                          }
                        }
                      }
                    ],
                    "scattermapbox": [
                      {
                        "type": "scattermapbox",
                        "marker": {
                          "colorbar": {
                            "outlinewidth": 0,
                            "ticks": ""
                          }
                        }
                      }
                    ],
                    "scatterternary": [
                      {
                        "type": "scatterternary",
                        "marker": {
                          "colorbar": {
                            "outlinewidth": 0,
                            "ticks": ""
                          }
                        }
                      }
                    ],
                    "scattercarpet": [
                      {
                        "type": "scattercarpet",
                        "marker": {
                          "colorbar": {
                            "outlinewidth": 0,
                            "ticks": ""
                          }
                        }
                      }
                    ],
                    "carpet": [
                      {
                        "aaxis": {
                          "endlinecolor": "#2a3f5f",
                          "gridcolor": "white",
                          "linecolor": "white",
                          "minorgridcolor": "white",
                          "startlinecolor": "#2a3f5f"
                        },
                        "baxis": {
                          "endlinecolor": "#2a3f5f",
                          "gridcolor": "white",
                          "linecolor": "white",
                          "minorgridcolor": "white",
                          "startlinecolor": "#2a3f5f"
                        },
                        "type": "carpet"
                      }
                    ],
                    "table": [
                      {
                        "cells": {
                          "fill": {
                            "color": "#EBF0F8"
                          },
                          "line": {
                            "color": "white"
                          }
                        },
                        "header": {
                          "fill": {
                            "color": "#C8D4E3"
                          },
                          "line": {
                            "color": "white"
                          }
                        },
                        "type": "table"
                      }
                    ],
                    "barpolar": [
                      {
                        "marker": {
                          "line": {
                            "color": "#E5ECF6",
                            "width": 0.5
                          },
                          "pattern": {
                            "fillmode": "overlay",
                            "size": 10,
                            "solidity": 0.2
                          }
                        },
                        "type": "barpolar"
                      }
                    ],
                    "pie": [
                      {
                        "automargin": true,
                        "type": "pie"
                      }
                    ]
                  },
                  "layout": {
                    "autotypenumbers": "strict",
                    "colorway": [
                      "#636efa",
                      "#EF553B",
                      "#00cc96",
                      "#ab63fa",
                      "#FFA15A",
                      "#19d3f3",
                      "#FF6692",
                      "#B6E880",
                      "#FF97FF",
                      "#FECB52"
                    ],
                    "font": {
                      "color": "#2a3f5f"
                    },
                    "hovermode": "closest",
                    "hoverlabel": {
                      "align": "left"
                    },
                    "paper_bgcolor": "white",
                    "plot_bgcolor": "#E5ECF6",
                    "polar": {
                      "bgcolor": "#E5ECF6",
                      "angularaxis": {
                        "gridcolor": "white",
                        "linecolor": "white",
                        "ticks": ""
                      },
                      "radialaxis": {
                        "gridcolor": "white",
                        "linecolor": "white",
                        "ticks": ""
                      }
                    },
                    "ternary": {
                      "bgcolor": "#E5ECF6",
                      "aaxis": {
                        "gridcolor": "white",
                        "linecolor": "white",
                        "ticks": ""
                      },
                      "baxis": {
                        "gridcolor": "white",
                        "linecolor": "white",
                        "ticks": ""
                      },
                      "caxis": {
                        "gridcolor": "white",
                        "linecolor": "white",
                        "ticks": ""
                      }
                    },
                    "coloraxis": {
                      "colorbar": {
                        "outlinewidth": 0,
                        "ticks": ""
                      }
                    },
                    "colorscale": {
                      "sequential": [
                        [
                          0,
                          "#0d0887"
                        ],
                        [
                          0.1111111111111111,
                          "#46039f"
                        ],
                        [
                          0.2222222222222222,
                          "#7201a8"
                        ],
                        [
                          0.3333333333333333,
                          "#9c179e"
                        ],
                        [
                          0.4444444444444444,
                          "#bd3786"
                        ],
                        [
                          0.5555555555555556,
                          "#d8576b"
                        ],
                        [
                          0.6666666666666666,
                          "#ed7953"
                        ],
                        [
                          0.7777777777777778,
                          "#fb9f3a"
                        ],
                        [
                          0.8888888888888888,
                          "#fdca26"
                        ],
                        [
                          1,
                          "#f0f921"
                        ]
                      ],
                      "sequentialminus": [
                        [
                          0,
                          "#0d0887"
                        ],
                        [
                          0.1111111111111111,
                          "#46039f"
                        ],
                        [
                          0.2222222222222222,
                          "#7201a8"
                        ],
                        [
                          0.3333333333333333,
                          "#9c179e"
                        ],
                        [
                          0.4444444444444444,
                          "#bd3786"
                        ],
                        [
                          0.5555555555555556,
                          "#d8576b"
                        ],
                        [
                          0.6666666666666666,
                          "#ed7953"
                        ],
                        [
                          0.7777777777777778,
                          "#fb9f3a"
                        ],
                        [
                          0.8888888888888888,
                          "#fdca26"
                        ],
                        [
                          1,
                          "#f0f921"
                        ]
                      ],
                      "diverging": [
                        [
                          0,
                          "#8e0152"
                        ],
                        [
                          0.1,
                          "#c51b7d"
                        ],
                        [
                          0.2,
                          "#de77ae"
                        ],
                        [
                          0.3,
                          "#f1b6da"
                        ],
                        [
                          0.4,
                          "#fde0ef"
                        ],
                        [
                          0.5,
                          "#f7f7f7"
                        ],
                        [
                          0.6,
                          "#e6f5d0"
                        ],
                        [
                          0.7,
                          "#b8e186"
                        ],
                        [
                          0.8,
                          "#7fbc41"
                        ],
                        [
                          0.9,
                          "#4d9221"
                        ],
                        [
                          1,
                          "#276419"
                        ]
                      ]
                    },
                    "xaxis": {
                      "gridcolor": "white",
                      "linecolor": "white",
                      "ticks": "",
                      "title": {
                        "standoff": 15
                      },
                      "zerolinecolor": "white",
                      "automargin": true,
                      "zerolinewidth": 2
                    },
                    "yaxis": {
                      "gridcolor": "white",
                      "linecolor": "white",
                      "ticks": "",
                      "title": {
                        "standoff": 15
                      },
                      "zerolinecolor": "white",
                      "automargin": true,
                      "zerolinewidth": 2
                    },
                    "scene": {
                      "xaxis": {
                        "backgroundcolor": "#E5ECF6",
                        "gridcolor": "white",
                        "linecolor": "white",
                        "showbackground": true,
                        "ticks": "",
                        "zerolinecolor": "white",
                        "gridwidth": 2
                      },
                      "yaxis": {
                        "backgroundcolor": "#E5ECF6",
                        "gridcolor": "white",
                        "linecolor": "white",
                        "showbackground": true,
                        "ticks": "",
                        "zerolinecolor": "white",
                        "gridwidth": 2
                      },
                      "zaxis": {
                        "backgroundcolor": "#E5ECF6",
                        "gridcolor": "white",
                        "linecolor": "white",
                        "showbackground": true,
                        "ticks": "",
                        "zerolinecolor": "white",
                        "gridwidth": 2
                      }
                    },
                    "shapedefaults": {
                      "line": {
                        "color": "#2a3f5f"
                      }
                    },
                    "annotationdefaults": {
                      "arrowcolor": "#2a3f5f",
                      "arrowhead": 0,
                      "arrowwidth": 1
                    },
                    "geo": {
                      "bgcolor": "white",
                      "landcolor": "#E5ECF6",
                      "subunitcolor": "white",
                      "showland": true,
                      "showlakes": true,
                      "lakecolor": "white"
                    },
                    "title": {
                      "x": 0.05
                    },
                    "mapbox": {
                      "style": "light"
                    }
                  }
                }
              },
              "config": {
                "plotlyServerURL": "https://plot.ly"
              }
            },
            "text/html": [
              "<div>                            <div id=\"e9445c7f-904b-45b5-8d50-6c2c863d9987\" class=\"plotly-graph-div\" style=\"height:525px; width:100%;\"></div>            <script type=\"text/javascript\">                require([\"plotly\"], function(Plotly) {                    window.PLOTLYENV=window.PLOTLYENV || {};                                    if (document.getElementById(\"e9445c7f-904b-45b5-8d50-6c2c863d9987\")) {                    Plotly.newPlot(                        \"e9445c7f-904b-45b5-8d50-6c2c863d9987\",                        [{\"x\":[\"2024-02-01T00:00:00+05:30\",\"2024-02-02T00:00:00+05:30\",\"2024-02-05T00:00:00+05:30\",\"2024-02-06T00:00:00+05:30\",\"2024-02-07T00:00:00+05:30\",\"2024-02-08T00:00:00+05:30\",\"2024-02-09T00:00:00+05:30\",\"2024-02-12T00:00:00+05:30\",\"2024-02-13T00:00:00+05:30\",\"2024-02-14T00:00:00+05:30\",\"2024-02-15T00:00:00+05:30\",\"2024-02-16T00:00:00+05:30\",\"2024-02-19T00:00:00+05:30\",\"2024-02-20T00:00:00+05:30\",\"2024-02-21T00:00:00+05:30\",\"2024-02-22T00:00:00+05:30\",\"2024-02-23T00:00:00+05:30\",\"2024-02-26T00:00:00+05:30\",\"2024-02-27T00:00:00+05:30\",\"2024-02-28T00:00:00+05:30\",\"2024-02-29T00:00:00+05:30\",\"2024-03-01T00:00:00+05:30\",\"2024-03-04T00:00:00+05:30\",\"2024-03-05T00:00:00+05:30\",\"2024-03-06T00:00:00+05:30\",\"2024-03-07T00:00:00+05:30\",\"2024-03-11T00:00:00+05:30\",\"2024-03-12T00:00:00+05:30\",\"2024-03-13T00:00:00+05:30\",\"2024-03-14T00:00:00+05:30\",\"2024-03-15T00:00:00+05:30\",\"2024-03-18T00:00:00+05:30\",\"2024-03-19T00:00:00+05:30\",\"2024-03-20T00:00:00+05:30\",\"2024-03-21T00:00:00+05:30\",\"2024-03-22T00:00:00+05:30\",\"2024-03-26T00:00:00+05:30\",\"2024-03-27T00:00:00+05:30\",\"2024-03-28T00:00:00+05:30\",\"2024-04-01T00:00:00+05:30\",\"2024-04-02T00:00:00+05:30\",\"2024-04-03T00:00:00+05:30\",\"2024-04-04T00:00:00+05:30\",\"2024-04-05T00:00:00+05:30\",\"2024-04-08T00:00:00+05:30\",\"2024-04-09T00:00:00+05:30\",\"2024-04-10T00:00:00+05:30\",\"2024-04-12T00:00:00+05:30\",\"2024-04-15T00:00:00+05:30\",\"2024-04-16T00:00:00+05:30\",\"2024-04-18T00:00:00+05:30\",\"2024-04-19T00:00:00+05:30\",\"2024-04-22T00:00:00+05:30\",\"2024-04-23T00:00:00+05:30\",\"2024-04-24T00:00:00+05:30\",\"2024-04-25T00:00:00+05:30\",\"2024-04-26T00:00:00+05:30\",\"2024-04-29T00:00:00+05:30\",\"2024-04-30T00:00:00+05:30\"],\"y\":[null,null,null,null,null,null,-62.57896205357143,-77.0859375,-71.671875,-12.921595982142858,-27.207589285714285,-7.929129464285714,36.428292410714285,42.46400669642857,41.171316964285715,49.306919642857146,0.849609375,-6.485770089285714,6.050223214285714,-34.199776785714285,-41.363839285714285,27.814453125,8.700334821428571,17.607700892857142,45.279017857142854,28.150390625,39.30747767857143,32.685825892857146,-70.87834821428571,-47.73549107142857,-51.52845982142857,-63.09291294642857,-79.84291294642857,-54.121651785714285,-51.150390625,34.428292410714285,19.099609375,34.98549107142857,48.942801339285715,68.37137276785714,68.271484375,72.11467633928571,37.543247767857146,33.32896205357143,35.936104910714285,-4.87109375,-1.078125,-22.863839285714285,-39.36411830357143,-25.071428571428573,-59.899832589285715,-31.678571428571427,-14.271484375,-30.357421875,-10.521763392857142,35.19252232142857,3.328125,58.23521205357143,6.763671875],\"type\":\"scatter\"}],                        {\"template\":{\"data\":{\"histogram2dcontour\":[{\"type\":\"histogram2dcontour\",\"colorbar\":{\"outlinewidth\":0,\"ticks\":\"\"},\"colorscale\":[[0.0,\"#0d0887\"],[0.1111111111111111,\"#46039f\"],[0.2222222222222222,\"#7201a8\"],[0.3333333333333333,\"#9c179e\"],[0.4444444444444444,\"#bd3786\"],[0.5555555555555556,\"#d8576b\"],[0.6666666666666666,\"#ed7953\"],[0.7777777777777778,\"#fb9f3a\"],[0.8888888888888888,\"#fdca26\"],[1.0,\"#f0f921\"]]}],\"choropleth\":[{\"type\":\"choropleth\",\"colorbar\":{\"outlinewidth\":0,\"ticks\":\"\"}}],\"histogram2d\":[{\"type\":\"histogram2d\",\"colorbar\":{\"outlinewidth\":0,\"ticks\":\"\"},\"colorscale\":[[0.0,\"#0d0887\"],[0.1111111111111111,\"#46039f\"],[0.2222222222222222,\"#7201a8\"],[0.3333333333333333,\"#9c179e\"],[0.4444444444444444,\"#bd3786\"],[0.5555555555555556,\"#d8576b\"],[0.6666666666666666,\"#ed7953\"],[0.7777777777777778,\"#fb9f3a\"],[0.8888888888888888,\"#fdca26\"],[1.0,\"#f0f921\"]]}],\"heatmap\":[{\"type\":\"heatmap\",\"colorbar\":{\"outlinewidth\":0,\"ticks\":\"\"},\"colorscale\":[[0.0,\"#0d0887\"],[0.1111111111111111,\"#46039f\"],[0.2222222222222222,\"#7201a8\"],[0.3333333333333333,\"#9c179e\"],[0.4444444444444444,\"#bd3786\"],[0.5555555555555556,\"#d8576b\"],[0.6666666666666666,\"#ed7953\"],[0.7777777777777778,\"#fb9f3a\"],[0.8888888888888888,\"#fdca26\"],[1.0,\"#f0f921\"]]}],\"heatmapgl\":[{\"type\":\"heatmapgl\",\"colorbar\":{\"outlinewidth\":0,\"ticks\":\"\"},\"colorscale\":[[0.0,\"#0d0887\"],[0.1111111111111111,\"#46039f\"],[0.2222222222222222,\"#7201a8\"],[0.3333333333333333,\"#9c179e\"],[0.4444444444444444,\"#bd3786\"],[0.5555555555555556,\"#d8576b\"],[0.6666666666666666,\"#ed7953\"],[0.7777777777777778,\"#fb9f3a\"],[0.8888888888888888,\"#fdca26\"],[1.0,\"#f0f921\"]]}],\"contourcarpet\":[{\"type\":\"contourcarpet\",\"colorbar\":{\"outlinewidth\":0,\"ticks\":\"\"}}],\"contour\":[{\"type\":\"contour\",\"colorbar\":{\"outlinewidth\":0,\"ticks\":\"\"},\"colorscale\":[[0.0,\"#0d0887\"],[0.1111111111111111,\"#46039f\"],[0.2222222222222222,\"#7201a8\"],[0.3333333333333333,\"#9c179e\"],[0.4444444444444444,\"#bd3786\"],[0.5555555555555556,\"#d8576b\"],[0.6666666666666666,\"#ed7953\"],[0.7777777777777778,\"#fb9f3a\"],[0.8888888888888888,\"#fdca26\"],[1.0,\"#f0f921\"]]}],\"surface\":[{\"type\":\"surface\",\"colorbar\":{\"outlinewidth\":0,\"ticks\":\"\"},\"colorscale\":[[0.0,\"#0d0887\"],[0.1111111111111111,\"#46039f\"],[0.2222222222222222,\"#7201a8\"],[0.3333333333333333,\"#9c179e\"],[0.4444444444444444,\"#bd3786\"],[0.5555555555555556,\"#d8576b\"],[0.6666666666666666,\"#ed7953\"],[0.7777777777777778,\"#fb9f3a\"],[0.8888888888888888,\"#fdca26\"],[1.0,\"#f0f921\"]]}],\"mesh3d\":[{\"type\":\"mesh3d\",\"colorbar\":{\"outlinewidth\":0,\"ticks\":\"\"}}],\"scatter\":[{\"fillpattern\":{\"fillmode\":\"overlay\",\"size\":10,\"solidity\":0.2},\"type\":\"scatter\"}],\"parcoords\":[{\"type\":\"parcoords\",\"line\":{\"colorbar\":{\"outlinewidth\":0,\"ticks\":\"\"}}}],\"scatterpolargl\":[{\"type\":\"scatterpolargl\",\"marker\":{\"colorbar\":{\"outlinewidth\":0,\"ticks\":\"\"}}}],\"bar\":[{\"error_x\":{\"color\":\"#2a3f5f\"},\"error_y\":{\"color\":\"#2a3f5f\"},\"marker\":{\"line\":{\"color\":\"#E5ECF6\",\"width\":0.5},\"pattern\":{\"fillmode\":\"overlay\",\"size\":10,\"solidity\":0.2}},\"type\":\"bar\"}],\"scattergeo\":[{\"type\":\"scattergeo\",\"marker\":{\"colorbar\":{\"outlinewidth\":0,\"ticks\":\"\"}}}],\"scatterpolar\":[{\"type\":\"scatterpolar\",\"marker\":{\"colorbar\":{\"outlinewidth\":0,\"ticks\":\"\"}}}],\"histogram\":[{\"marker\":{\"pattern\":{\"fillmode\":\"overlay\",\"size\":10,\"solidity\":0.2}},\"type\":\"histogram\"}],\"scattergl\":[{\"type\":\"scattergl\",\"marker\":{\"colorbar\":{\"outlinewidth\":0,\"ticks\":\"\"}}}],\"scatter3d\":[{\"type\":\"scatter3d\",\"line\":{\"colorbar\":{\"outlinewidth\":0,\"ticks\":\"\"}},\"marker\":{\"colorbar\":{\"outlinewidth\":0,\"ticks\":\"\"}}}],\"scattermapbox\":[{\"type\":\"scattermapbox\",\"marker\":{\"colorbar\":{\"outlinewidth\":0,\"ticks\":\"\"}}}],\"scatterternary\":[{\"type\":\"scatterternary\",\"marker\":{\"colorbar\":{\"outlinewidth\":0,\"ticks\":\"\"}}}],\"scattercarpet\":[{\"type\":\"scattercarpet\",\"marker\":{\"colorbar\":{\"outlinewidth\":0,\"ticks\":\"\"}}}],\"carpet\":[{\"aaxis\":{\"endlinecolor\":\"#2a3f5f\",\"gridcolor\":\"white\",\"linecolor\":\"white\",\"minorgridcolor\":\"white\",\"startlinecolor\":\"#2a3f5f\"},\"baxis\":{\"endlinecolor\":\"#2a3f5f\",\"gridcolor\":\"white\",\"linecolor\":\"white\",\"minorgridcolor\":\"white\",\"startlinecolor\":\"#2a3f5f\"},\"type\":\"carpet\"}],\"table\":[{\"cells\":{\"fill\":{\"color\":\"#EBF0F8\"},\"line\":{\"color\":\"white\"}},\"header\":{\"fill\":{\"color\":\"#C8D4E3\"},\"line\":{\"color\":\"white\"}},\"type\":\"table\"}],\"barpolar\":[{\"marker\":{\"line\":{\"color\":\"#E5ECF6\",\"width\":0.5},\"pattern\":{\"fillmode\":\"overlay\",\"size\":10,\"solidity\":0.2}},\"type\":\"barpolar\"}],\"pie\":[{\"automargin\":true,\"type\":\"pie\"}]},\"layout\":{\"autotypenumbers\":\"strict\",\"colorway\":[\"#636efa\",\"#EF553B\",\"#00cc96\",\"#ab63fa\",\"#FFA15A\",\"#19d3f3\",\"#FF6692\",\"#B6E880\",\"#FF97FF\",\"#FECB52\"],\"font\":{\"color\":\"#2a3f5f\"},\"hovermode\":\"closest\",\"hoverlabel\":{\"align\":\"left\"},\"paper_bgcolor\":\"white\",\"plot_bgcolor\":\"#E5ECF6\",\"polar\":{\"bgcolor\":\"#E5ECF6\",\"angularaxis\":{\"gridcolor\":\"white\",\"linecolor\":\"white\",\"ticks\":\"\"},\"radialaxis\":{\"gridcolor\":\"white\",\"linecolor\":\"white\",\"ticks\":\"\"}},\"ternary\":{\"bgcolor\":\"#E5ECF6\",\"aaxis\":{\"gridcolor\":\"white\",\"linecolor\":\"white\",\"ticks\":\"\"},\"baxis\":{\"gridcolor\":\"white\",\"linecolor\":\"white\",\"ticks\":\"\"},\"caxis\":{\"gridcolor\":\"white\",\"linecolor\":\"white\",\"ticks\":\"\"}},\"coloraxis\":{\"colorbar\":{\"outlinewidth\":0,\"ticks\":\"\"}},\"colorscale\":{\"sequential\":[[0.0,\"#0d0887\"],[0.1111111111111111,\"#46039f\"],[0.2222222222222222,\"#7201a8\"],[0.3333333333333333,\"#9c179e\"],[0.4444444444444444,\"#bd3786\"],[0.5555555555555556,\"#d8576b\"],[0.6666666666666666,\"#ed7953\"],[0.7777777777777778,\"#fb9f3a\"],[0.8888888888888888,\"#fdca26\"],[1.0,\"#f0f921\"]],\"sequentialminus\":[[0.0,\"#0d0887\"],[0.1111111111111111,\"#46039f\"],[0.2222222222222222,\"#7201a8\"],[0.3333333333333333,\"#9c179e\"],[0.4444444444444444,\"#bd3786\"],[0.5555555555555556,\"#d8576b\"],[0.6666666666666666,\"#ed7953\"],[0.7777777777777778,\"#fb9f3a\"],[0.8888888888888888,\"#fdca26\"],[1.0,\"#f0f921\"]],\"diverging\":[[0,\"#8e0152\"],[0.1,\"#c51b7d\"],[0.2,\"#de77ae\"],[0.3,\"#f1b6da\"],[0.4,\"#fde0ef\"],[0.5,\"#f7f7f7\"],[0.6,\"#e6f5d0\"],[0.7,\"#b8e186\"],[0.8,\"#7fbc41\"],[0.9,\"#4d9221\"],[1,\"#276419\"]]},\"xaxis\":{\"gridcolor\":\"white\",\"linecolor\":\"white\",\"ticks\":\"\",\"title\":{\"standoff\":15},\"zerolinecolor\":\"white\",\"automargin\":true,\"zerolinewidth\":2},\"yaxis\":{\"gridcolor\":\"white\",\"linecolor\":\"white\",\"ticks\":\"\",\"title\":{\"standoff\":15},\"zerolinecolor\":\"white\",\"automargin\":true,\"zerolinewidth\":2},\"scene\":{\"xaxis\":{\"backgroundcolor\":\"#E5ECF6\",\"gridcolor\":\"white\",\"linecolor\":\"white\",\"showbackground\":true,\"ticks\":\"\",\"zerolinecolor\":\"white\",\"gridwidth\":2},\"yaxis\":{\"backgroundcolor\":\"#E5ECF6\",\"gridcolor\":\"white\",\"linecolor\":\"white\",\"showbackground\":true,\"ticks\":\"\",\"zerolinecolor\":\"white\",\"gridwidth\":2},\"zaxis\":{\"backgroundcolor\":\"#E5ECF6\",\"gridcolor\":\"white\",\"linecolor\":\"white\",\"showbackground\":true,\"ticks\":\"\",\"zerolinecolor\":\"white\",\"gridwidth\":2}},\"shapedefaults\":{\"line\":{\"color\":\"#2a3f5f\"}},\"annotationdefaults\":{\"arrowcolor\":\"#2a3f5f\",\"arrowhead\":0,\"arrowwidth\":1},\"geo\":{\"bgcolor\":\"white\",\"landcolor\":\"#E5ECF6\",\"subunitcolor\":\"white\",\"showland\":true,\"showlakes\":true,\"lakecolor\":\"white\"},\"title\":{\"x\":0.05},\"mapbox\":{\"style\":\"light\"}}}},                        {\"responsive\": true}                    ).then(function(){\n",
              "                            \n",
              "var gd = document.getElementById('e9445c7f-904b-45b5-8d50-6c2c863d9987');\n",
              "var x = new MutationObserver(function (mutations, observer) {{\n",
              "        var display = window.getComputedStyle(gd).display;\n",
              "        if (!display || display === 'none') {{\n",
              "            console.log([gd, 'removed!']);\n",
              "            Plotly.purge(gd);\n",
              "            observer.disconnect();\n",
              "        }}\n",
              "}});\n",
              "\n",
              "// Listen for the removal of the full notebook cells\n",
              "var notebookContainer = gd.closest('#notebook-container');\n",
              "if (notebookContainer) {{\n",
              "    x.observe(notebookContainer, {childList: true});\n",
              "}}\n",
              "\n",
              "// Listen for the clearing of the current output cell\n",
              "var outputEl = gd.closest('.output');\n",
              "if (outputEl) {{\n",
              "    x.observe(outputEl, {childList: true});\n",
              "}}\n",
              "\n",
              "                        })                };                });            </script>        </div>"
            ]
          },
          "metadata": {}
        }
      ]
    },
    {
      "metadata": {
        "id": "0UZo-zwt9COy"
      },
      "cell_type": "markdown",
      "source": [
        "# Volume Bought and Sold and Concept of Over-Selling and Under-Selling"
      ]
    },
    {
      "metadata": {
        "trusted": true,
        "colab": {
          "base_uri": "https://localhost:8080/",
          "height": 1000
        },
        "id": "WgdzEouX9COy",
        "outputId": "155494d5-9ec1-474a-e69f-04bdf46d5703"
      },
      "cell_type": "code",
      "source": [
        "plt.figure(figsize = (18, 9))\n",
        "sb.lineplot(data = data, x = 'Date', y = 'Volume')\n",
        "plt.grid(True)\n",
        "plt.title('Nifty 7 Volume Traded [1 Feb 2024 - 1 May 2024]')\n",
        "plt.show()\n",
        "\n",
        "\n",
        "fig = go.Figure([go.Scatter(x=data.index, y=data['Volume'])])\n",
        "fig.show()"
      ],
      "execution_count": 11,
      "outputs": [
        {
          "output_type": "display_data",
          "data": {
            "text/plain": [
              "<Figure size 1800x900 with 1 Axes>"
            ],
            "image/png": "[encoded data removed]"
          },
          "metadata": {}
        },
        {
          "output_type": "display_data",
          "data": {
            "application/vnd.plotly.v1+json": {
              "data": [
                {
                  "x": [
                    "2024-02-01T00:00:00+05:30",
                    "2024-02-02T00:00:00+05:30",
                    "2024-02-05T00:00:00+05:30",
                    "2024-02-06T00:00:00+05:30",
                    "2024-02-07T00:00:00+05:30",
                    "2024-02-08T00:00:00+05:30",
                    "2024-02-09T00:00:00+05:30",
                    "2024-02-12T00:00:00+05:30",
                    "2024-02-13T00:00:00+05:30",
                    "2024-02-14T00:00:00+05:30",
                    "2024-02-15T00:00:00+05:30",
                    "2024-02-16T00:00:00+05:30",
                    "2024-02-19T00:00:00+05:30",
                    "2024-02-20T00:00:00+05:30",
                    "2024-02-21T00:00:00+05:30",
                    "2024-02-22T00:00:00+05:30",
                    "2024-02-23T00:00:00+05:30",
                    "2024-02-26T00:00:00+05:30",
                    "2024-02-27T00:00:00+05:30",
                    "2024-02-28T00:00:00+05:30",
                    "2024-02-29T00:00:00+05:30",
                    "2024-03-01T00:00:00+05:30",
                    "2024-03-04T00:00:00+05:30",
                    "2024-03-05T00:00:00+05:30",
                    "2024-03-06T00:00:00+05:30",
                    "2024-03-07T00:00:00+05:30",
                    "2024-03-11T00:00:00+05:30",
                    "2024-03-12T00:00:00+05:30",
                    "2024-03-13T00:00:00+05:30",
                    "2024-03-14T00:00:00+05:30",
                    "2024-03-15T00:00:00+05:30",
                    "2024-03-18T00:00:00+05:30",
                    "2024-03-19T00:00:00+05:30",
                    "2024-03-20T00:00:00+05:30",
                    "2024-03-21T00:00:00+05:30",
                    "2024-03-22T00:00:00+05:30",
                    "2024-03-26T00:00:00+05:30",
                    "2024-03-27T00:00:00+05:30",
                    "2024-03-28T00:00:00+05:30",
                    "2024-04-01T00:00:00+05:30",
                    "2024-04-02T00:00:00+05:30",
                    "2024-04-03T00:00:00+05:30",
                    "2024-04-04T00:00:00+05:30",
                    "2024-04-05T00:00:00+05:30",
                    "2024-04-08T00:00:00+05:30",
                    "2024-04-09T00:00:00+05:30",
                    "2024-04-10T00:00:00+05:30",
                    "2024-04-12T00:00:00+05:30",
                    "2024-04-15T00:00:00+05:30",
                    "2024-04-16T00:00:00+05:30",
                    "2024-04-18T00:00:00+05:30",
                    "2024-04-19T00:00:00+05:30",
                    "2024-04-22T00:00:00+05:30",
                    "2024-04-23T00:00:00+05:30",
                    "2024-04-24T00:00:00+05:30",
                    "2024-04-25T00:00:00+05:30",
                    "2024-04-26T00:00:00+05:30",
                    "2024-04-29T00:00:00+05:30",
                    "2024-04-30T00:00:00+05:30"
                  ],
                  "y": [
                    332500,
                    442800,
                    440800,
                    371000,
                    346300,
                    491100,
                    349200,
                    287400,
                    365800,
                    359100,
                    345400,
                    343900,
                    0,
                    295700,
                    364500,
                    343500,
                    226000,
                    207800,
                    252200,
                    203000,
                    360200,
                    351500,
                    298800,
                    296200,
                    312300,
                    379900,
                    277900,
                    299200,
                    493300,
                    426700,
                    661500,
                    356300,
                    344200,
                    312400,
                    353200,
                    388700,
                    328400,
                    409100,
                    410500,
                    0,
                    289500,
                    309600,
                    401000,
                    242200,
                    227600,
                    232400,
                    276800,
                    357200,
                    355500,
                    317300,
                    456900,
                    362500,
                    279300,
                    231500,
                    235900,
                    475000,
                    329900,
                    292000,
                    361900
                  ],
                  "type": "scatter"
                }
              ],
              "layout": {
                "template": {
                  "data": {
                    "histogram2dcontour": [
                      {
                        "type": "histogram2dcontour",
                        "colorbar": {
                          "outlinewidth": 0,
                          "ticks": ""
                        },
                        "colorscale": [
                          [
                            0,
                            "#0d0887"
                          ],
                          [
                            0.1111111111111111,
                            "#46039f"
                          ],
                          [
                            0.2222222222222222,
                            "#7201a8"
                          ],
                          [
                            0.3333333333333333,
                            "#9c179e"
                          ],
                          [
                            0.4444444444444444,
                            "#bd3786"
                          ],
                          [
                            0.5555555555555556,
                            "#d8576b"
                          ],
                          [
                            0.6666666666666666,
                            "#ed7953"
                          ],
                          [
                            0.7777777777777778,
                            "#fb9f3a"
                          ],
                          [
                            0.8888888888888888,
                            "#fdca26"
                          ],
                          [
                            1,
                            "#f0f921"
                          ]
                        ]
                      }
                    ],
                    "choropleth": [
                      {
                        "type": "choropleth",
                        "colorbar": {
                          "outlinewidth": 0,
                          "ticks": ""
                        }
                      }
                    ],
                    "histogram2d": [
                      {
                        "type": "histogram2d",
                        "colorbar": {
                          "outlinewidth": 0,
                          "ticks": ""
                        },
                        "colorscale": [
                          [
                            0,
                            "#0d0887"
                          ],
                          [
                            0.1111111111111111,
                            "#46039f"
                          ],
                          [
                            0.2222222222222222,
                            "#7201a8"
                          ],
                          [
                            0.3333333333333333,
                            "#9c179e"
                          ],
                          [
                            0.4444444444444444,
                            "#bd3786"
                          ],
                          [
                            0.5555555555555556,
                            "#d8576b"
                          ],
                          [
                            0.6666666666666666,
                            "#ed7953"
                          ],
                          [
                            0.7777777777777778,
                            "#fb9f3a"
                          ],
                          [
                            0.8888888888888888,
                            "#fdca26"
                          ],
                          [
                            1,
                            "#f0f921"
                          ]
                        ]
                      }
                    ],
                    "heatmap": [
                      {
                        "type": "heatmap",
                        "colorbar": {
                          "outlinewidth": 0,
                          "ticks": ""
                        },
                        "colorscale": [
                          [
                            0,
                            "#0d0887"
                          ],
                          [
                            0.1111111111111111,
                            "#46039f"
                          ],
                          [
                            0.2222222222222222,
                            "#7201a8"
                          ],
                          [
                            0.3333333333333333,
                            "#9c179e"
                          ],
                          [
                            0.4444444444444444,
                            "#bd3786"
                          ],
                          [
                            0.5555555555555556,
                            "#d8576b"
                          ],
                          [
                            0.6666666666666666,
                            "#ed7953"
                          ],
                          [
                            0.7777777777777778,
                            "#fb9f3a"
                          ],
                          [
                            0.8888888888888888,
                            "#fdca26"
                          ],
                          [
                            1,
                            "#f0f921"
                          ]
                        ]
                      }
                    ],
                    "heatmapgl": [
                      {
                        "type": "heatmapgl",
                        "colorbar": {
                          "outlinewidth": 0,
                          "ticks": ""
                        },
                        "colorscale": [
                          [
                            0,
                            "#0d0887"
                          ],
                          [
                            0.1111111111111111,
                            "#46039f"
                          ],
                          [
                            0.2222222222222222,
                            "#7201a8"
                          ],
                          [
                            0.3333333333333333,
                            "#9c179e"
                          ],
                          [
                            0.4444444444444444,
                            "#bd3786"
                          ],
                          [
                            0.5555555555555556,
                            "#d8576b"
                          ],
                          [
                            0.6666666666666666,
                            "#ed7953"
                          ],
                          [
                            0.7777777777777778,
                            "#fb9f3a"
                          ],
                          [
                            0.8888888888888888,
                            "#fdca26"
                          ],
                          [
                            1,
                            "#f0f921"
                          ]
                        ]
                      }
                    ],
                    "contourcarpet": [
                      {
                        "type": "contourcarpet",
                        "colorbar": {
                          "outlinewidth": 0,
                          "ticks": ""
                        }
                      }
                    ],
                    "contour": [
                      {
                        "type": "contour",
                        "colorbar": {
                          "outlinewidth": 0,
                          "ticks": ""
                        },
                        "colorscale": [
                          [
                            0,
                            "#0d0887"
                          ],
                          [
                            0.1111111111111111,
                            "#46039f"
                          ],
                          [
                            0.2222222222222222,
                            "#7201a8"
                          ],
                          [
                            0.3333333333333333,
                            "#9c179e"
                          ],
                          [
                            0.4444444444444444,
                            "#bd3786"
                          ],
                          [
                            0.5555555555555556,
                            "#d8576b"
                          ],
                          [
                            0.6666666666666666,
                            "#ed7953"
                          ],
                          [
                            0.7777777777777778,
                            "#fb9f3a"
                          ],
                          [
                            0.8888888888888888,
                            "#fdca26"
                          ],
                          [
                            1,
                            "#f0f921"
                          ]
                        ]
                      }
                    ],
                    "surface": [
                      {
                        "type": "surface",
                        "colorbar": {
                          "outlinewidth": 0,
                          "ticks": ""
                        },
                        "colorscale": [
                          [
                            0,
                            "#0d0887"
                          ],
                          [
                            0.1111111111111111,
                            "#46039f"
                          ],
                          [
                            0.2222222222222222,
                            "#7201a8"
                          ],
                          [
                            0.3333333333333333,
                            "#9c179e"
                          ],
                          [
                            0.4444444444444444,
                            "#bd3786"
                          ],
                          [
                            0.5555555555555556,
                            "#d8576b"
                          ],
                          [
                            0.6666666666666666,
                            "#ed7953"
                          ],
                          [
                            0.7777777777777778,
                            "#fb9f3a"
                          ],
                          [
                            0.8888888888888888,
                            "#fdca26"
                          ],
                          [
                            1,
                            "#f0f921"
                          ]
                        ]
                      }
                    ],
                    "mesh3d": [
                      {
                        "type": "mesh3d",
                        "colorbar": {
                          "outlinewidth": 0,
                          "ticks": ""
                        }
                      }
                    ],
                    "scatter": [
                      {
                        "fillpattern": {
                          "fillmode": "overlay",
                          "size": 10,
                          "solidity": 0.2
                        },
                        "type": "scatter"
                      }
                    ],
                    "parcoords": [
                      {
                        "type": "parcoords",
                        "line": {
                          "colorbar": {
                            "outlinewidth": 0,
                            "ticks": ""
                          }
                        }
                      }
                    ],
                    "scatterpolargl": [
                      {
                        "type": "scatterpolargl",
                        "marker": {
                          "colorbar": {
                            "outlinewidth": 0,
                            "ticks": ""
                          }
                        }
                      }
                    ],
                    "bar": [
                      {
                        "error_x": {
                          "color": "#2a3f5f"
                        },
                        "error_y": {
                          "color": "#2a3f5f"
                        },
                        "marker": {
                          "line": {
                            "color": "#E5ECF6",
                            "width": 0.5
                          },
                          "pattern": {
                            "fillmode": "overlay",
                            "size": 10,
                            "solidity": 0.2
                          }
                        },
                        "type": "bar"
                      }
                    ],
                    "scattergeo": [
                      {
                        "type": "scattergeo",
                        "marker": {
                          "colorbar": {
                            "outlinewidth": 0,
                            "ticks": ""
                          }
                        }
                      }
                    ],
                    "scatterpolar": [
                      {
                        "type": "scatterpolar",
                        "marker": {
                          "colorbar": {
                            "outlinewidth": 0,
                            "ticks": ""
                          }
                        }
                      }
                    ],
                    "histogram": [
                      {
                        "marker": {
                          "pattern": {
                            "fillmode": "overlay",
                            "size": 10,
                            "solidity": 0.2
                          }
                        },
                        "type": "histogram"
                      }
                    ],
                    "scattergl": [
                      {
                        "type": "scattergl",
                        "marker": {
                          "colorbar": {
                            "outlinewidth": 0,
                            "ticks": ""
                          }
                        }
                      }
                    ],
                    "scatter3d": [
                      {
                        "type": "scatter3d",
                        "line": {
                          "colorbar": {
                            "outlinewidth": 0,
                            "ticks": ""
                          }
                        },
                        "marker": {
                          "colorbar": {
                            "outlinewidth": 0,
                            "ticks": ""
                          }
                        }
                      }
                    ],
                    "scattermapbox": [
                      {
                        "type": "scattermapbox",
                        "marker": {
                          "colorbar": {
                            "outlinewidth": 0,
                            "ticks": ""
                          }
                        }
                      }
                    ],
                    "scatterternary": [
                      {
                        "type": "scatterternary",
                        "marker": {
                          "colorbar": {
                            "outlinewidth": 0,
                            "ticks": ""
                          }
                        }
                      }
                    ],
                    "scattercarpet": [
                      {
                        "type": "scattercarpet",
                        "marker": {
                          "colorbar": {
                            "outlinewidth": 0,
                            "ticks": ""
                          }
                        }
                      }
                    ],
                    "carpet": [
                      {
                        "aaxis": {
                          "endlinecolor": "#2a3f5f",
                          "gridcolor": "white",
                          "linecolor": "white",
                          "minorgridcolor": "white",
                          "startlinecolor": "#2a3f5f"
                        },
                        "baxis": {
                          "endlinecolor": "#2a3f5f",
                          "gridcolor": "white",
                          "linecolor": "white",
                          "minorgridcolor": "white",
                          "startlinecolor": "#2a3f5f"
                        },
                        "type": "carpet"
                      }
                    ],
                    "table": [
                      {
                        "cells": {
                          "fill": {
                            "color": "#EBF0F8"
                          },
                          "line": {
                            "color": "white"
                          }
                        },
                        "header": {
                          "fill": {
                            "color": "#C8D4E3"
                          },
                          "line": {
                            "color": "white"
                          }
                        },
                        "type": "table"
                      }
                    ],
                    "barpolar": [
                      {
                        "marker": {
                          "line": {
                            "color": "#E5ECF6",
                            "width": 0.5
                          },
                          "pattern": {
                            "fillmode": "overlay",
                            "size": 10,
                            "solidity": 0.2
                          }
                        },
                        "type": "barpolar"
                      }
                    ],
                    "pie": [
                      {
                        "automargin": true,
                        "type": "pie"
                      }
                    ]
                  },
                  "layout": {
                    "autotypenumbers": "strict",
                    "colorway": [
                      "#636efa",
                      "#EF553B",
                      "#00cc96",
                      "#ab63fa",
                      "#FFA15A",
                      "#19d3f3",
                      "#FF6692",
                      "#B6E880",
                      "#FF97FF",
                      "#FECB52"
                    ],
                    "font": {
                      "color": "#2a3f5f"
                    },
                    "hovermode": "closest",
                    "hoverlabel": {
                      "align": "left"
                    },
                    "paper_bgcolor": "white",
                    "plot_bgcolor": "#E5ECF6",
                    "polar": {
                      "bgcolor": "#E5ECF6",
                      "angularaxis": {
                        "gridcolor": "white",
                        "linecolor": "white",
                        "ticks": ""
                      },
                      "radialaxis": {
                        "gridcolor": "white",
                        "linecolor": "white",
                        "ticks": ""
                      }
                    },
                    "ternary": {
                      "bgcolor": "#E5ECF6",
                      "aaxis": {
                        "gridcolor": "white",
                        "linecolor": "white",
                        "ticks": ""
                      },
                      "baxis": {
                        "gridcolor": "white",
                        "linecolor": "white",
                        "ticks": ""
                      },
                      "caxis": {
                        "gridcolor": "white",
                        "linecolor": "white",
                        "ticks": ""
                      }
                    },
                    "coloraxis": {
                      "colorbar": {
                        "outlinewidth": 0,
                        "ticks": ""
                      }
                    },
                    "colorscale": {
                      "sequential": [
                        [
                          0,
                          "#0d0887"
                        ],
                        [
                          0.1111111111111111,
                          "#46039f"
                        ],
                        [
                          0.2222222222222222,
                          "#7201a8"
                        ],
                        [
                          0.3333333333333333,
                          "#9c179e"
                        ],
                        [
                          0.4444444444444444,
                          "#bd3786"
                        ],
                        [
                          0.5555555555555556,
                          "#d8576b"
                        ],
                        [
                          0.6666666666666666,
                          "#ed7953"
                        ],
                        [
                          0.7777777777777778,
                          "#fb9f3a"
                        ],
                        [
                          0.8888888888888888,
                          "#fdca26"
                        ],
                        [
                          1,
                          "#f0f921"
                        ]
                      ],
                      "sequentialminus": [
                        [
                          0,
                          "#0d0887"
                        ],
                        [
                          0.1111111111111111,
                          "#46039f"
                        ],
                        [
                          0.2222222222222222,
                          "#7201a8"
                        ],
                        [
                          0.3333333333333333,
                          "#9c179e"
                        ],
                        [
                          0.4444444444444444,
                          "#bd3786"
                        ],
                        [
                          0.5555555555555556,
                          "#d8576b"
                        ],
                        [
                          0.6666666666666666,
                          "#ed7953"
                        ],
                        [
                          0.7777777777777778,
                          "#fb9f3a"
                        ],
                        [
                          0.8888888888888888,
                          "#fdca26"
                        ],
                        [
                          1,
                          "#f0f921"
                        ]
                      ],
                      "diverging": [
                        [
                          0,
                          "#8e0152"
                        ],
                        [
                          0.1,
                          "#c51b7d"
                        ],
                        [
                          0.2,
                          "#de77ae"
                        ],
                        [
                          0.3,
                          "#f1b6da"
                        ],
                        [
                          0.4,
                          "#fde0ef"
                        ],
                        [
                          0.5,
                          "#f7f7f7"
                        ],
                        [
                          0.6,
                          "#e6f5d0"
                        ],
                        [
                          0.7,
                          "#b8e186"
                        ],
                        [
                          0.8,
                          "#7fbc41"
                        ],
                        [
                          0.9,
                          "#4d9221"
                        ],
                        [
                          1,
                          "#276419"
                        ]
                      ]
                    },
                    "xaxis": {
                      "gridcolor": "white",
                      "linecolor": "white",
                      "ticks": "",
                      "title": {
                        "standoff": 15
                      },
                      "zerolinecolor": "white",
                      "automargin": true,
                      "zerolinewidth": 2
                    },
                    "yaxis": {
                      "gridcolor": "white",
                      "linecolor": "white",
                      "ticks": "",
                      "title": {
                        "standoff": 15
                      },
                      "zerolinecolor": "white",
                      "automargin": true,
                      "zerolinewidth": 2
                    },
                    "scene": {
                      "xaxis": {
                        "backgroundcolor": "#E5ECF6",
                        "gridcolor": "white",
                        "linecolor": "white",
                        "showbackground": true,
                        "ticks": "",
                        "zerolinecolor": "white",
                        "gridwidth": 2
                      },
                      "yaxis": {
                        "backgroundcolor": "#E5ECF6",
                        "gridcolor": "white",
                        "linecolor": "white",
                        "showbackground": true,
                        "ticks": "",
                        "zerolinecolor": "white",
                        "gridwidth": 2
                      },
                      "zaxis": {
                        "backgroundcolor": "#E5ECF6",
                        "gridcolor": "white",
                        "linecolor": "white",
                        "showbackground": true,
                        "ticks": "",
                        "zerolinecolor": "white",
                        "gridwidth": 2
                      }
                    },
                    "shapedefaults": {
                      "line": {
                        "color": "#2a3f5f"
                      }
                    },
                    "annotationdefaults": {
                      "arrowcolor": "#2a3f5f",
                      "arrowhead": 0,
                      "arrowwidth": 1
                    },
                    "geo": {
                      "bgcolor": "white",
                      "landcolor": "#E5ECF6",
                      "subunitcolor": "white",
                      "showland": true,
                      "showlakes": true,
                      "lakecolor": "white"
                    },
                    "title": {
                      "x": 0.05
                    },
                    "mapbox": {
                      "style": "light"
                    }
                  }
                }
              },
              "config": {
                "plotlyServerURL": "https://plot.ly"
              }
            },
            "text/html": [
              "<div>                            <div id=\"490322ac-9571-43b1-ab61-c535c1b5dba8\" class=\"plotly-graph-div\" style=\"height:525px; width:100%;\"></div>            <script type=\"text/javascript\">                require([\"plotly\"], function(Plotly) {                    window.PLOTLYENV=window.PLOTLYENV || {};                                    if (document.getElementById(\"490322ac-9571-43b1-ab61-c535c1b5dba8\")) {                    Plotly.newPlot(                        \"490322ac-9571-43b1-ab61-c535c1b5dba8\",                        [{\"x\":[\"2024-02-01T00:00:00+05:30\",\"2024-02-02T00:00:00+05:30\",\"2024-02-05T00:00:00+05:30\",\"2024-02-06T00:00:00+05:30\",\"2024-02-07T00:00:00+05:30\",\"2024-02-08T00:00:00+05:30\",\"2024-02-09T00:00:00+05:30\",\"2024-02-12T00:00:00+05:30\",\"2024-02-13T00:00:00+05:30\",\"2024-02-14T00:00:00+05:30\",\"2024-02-15T00:00:00+05:30\",\"2024-02-16T00:00:00+05:30\",\"2024-02-19T00:00:00+05:30\",\"2024-02-20T00:00:00+05:30\",\"2024-02-21T00:00:00+05:30\",\"2024-02-22T00:00:00+05:30\",\"2024-02-23T00:00:00+05:30\",\"2024-02-26T00:00:00+05:30\",\"2024-02-27T00:00:00+05:30\",\"2024-02-28T00:00:00+05:30\",\"2024-02-29T00:00:00+05:30\",\"2024-03-01T00:00:00+05:30\",\"2024-03-04T00:00:00+05:30\",\"2024-03-05T00:00:00+05:30\",\"2024-03-06T00:00:00+05:30\",\"2024-03-07T00:00:00+05:30\",\"2024-03-11T00:00:00+05:30\",\"2024-03-12T00:00:00+05:30\",\"2024-03-13T00:00:00+05:30\",\"2024-03-14T00:00:00+05:30\",\"2024-03-15T00:00:00+05:30\",\"2024-03-18T00:00:00+05:30\",\"2024-03-19T00:00:00+05:30\",\"2024-03-20T00:00:00+05:30\",\"2024-03-21T00:00:00+05:30\",\"2024-03-22T00:00:00+05:30\",\"2024-03-26T00:00:00+05:30\",\"2024-03-27T00:00:00+05:30\",\"2024-03-28T00:00:00+05:30\",\"2024-04-01T00:00:00+05:30\",\"2024-04-02T00:00:00+05:30\",\"2024-04-03T00:00:00+05:30\",\"2024-04-04T00:00:00+05:30\",\"2024-04-05T00:00:00+05:30\",\"2024-04-08T00:00:00+05:30\",\"2024-04-09T00:00:00+05:30\",\"2024-04-10T00:00:00+05:30\",\"2024-04-12T00:00:00+05:30\",\"2024-04-15T00:00:00+05:30\",\"2024-04-16T00:00:00+05:30\",\"2024-04-18T00:00:00+05:30\",\"2024-04-19T00:00:00+05:30\",\"2024-04-22T00:00:00+05:30\",\"2024-04-23T00:00:00+05:30\",\"2024-04-24T00:00:00+05:30\",\"2024-04-25T00:00:00+05:30\",\"2024-04-26T00:00:00+05:30\",\"2024-04-29T00:00:00+05:30\",\"2024-04-30T00:00:00+05:30\"],\"y\":[332500,442800,440800,371000,346300,491100,349200,287400,365800,359100,345400,343900,0,295700,364500,343500,226000,207800,252200,203000,360200,351500,298800,296200,312300,379900,277900,299200,493300,426700,661500,356300,344200,312400,353200,388700,328400,409100,410500,0,289500,309600,401000,242200,227600,232400,276800,357200,355500,317300,456900,362500,279300,231500,235900,475000,329900,292000,361900],\"type\":\"scatter\"}],                        {\"template\":{\"data\":{\"histogram2dcontour\":[{\"type\":\"histogram2dcontour\",\"colorbar\":{\"outlinewidth\":0,\"ticks\":\"\"},\"colorscale\":[[0.0,\"#0d0887\"],[0.1111111111111111,\"#46039f\"],[0.2222222222222222,\"#7201a8\"],[0.3333333333333333,\"#9c179e\"],[0.4444444444444444,\"#bd3786\"],[0.5555555555555556,\"#d8576b\"],[0.6666666666666666,\"#ed7953\"],[0.7777777777777778,\"#fb9f3a\"],[0.8888888888888888,\"#fdca26\"],[1.0,\"#f0f921\"]]}],\"choropleth\":[{\"type\":\"choropleth\",\"colorbar\":{\"outlinewidth\":0,\"ticks\":\"\"}}],\"histogram2d\":[{\"type\":\"histogram2d\",\"colorbar\":{\"outlinewidth\":0,\"ticks\":\"\"},\"colorscale\":[[0.0,\"#0d0887\"],[0.1111111111111111,\"#46039f\"],[0.2222222222222222,\"#7201a8\"],[0.3333333333333333,\"#9c179e\"],[0.4444444444444444,\"#bd3786\"],[0.5555555555555556,\"#d8576b\"],[0.6666666666666666,\"#ed7953\"],[0.7777777777777778,\"#fb9f3a\"],[0.8888888888888888,\"#fdca26\"],[1.0,\"#f0f921\"]]}],\"heatmap\":[{\"type\":\"heatmap\",\"colorbar\":{\"outlinewidth\":0,\"ticks\":\"\"},\"colorscale\":[[0.0,\"#0d0887\"],[0.1111111111111111,\"#46039f\"],[0.2222222222222222,\"#7201a8\"],[0.3333333333333333,\"#9c179e\"],[0.4444444444444444,\"#bd3786\"],[0.5555555555555556,\"#d8576b\"],[0.6666666666666666,\"#ed7953\"],[0.7777777777777778,\"#fb9f3a\"],[0.8888888888888888,\"#fdca26\"],[1.0,\"#f0f921\"]]}],\"heatmapgl\":[{\"type\":\"heatmapgl\",\"colorbar\":{\"outlinewidth\":0,\"ticks\":\"\"},\"colorscale\":[[0.0,\"#0d0887\"],[0.1111111111111111,\"#46039f\"],[0.2222222222222222,\"#7201a8\"],[0.3333333333333333,\"#9c179e\"],[0.4444444444444444,\"#bd3786\"],[0.5555555555555556,\"#d8576b\"],[0.6666666666666666,\"#ed7953\"],[0.7777777777777778,\"#fb9f3a\"],[0.8888888888888888,\"#fdca26\"],[1.0,\"#f0f921\"]]}],\"contourcarpet\":[{\"type\":\"contourcarpet\",\"colorbar\":{\"outlinewidth\":0,\"ticks\":\"\"}}],\"contour\":[{\"type\":\"contour\",\"colorbar\":{\"outlinewidth\":0,\"ticks\":\"\"},\"colorscale\":[[0.0,\"#0d0887\"],[0.1111111111111111,\"#46039f\"],[0.2222222222222222,\"#7201a8\"],[0.3333333333333333,\"#9c179e\"],[0.4444444444444444,\"#bd3786\"],[0.5555555555555556,\"#d8576b\"],[0.6666666666666666,\"#ed7953\"],[0.7777777777777778,\"#fb9f3a\"],[0.8888888888888888,\"#fdca26\"],[1.0,\"#f0f921\"]]}],\"surface\":[{\"type\":\"surface\",\"colorbar\":{\"outlinewidth\":0,\"ticks\":\"\"},\"colorscale\":[[0.0,\"#0d0887\"],[0.1111111111111111,\"#46039f\"],[0.2222222222222222,\"#7201a8\"],[0.3333333333333333,\"#9c179e\"],[0.4444444444444444,\"#bd3786\"],[0.5555555555555556,\"#d8576b\"],[0.6666666666666666,\"#ed7953\"],[0.7777777777777778,\"#fb9f3a\"],[0.8888888888888888,\"#fdca26\"],[1.0,\"#f0f921\"]]}],\"mesh3d\":[{\"type\":\"mesh3d\",\"colorbar\":{\"outlinewidth\":0,\"ticks\":\"\"}}],\"scatter\":[{\"fillpattern\":{\"fillmode\":\"overlay\",\"size\":10,\"solidity\":0.2},\"type\":\"scatter\"}],\"parcoords\":[{\"type\":\"parcoords\",\"line\":{\"colorbar\":{\"outlinewidth\":0,\"ticks\":\"\"}}}],\"scatterpolargl\":[{\"type\":\"scatterpolargl\",\"marker\":{\"colorbar\":{\"outlinewidth\":0,\"ticks\":\"\"}}}],\"bar\":[{\"error_x\":{\"color\":\"#2a3f5f\"},\"error_y\":{\"color\":\"#2a3f5f\"},\"marker\":{\"line\":{\"color\":\"#E5ECF6\",\"width\":0.5},\"pattern\":{\"fillmode\":\"overlay\",\"size\":10,\"solidity\":0.2}},\"type\":\"bar\"}],\"scattergeo\":[{\"type\":\"scattergeo\",\"marker\":{\"colorbar\":{\"outlinewidth\":0,\"ticks\":\"\"}}}],\"scatterpolar\":[{\"type\":\"scatterpolar\",\"marker\":{\"colorbar\":{\"outlinewidth\":0,\"ticks\":\"\"}}}],\"histogram\":[{\"marker\":{\"pattern\":{\"fillmode\":\"overlay\",\"size\":10,\"solidity\":0.2}},\"type\":\"histogram\"}],\"scattergl\":[{\"type\":\"scattergl\",\"marker\":{\"colorbar\":{\"outlinewidth\":0,\"ticks\":\"\"}}}],\"scatter3d\":[{\"type\":\"scatter3d\",\"line\":{\"colorbar\":{\"outlinewidth\":0,\"ticks\":\"\"}},\"marker\":{\"colorbar\":{\"outlinewidth\":0,\"ticks\":\"\"}}}],\"scattermapbox\":[{\"type\":\"scattermapbox\",\"marker\":{\"colorbar\":{\"outlinewidth\":0,\"ticks\":\"\"}}}],\"scatterternary\":[{\"type\":\"scatterternary\",\"marker\":{\"colorbar\":{\"outlinewidth\":0,\"ticks\":\"\"}}}],\"scattercarpet\":[{\"type\":\"scattercarpet\",\"marker\":{\"colorbar\":{\"outlinewidth\":0,\"ticks\":\"\"}}}],\"carpet\":[{\"aaxis\":{\"endlinecolor\":\"#2a3f5f\",\"gridcolor\":\"white\",\"linecolor\":\"white\",\"minorgridcolor\":\"white\",\"startlinecolor\":\"#2a3f5f\"},\"baxis\":{\"endlinecolor\":\"#2a3f5f\",\"gridcolor\":\"white\",\"linecolor\":\"white\",\"minorgridcolor\":\"white\",\"startlinecolor\":\"#2a3f5f\"},\"type\":\"carpet\"}],\"table\":[{\"cells\":{\"fill\":{\"color\":\"#EBF0F8\"},\"line\":{\"color\":\"white\"}},\"header\":{\"fill\":{\"color\":\"#C8D4E3\"},\"line\":{\"color\":\"white\"}},\"type\":\"table\"}],\"barpolar\":[{\"marker\":{\"line\":{\"color\":\"#E5ECF6\",\"width\":0.5},\"pattern\":{\"fillmode\":\"overlay\",\"size\":10,\"solidity\":0.2}},\"type\":\"barpolar\"}],\"pie\":[{\"automargin\":true,\"type\":\"pie\"}]},\"layout\":{\"autotypenumbers\":\"strict\",\"colorway\":[\"#636efa\",\"#EF553B\",\"#00cc96\",\"#ab63fa\",\"#FFA15A\",\"#19d3f3\",\"#FF6692\",\"#B6E880\",\"#FF97FF\",\"#FECB52\"],\"font\":{\"color\":\"#2a3f5f\"},\"hovermode\":\"closest\",\"hoverlabel\":{\"align\":\"left\"},\"paper_bgcolor\":\"white\",\"plot_bgcolor\":\"#E5ECF6\",\"polar\":{\"bgcolor\":\"#E5ECF6\",\"angularaxis\":{\"gridcolor\":\"white\",\"linecolor\":\"white\",\"ticks\":\"\"},\"radialaxis\":{\"gridcolor\":\"white\",\"linecolor\":\"white\",\"ticks\":\"\"}},\"ternary\":{\"bgcolor\":\"#E5ECF6\",\"aaxis\":{\"gridcolor\":\"white\",\"linecolor\":\"white\",\"ticks\":\"\"},\"baxis\":{\"gridcolor\":\"white\",\"linecolor\":\"white\",\"ticks\":\"\"},\"caxis\":{\"gridcolor\":\"white\",\"linecolor\":\"white\",\"ticks\":\"\"}},\"coloraxis\":{\"colorbar\":{\"outlinewidth\":0,\"ticks\":\"\"}},\"colorscale\":{\"sequential\":[[0.0,\"#0d0887\"],[0.1111111111111111,\"#46039f\"],[0.2222222222222222,\"#7201a8\"],[0.3333333333333333,\"#9c179e\"],[0.4444444444444444,\"#bd3786\"],[0.5555555555555556,\"#d8576b\"],[0.6666666666666666,\"#ed7953\"],[0.7777777777777778,\"#fb9f3a\"],[0.8888888888888888,\"#fdca26\"],[1.0,\"#f0f921\"]],\"sequentialminus\":[[0.0,\"#0d0887\"],[0.1111111111111111,\"#46039f\"],[0.2222222222222222,\"#7201a8\"],[0.3333333333333333,\"#9c179e\"],[0.4444444444444444,\"#bd3786\"],[0.5555555555555556,\"#d8576b\"],[0.6666666666666666,\"#ed7953\"],[0.7777777777777778,\"#fb9f3a\"],[0.8888888888888888,\"#fdca26\"],[1.0,\"#f0f921\"]],\"diverging\":[[0,\"#8e0152\"],[0.1,\"#c51b7d\"],[0.2,\"#de77ae\"],[0.3,\"#f1b6da\"],[0.4,\"#fde0ef\"],[0.5,\"#f7f7f7\"],[0.6,\"#e6f5d0\"],[0.7,\"#b8e186\"],[0.8,\"#7fbc41\"],[0.9,\"#4d9221\"],[1,\"#276419\"]]},\"xaxis\":{\"gridcolor\":\"white\",\"linecolor\":\"white\",\"ticks\":\"\",\"title\":{\"standoff\":15},\"zerolinecolor\":\"white\",\"automargin\":true,\"zerolinewidth\":2},\"yaxis\":{\"gridcolor\":\"white\",\"linecolor\":\"white\",\"ticks\":\"\",\"title\":{\"standoff\":15},\"zerolinecolor\":\"white\",\"automargin\":true,\"zerolinewidth\":2},\"scene\":{\"xaxis\":{\"backgroundcolor\":\"#E5ECF6\",\"gridcolor\":\"white\",\"linecolor\":\"white\",\"showbackground\":true,\"ticks\":\"\",\"zerolinecolor\":\"white\",\"gridwidth\":2},\"yaxis\":{\"backgroundcolor\":\"#E5ECF6\",\"gridcolor\":\"white\",\"linecolor\":\"white\",\"showbackground\":true,\"ticks\":\"\",\"zerolinecolor\":\"white\",\"gridwidth\":2},\"zaxis\":{\"backgroundcolor\":\"#E5ECF6\",\"gridcolor\":\"white\",\"linecolor\":\"white\",\"showbackground\":true,\"ticks\":\"\",\"zerolinecolor\":\"white\",\"gridwidth\":2}},\"shapedefaults\":{\"line\":{\"color\":\"#2a3f5f\"}},\"annotationdefaults\":{\"arrowcolor\":\"#2a3f5f\",\"arrowhead\":0,\"arrowwidth\":1},\"geo\":{\"bgcolor\":\"white\",\"landcolor\":\"#E5ECF6\",\"subunitcolor\":\"white\",\"showland\":true,\"showlakes\":true,\"lakecolor\":\"white\"},\"title\":{\"x\":0.05},\"mapbox\":{\"style\":\"light\"}}}},                        {\"responsive\": true}                    ).then(function(){\n",
              "                            \n",
              "var gd = document.getElementById('490322ac-9571-43b1-ab61-c535c1b5dba8');\n",
              "var x = new MutationObserver(function (mutations, observer) {{\n",
              "        var display = window.getComputedStyle(gd).display;\n",
              "        if (!display || display === 'none') {{\n",
              "            console.log([gd, 'removed!']);\n",
              "            Plotly.purge(gd);\n",
              "            observer.disconnect();\n",
              "        }}\n",
              "}});\n",
              "\n",
              "// Listen for the removal of the full notebook cells\n",
              "var notebookContainer = gd.closest('#notebook-container');\n",
              "if (notebookContainer) {{\n",
              "    x.observe(notebookContainer, {childList: true});\n",
              "}}\n",
              "\n",
              "// Listen for the clearing of the current output cell\n",
              "var outputEl = gd.closest('.output');\n",
              "if (outputEl) {{\n",
              "    x.observe(outputEl, {childList: true});\n",
              "}}\n",
              "\n",
              "                        })                };                });            </script>        </div>"
            ]
          },
          "metadata": {}
        }
      ]
    },
    {
      "metadata": {
        "trusted": true,
        "id": "1v6214XR9COy"
      },
      "cell_type": "code",
      "source": [
        "####################################################################\n",
        "# To Do: Continue our Analysis                                     #\n",
        "####################################################################\n",
        "\n",
        "####################################################################\n",
        "# Thanks for Readaing Will be adding more to this notebook shortly #\n",
        "####################################################################"
      ],
      "execution_count": null,
      "outputs": []
    }
  ],
  "metadata": {
    "kernelspec": {
      "name": "python3",
      "display_name": "Python 3",
      "language": "python"
    },
    "language_info": {
      "name": "python",
      "version": "3.7.9",
      "mimetype": "text/x-python",
      "codemirror_mode": {
        "name": "ipython",
        "version": 3
      },
      "pygments_lexer": "ipython3",
      "nbconvert_exporter": "python",
      "file_extension": ".py"
    },
    "colab": {
      "provenance": []
    }
  },
  "nbformat": 4,
  "nbformat_minor": 0
}